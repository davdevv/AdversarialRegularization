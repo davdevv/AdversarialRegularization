{
  "nbformat": 4,
  "nbformat_minor": 0,
  "metadata": {
    "colab": {
      "name": "filters.ipynb",
      "provenance": [],
      "collapsed_sections": [],
      "authorship_tag": "ABX9TyNeVLWczWOeH05QXYdjasQf",
      "include_colab_link": true
    },
    "kernelspec": {
      "name": "python3",
      "display_name": "Python 3"
    },
    "language_info": {
      "name": "python"
    },
    "widgets": {
      "application/vnd.jupyter.widget-state+json": {
        "5f5cccb98ddc494c849ae5dbfb205f7f": {
          "model_module": "@jupyter-widgets/controls",
          "model_name": "HBoxModel",
          "model_module_version": "1.5.0",
          "state": {
            "_dom_classes": [],
            "_model_module": "@jupyter-widgets/controls",
            "_model_module_version": "1.5.0",
            "_model_name": "HBoxModel",
            "_view_count": null,
            "_view_module": "@jupyter-widgets/controls",
            "_view_module_version": "1.5.0",
            "_view_name": "HBoxView",
            "box_style": "",
            "children": [
              "IPY_MODEL_1aff86b7987c4b71981258d89bcc5303",
              "IPY_MODEL_c89162433d2c438eb9a04a3db4064e82",
              "IPY_MODEL_2a7f0708234d47d1ae3433e9cf7742bb"
            ],
            "layout": "IPY_MODEL_20fb782d157247aaab68ae9aa864f3e5"
          }
        },
        "1aff86b7987c4b71981258d89bcc5303": {
          "model_module": "@jupyter-widgets/controls",
          "model_name": "HTMLModel",
          "model_module_version": "1.5.0",
          "state": {
            "_dom_classes": [],
            "_model_module": "@jupyter-widgets/controls",
            "_model_module_version": "1.5.0",
            "_model_name": "HTMLModel",
            "_view_count": null,
            "_view_module": "@jupyter-widgets/controls",
            "_view_module_version": "1.5.0",
            "_view_name": "HTMLView",
            "description": "",
            "description_tooltip": null,
            "layout": "IPY_MODEL_9f55f5752b3f4625889f934c191d5fe8",
            "placeholder": "​",
            "style": "IPY_MODEL_5c7b6dbd76d44fa8ab3863c2db47c829",
            "value": ""
          }
        },
        "c89162433d2c438eb9a04a3db4064e82": {
          "model_module": "@jupyter-widgets/controls",
          "model_name": "FloatProgressModel",
          "model_module_version": "1.5.0",
          "state": {
            "_dom_classes": [],
            "_model_module": "@jupyter-widgets/controls",
            "_model_module_version": "1.5.0",
            "_model_name": "FloatProgressModel",
            "_view_count": null,
            "_view_module": "@jupyter-widgets/controls",
            "_view_module_version": "1.5.0",
            "_view_name": "ProgressView",
            "bar_style": "success",
            "description": "",
            "description_tooltip": null,
            "layout": "IPY_MODEL_2c03be33e2eb41358e50b95b9c72ca71",
            "max": 170498071,
            "min": 0,
            "orientation": "horizontal",
            "style": "IPY_MODEL_6b76832ae6294dc1a2f8a125348be93f",
            "value": 170498071
          }
        },
        "2a7f0708234d47d1ae3433e9cf7742bb": {
          "model_module": "@jupyter-widgets/controls",
          "model_name": "HTMLModel",
          "model_module_version": "1.5.0",
          "state": {
            "_dom_classes": [],
            "_model_module": "@jupyter-widgets/controls",
            "_model_module_version": "1.5.0",
            "_model_name": "HTMLModel",
            "_view_count": null,
            "_view_module": "@jupyter-widgets/controls",
            "_view_module_version": "1.5.0",
            "_view_name": "HTMLView",
            "description": "",
            "description_tooltip": null,
            "layout": "IPY_MODEL_4f131012b41246b3aa9b2b39e09756a2",
            "placeholder": "​",
            "style": "IPY_MODEL_5e3074fbdcdf4bb2ad3a4a3f4c64abd3",
            "value": " 170499072/? [00:03&lt;00:00, 58513072.04it/s]"
          }
        },
        "20fb782d157247aaab68ae9aa864f3e5": {
          "model_module": "@jupyter-widgets/base",
          "model_name": "LayoutModel",
          "model_module_version": "1.2.0",
          "state": {
            "_model_module": "@jupyter-widgets/base",
            "_model_module_version": "1.2.0",
            "_model_name": "LayoutModel",
            "_view_count": null,
            "_view_module": "@jupyter-widgets/base",
            "_view_module_version": "1.2.0",
            "_view_name": "LayoutView",
            "align_content": null,
            "align_items": null,
            "align_self": null,
            "border": null,
            "bottom": null,
            "display": null,
            "flex": null,
            "flex_flow": null,
            "grid_area": null,
            "grid_auto_columns": null,
            "grid_auto_flow": null,
            "grid_auto_rows": null,
            "grid_column": null,
            "grid_gap": null,
            "grid_row": null,
            "grid_template_areas": null,
            "grid_template_columns": null,
            "grid_template_rows": null,
            "height": null,
            "justify_content": null,
            "justify_items": null,
            "left": null,
            "margin": null,
            "max_height": null,
            "max_width": null,
            "min_height": null,
            "min_width": null,
            "object_fit": null,
            "object_position": null,
            "order": null,
            "overflow": null,
            "overflow_x": null,
            "overflow_y": null,
            "padding": null,
            "right": null,
            "top": null,
            "visibility": null,
            "width": null
          }
        },
        "9f55f5752b3f4625889f934c191d5fe8": {
          "model_module": "@jupyter-widgets/base",
          "model_name": "LayoutModel",
          "model_module_version": "1.2.0",
          "state": {
            "_model_module": "@jupyter-widgets/base",
            "_model_module_version": "1.2.0",
            "_model_name": "LayoutModel",
            "_view_count": null,
            "_view_module": "@jupyter-widgets/base",
            "_view_module_version": "1.2.0",
            "_view_name": "LayoutView",
            "align_content": null,
            "align_items": null,
            "align_self": null,
            "border": null,
            "bottom": null,
            "display": null,
            "flex": null,
            "flex_flow": null,
            "grid_area": null,
            "grid_auto_columns": null,
            "grid_auto_flow": null,
            "grid_auto_rows": null,
            "grid_column": null,
            "grid_gap": null,
            "grid_row": null,
            "grid_template_areas": null,
            "grid_template_columns": null,
            "grid_template_rows": null,
            "height": null,
            "justify_content": null,
            "justify_items": null,
            "left": null,
            "margin": null,
            "max_height": null,
            "max_width": null,
            "min_height": null,
            "min_width": null,
            "object_fit": null,
            "object_position": null,
            "order": null,
            "overflow": null,
            "overflow_x": null,
            "overflow_y": null,
            "padding": null,
            "right": null,
            "top": null,
            "visibility": null,
            "width": null
          }
        },
        "5c7b6dbd76d44fa8ab3863c2db47c829": {
          "model_module": "@jupyter-widgets/controls",
          "model_name": "DescriptionStyleModel",
          "model_module_version": "1.5.0",
          "state": {
            "_model_module": "@jupyter-widgets/controls",
            "_model_module_version": "1.5.0",
            "_model_name": "DescriptionStyleModel",
            "_view_count": null,
            "_view_module": "@jupyter-widgets/base",
            "_view_module_version": "1.2.0",
            "_view_name": "StyleView",
            "description_width": ""
          }
        },
        "2c03be33e2eb41358e50b95b9c72ca71": {
          "model_module": "@jupyter-widgets/base",
          "model_name": "LayoutModel",
          "model_module_version": "1.2.0",
          "state": {
            "_model_module": "@jupyter-widgets/base",
            "_model_module_version": "1.2.0",
            "_model_name": "LayoutModel",
            "_view_count": null,
            "_view_module": "@jupyter-widgets/base",
            "_view_module_version": "1.2.0",
            "_view_name": "LayoutView",
            "align_content": null,
            "align_items": null,
            "align_self": null,
            "border": null,
            "bottom": null,
            "display": null,
            "flex": null,
            "flex_flow": null,
            "grid_area": null,
            "grid_auto_columns": null,
            "grid_auto_flow": null,
            "grid_auto_rows": null,
            "grid_column": null,
            "grid_gap": null,
            "grid_row": null,
            "grid_template_areas": null,
            "grid_template_columns": null,
            "grid_template_rows": null,
            "height": null,
            "justify_content": null,
            "justify_items": null,
            "left": null,
            "margin": null,
            "max_height": null,
            "max_width": null,
            "min_height": null,
            "min_width": null,
            "object_fit": null,
            "object_position": null,
            "order": null,
            "overflow": null,
            "overflow_x": null,
            "overflow_y": null,
            "padding": null,
            "right": null,
            "top": null,
            "visibility": null,
            "width": null
          }
        },
        "6b76832ae6294dc1a2f8a125348be93f": {
          "model_module": "@jupyter-widgets/controls",
          "model_name": "ProgressStyleModel",
          "model_module_version": "1.5.0",
          "state": {
            "_model_module": "@jupyter-widgets/controls",
            "_model_module_version": "1.5.0",
            "_model_name": "ProgressStyleModel",
            "_view_count": null,
            "_view_module": "@jupyter-widgets/base",
            "_view_module_version": "1.2.0",
            "_view_name": "StyleView",
            "bar_color": null,
            "description_width": ""
          }
        },
        "4f131012b41246b3aa9b2b39e09756a2": {
          "model_module": "@jupyter-widgets/base",
          "model_name": "LayoutModel",
          "model_module_version": "1.2.0",
          "state": {
            "_model_module": "@jupyter-widgets/base",
            "_model_module_version": "1.2.0",
            "_model_name": "LayoutModel",
            "_view_count": null,
            "_view_module": "@jupyter-widgets/base",
            "_view_module_version": "1.2.0",
            "_view_name": "LayoutView",
            "align_content": null,
            "align_items": null,
            "align_self": null,
            "border": null,
            "bottom": null,
            "display": null,
            "flex": null,
            "flex_flow": null,
            "grid_area": null,
            "grid_auto_columns": null,
            "grid_auto_flow": null,
            "grid_auto_rows": null,
            "grid_column": null,
            "grid_gap": null,
            "grid_row": null,
            "grid_template_areas": null,
            "grid_template_columns": null,
            "grid_template_rows": null,
            "height": null,
            "justify_content": null,
            "justify_items": null,
            "left": null,
            "margin": null,
            "max_height": null,
            "max_width": null,
            "min_height": null,
            "min_width": null,
            "object_fit": null,
            "object_position": null,
            "order": null,
            "overflow": null,
            "overflow_x": null,
            "overflow_y": null,
            "padding": null,
            "right": null,
            "top": null,
            "visibility": null,
            "width": null
          }
        },
        "5e3074fbdcdf4bb2ad3a4a3f4c64abd3": {
          "model_module": "@jupyter-widgets/controls",
          "model_name": "DescriptionStyleModel",
          "model_module_version": "1.5.0",
          "state": {
            "_model_module": "@jupyter-widgets/controls",
            "_model_module_version": "1.5.0",
            "_model_name": "DescriptionStyleModel",
            "_view_count": null,
            "_view_module": "@jupyter-widgets/base",
            "_view_module_version": "1.2.0",
            "_view_name": "StyleView",
            "description_width": ""
          }
        }
      }
    },
    "accelerator": "GPU"
  },
  "cells": [
    {
      "cell_type": "markdown",
      "metadata": {
        "id": "view-in-github",
        "colab_type": "text"
      },
      "source": [
        "<a href=\"https://colab.research.google.com/github/realfolkcode/AdversarialRegularization/blob/main/regularization.ipynb\" target=\"_parent\"><img src=\"https://colab.research.google.com/assets/colab-badge.svg\" alt=\"Open In Colab\"/></a>"
      ]
    },
    {
      "cell_type": "markdown",
      "source": [
        "# Install and import"
      ],
      "metadata": {
        "id": "xroV2mE8Aqjf"
      }
    },
    {
      "cell_type": "code",
      "execution_count": 1,
      "metadata": {
        "id": "Vr0z-_t8jzJO"
      },
      "outputs": [],
      "source": [
        "import os\n",
        "import torch\n",
        "import torchvision\n",
        "from torchvision import transforms\n",
        "from torch import nn\n",
        "from torch.utils.data import Dataset, DataLoader, Subset\n",
        "from sklearn.model_selection import train_test_split\n",
        "import numpy as np\n",
        "import pandas as pd\n",
        "from tqdm import tqdm\n",
        "import matplotlib.pyplot as plt\n",
        "%matplotlib inline\n",
        "\n",
        "device = torch.device('cuda:0' if torch.cuda.is_available() else 'cpu')"
      ]
    },
    {
      "cell_type": "code",
      "source": [
        "!git clone https://github.com/realfolkcode/AdversarialRegularization.git"
      ],
      "metadata": {
        "colab": {
          "base_uri": "https://localhost:8080/"
        },
        "id": "sETUwJ7aVC-2",
        "outputId": "12e7da12-15ae-44ea-841a-4f96c62d27e5"
      },
      "execution_count": 2,
      "outputs": [
        {
          "output_type": "stream",
          "name": "stdout",
          "text": [
            "Cloning into 'AdversarialRegularization'...\n",
            "remote: Enumerating objects: 77, done.\u001b[K\n",
            "remote: Counting objects: 100% (77/77), done.\u001b[K\n",
            "remote: Compressing objects: 100% (68/68), done.\u001b[K\n",
            "remote: Total 77 (delta 33), reused 22 (delta 6), pack-reused 0\u001b[K\n",
            "Unpacking objects: 100% (77/77), done.\n"
          ]
        }
      ]
    },
    {
      "cell_type": "code",
      "source": [
        "from AdversarialRegularization.utils import *"
      ],
      "metadata": {
        "id": "Vf-LLike5WXP"
      },
      "execution_count": 3,
      "outputs": []
    },
    {
      "cell_type": "markdown",
      "source": [
        "# Loading Models"
      ],
      "metadata": {
        "id": "yylNEvxPGpnO"
      }
    },
    {
      "cell_type": "code",
      "source": [
        "class CNN(nn.Module):\n",
        "    def __init__(self, num_classes=100):\n",
        "        super(CNN, self).__init__()\n",
        "        self.features = nn.Sequential(\n",
        "            nn.Conv2d(3, 64, kernel_size=(7, 7), stride=(2, 2), padding=(3, 3), bias=False),\n",
        "            nn.BatchNorm2d(64),\n",
        "            nn.ReLU(),\n",
        "\n",
        "            nn.Conv2d(64, 128, kernel_size=(5, 5), stride=(2, 2), padding=(2, 2), bias=False),\n",
        "            nn.BatchNorm2d(128),\n",
        "            nn.ReLU(),\n",
        "\n",
        "            nn.Conv2d(128, 128, kernel_size=(5, 5), stride=(2, 2), padding=(2, 2), bias=False),\n",
        "            nn.BatchNorm2d(128),\n",
        "            nn.ReLU(),\n",
        "\n",
        "            nn.Conv2d(128, 256, kernel_size=(3, 3), stride=(2, 2), padding=(1, 1), bias=False),\n",
        "            nn.BatchNorm2d(256),\n",
        "            nn.ReLU(),\n",
        "        )\n",
        "        self.classifier = nn.Sequential(\n",
        "            nn.AdaptiveAvgPool2d(1),\n",
        "            nn.Flatten(),\n",
        "            nn.Linear(256, num_classes)\n",
        "        )\n",
        "\n",
        "    def forward(self, x):\n",
        "        batch_size = x.shape[0]\n",
        "        x = self.features(x)\n",
        "        x = self.classifier(x)\n",
        "        return x"
      ],
      "metadata": {
        "id": "TK3TxdITVIN6"
      },
      "execution_count": 4,
      "outputs": []
    },
    {
      "cell_type": "markdown",
      "source": [
        "We want to collect good filters. For that purpose, we load models that have been trained on a large dataset. These models differ only in initial weight initialization."
      ],
      "metadata": {
        "id": "8b0Uh7V_C9t9"
      }
    },
    {
      "cell_type": "code",
      "source": [
        "model_dir = 'AdversarialRegularization/models/'\n",
        "model_lst = []\n",
        "\n",
        "for model_name in os.listdir('AdversarialRegularization/models/'):\n",
        "    model_path = os.path.join(model_dir, model_name)\n",
        "    model = CNN(num_classes=100)\n",
        "    model.load_state_dict(torch.load(model_path, map_location='cpu'))\n",
        "    model_lst.append(model)"
      ],
      "metadata": {
        "id": "VtL_v--EAofB"
      },
      "execution_count": 5,
      "outputs": []
    },
    {
      "cell_type": "code",
      "source": [
        "model_lst[0]"
      ],
      "metadata": {
        "colab": {
          "base_uri": "https://localhost:8080/"
        },
        "id": "2DfSecfAVNvU",
        "outputId": "8fc433d9-3e62-4669-83e3-026637f0b21a"
      },
      "execution_count": 6,
      "outputs": [
        {
          "output_type": "execute_result",
          "data": {
            "text/plain": [
              "CNN(\n",
              "  (features): Sequential(\n",
              "    (0): Conv2d(3, 64, kernel_size=(7, 7), stride=(2, 2), padding=(3, 3), bias=False)\n",
              "    (1): BatchNorm2d(64, eps=1e-05, momentum=0.1, affine=True, track_running_stats=True)\n",
              "    (2): ReLU()\n",
              "    (3): Conv2d(64, 128, kernel_size=(5, 5), stride=(2, 2), padding=(2, 2), bias=False)\n",
              "    (4): BatchNorm2d(128, eps=1e-05, momentum=0.1, affine=True, track_running_stats=True)\n",
              "    (5): ReLU()\n",
              "    (6): Conv2d(128, 128, kernel_size=(5, 5), stride=(2, 2), padding=(2, 2), bias=False)\n",
              "    (7): BatchNorm2d(128, eps=1e-05, momentum=0.1, affine=True, track_running_stats=True)\n",
              "    (8): ReLU()\n",
              "    (9): Conv2d(128, 256, kernel_size=(3, 3), stride=(2, 2), padding=(1, 1), bias=False)\n",
              "    (10): BatchNorm2d(256, eps=1e-05, momentum=0.1, affine=True, track_running_stats=True)\n",
              "    (11): ReLU()\n",
              "  )\n",
              "  (classifier): Sequential(\n",
              "    (0): AdaptiveAvgPool2d(output_size=1)\n",
              "    (1): Flatten(start_dim=1, end_dim=-1)\n",
              "    (2): Linear(in_features=256, out_features=100, bias=True)\n",
              "  )\n",
              ")"
            ]
          },
          "metadata": {},
          "execution_count": 6
        }
      ]
    },
    {
      "cell_type": "code",
      "source": [
        "print('Number of models:', len(model_lst))"
      ],
      "metadata": {
        "colab": {
          "base_uri": "https://localhost:8080/"
        },
        "id": "1sqTHeArB5w4",
        "outputId": "1336a7fd-8a63-4176-e9aa-78e5760d1fff"
      },
      "execution_count": 7,
      "outputs": [
        {
          "output_type": "stream",
          "name": "stdout",
          "text": [
            "Number of models: 5\n"
          ]
        }
      ]
    },
    {
      "cell_type": "markdown",
      "source": [
        "# Filter Dataset"
      ],
      "metadata": {
        "id": "VQIxvF74Gtf9"
      }
    },
    {
      "cell_type": "markdown",
      "source": [
        "Let us create a class for filters dataset to make life easier. We will use it to train discriminators. As input, it would take a list of convolution layers (kernel sizes must be the same)."
      ],
      "metadata": {
        "id": "s2JgDDoWCkdB"
      }
    },
    {
      "cell_type": "code",
      "source": [
        "# A freezed dataset of filters that does not stores gradients.\n",
        "\n",
        "class FilterDataset(Dataset):\n",
        "    def __init__(self, layer_lst):\n",
        "        self.kernels = [layer.weight.data.clone() for layer in layer_lst]\n",
        "        self.kernels = torch.cat(self.kernels)\n",
        "        c_out, c_in, h, w = self.kernels.shape\n",
        "        self.kernels = self.kernels.view(c_out * c_in, -1, h, w)\n",
        "    \n",
        "    def __len__(self):\n",
        "        return len(self.kernels)\n",
        "    \n",
        "    def __getitem__(self, idx):\n",
        "        return self.kernels[idx]"
      ],
      "metadata": {
        "id": "jG88TQK0sSy-"
      },
      "execution_count": 8,
      "outputs": []
    },
    {
      "cell_type": "code",
      "source": [
        "# A differentiable version of this dataset. We use it to construct dataset of filters to train generative part of classifier.\n",
        "\n",
        "class ParameterFilterDataset(Dataset):\n",
        "    def __init__(self, layer):\n",
        "        self.kernels = layer.weight\n",
        "        c_out, c_in, h, w = self.kernels.shape\n",
        "        self.kernels = self.kernels.view(c_out * c_in, -1, h, w)\n",
        "    \n",
        "    def __len__(self):\n",
        "        return len(self.kernels)\n",
        "    \n",
        "    def __getitem__(self, idx):\n",
        "        return self.kernels[idx]"
      ],
      "metadata": {
        "id": "b6XU6iWCfK_p"
      },
      "execution_count": 9,
      "outputs": []
    },
    {
      "cell_type": "code",
      "source": [
        "model_lst[0].features[0]"
      ],
      "metadata": {
        "colab": {
          "base_uri": "https://localhost:8080/"
        },
        "id": "7H03NnZSD6JX",
        "outputId": "8e62a103-c1f8-45c3-b2f2-6b78726513bf"
      },
      "execution_count": 10,
      "outputs": [
        {
          "output_type": "execute_result",
          "data": {
            "text/plain": [
              "Conv2d(3, 64, kernel_size=(7, 7), stride=(2, 2), padding=(3, 3), bias=False)"
            ]
          },
          "metadata": {},
          "execution_count": 10
        }
      ]
    },
    {
      "cell_type": "code",
      "source": [
        "RANDOM_SEED = 0\n",
        "set_random_seeds(seed_value=RANDOM_SEED, device=device)"
      ],
      "metadata": {
        "id": "XU8Xbs0-5e6x"
      },
      "execution_count": 11,
      "outputs": []
    },
    {
      "cell_type": "code",
      "source": [
        "filter_bs = 128\n",
        "\n",
        "filters_data = []\n",
        "filters_loader = []\n",
        "\n",
        "# Create datasets for 7x7, 5x5, 5x5 kernels from corresponding convolution layers \n",
        "filters_data.append(FilterDataset([model.features[0] for model in model_lst]))\n",
        "filters_data.append(FilterDataset([model_lst[0].features[3]]))\n",
        "filters_data.append(FilterDataset([model_lst[0].features[6]]))\n",
        "\n",
        "# Create dataloaders for filters datasets\n",
        "for i in range(len(filters_data)):\n",
        "    filters_loader.append(DataLoader(filters_data[i], batch_size=filter_bs, shuffle=True))"
      ],
      "metadata": {
        "id": "gFW7Zxex0aEl"
      },
      "execution_count": 12,
      "outputs": []
    },
    {
      "cell_type": "code",
      "source": [
        "for i in range(len(filters_loader)):\n",
        "    print(f'Filter Dataset {i} size: {len(filters_loader[i].dataset)}')"
      ],
      "metadata": {
        "colab": {
          "base_uri": "https://localhost:8080/"
        },
        "id": "dCd0E9dUF568",
        "outputId": "8505ff5f-56a3-48f7-9ba8-fb856cb80a90"
      },
      "execution_count": 13,
      "outputs": [
        {
          "output_type": "stream",
          "name": "stdout",
          "text": [
            "Filter Dataset 0 size: 960\n",
            "Filter Dataset 1 size: 8192\n",
            "Filter Dataset 2 size: 16384\n"
          ]
        }
      ]
    },
    {
      "cell_type": "markdown",
      "source": [
        "Now, we can iterate over filters dataset."
      ],
      "metadata": {
        "id": "nOIhFWYOERw-"
      }
    },
    {
      "cell_type": "code",
      "source": [
        "for batch in filters_loader[0]:\n",
        "    print(batch)\n",
        "    break"
      ],
      "metadata": {
        "colab": {
          "base_uri": "https://localhost:8080/"
        },
        "id": "_jMEiayw6sjK",
        "outputId": "cc5498b6-4b56-49e8-95ad-0b99daa63b25"
      },
      "execution_count": 14,
      "outputs": [
        {
          "output_type": "stream",
          "name": "stdout",
          "text": [
            "tensor([[[[-0.0879, -0.0739, -0.0795,  ...,  0.0731,  0.0798,  0.0049],\n",
            "          [-0.0744,  0.0545,  0.0253,  ...,  0.2629,  0.1220,  0.0514],\n",
            "          [ 0.0422,  0.2136,  0.3394,  ...,  0.2163, -0.0506, -0.2390],\n",
            "          ...,\n",
            "          [ 0.1515,  0.1743, -0.0196,  ..., -0.3626, -0.2900, -0.0979],\n",
            "          [ 0.0293,  0.0629, -0.1564,  ..., -0.2374, -0.1608,  0.0408],\n",
            "          [-0.0488, -0.0688, -0.1477,  ..., -0.0452,  0.0429,  0.2405]]],\n",
            "\n",
            "\n",
            "        [[[ 0.0025,  0.0336, -0.0175,  ...,  0.1137,  0.1465,  0.1374],\n",
            "          [-0.0019,  0.0114,  0.0537,  ...,  0.1063,  0.1444,  0.0270],\n",
            "          [ 0.0727,  0.0320,  0.0763,  ...,  0.1393,  0.1422,  0.0022],\n",
            "          ...,\n",
            "          [ 0.0276, -0.0455,  0.0459,  ..., -0.0118, -0.0496, -0.1666],\n",
            "          [ 0.0085, -0.0285, -0.0370,  ..., -0.1572, -0.1378, -0.1835],\n",
            "          [-0.0284, -0.1524, -0.2105,  ..., -0.2875, -0.1830, -0.2405]]],\n",
            "\n",
            "\n",
            "        [[[ 0.0039, -0.0441, -0.0199,  ...,  0.0432, -0.0778, -0.0106],\n",
            "          [ 0.0023,  0.0413, -0.1102,  ...,  0.1243, -0.1075,  0.0684],\n",
            "          [ 0.0358,  0.0137,  0.0506,  ...,  0.2601, -0.2414,  0.0844],\n",
            "          ...,\n",
            "          [ 0.0024,  0.0171, -0.0191,  ...,  0.3004, -0.2421,  0.0375],\n",
            "          [-0.0584, -0.0494,  0.0735,  ...,  0.1844, -0.1865,  0.0257],\n",
            "          [ 0.0519, -0.0045, -0.0124,  ...,  0.1410, -0.1439,  0.0458]]],\n",
            "\n",
            "\n",
            "        ...,\n",
            "\n",
            "\n",
            "        [[[ 0.0280, -0.0074,  0.0633,  ...,  0.0089,  0.0885,  0.1739],\n",
            "          [-0.1495, -0.0616, -0.1986,  ..., -0.0656,  0.0231,  0.1067],\n",
            "          [-0.2366, -0.2585, -0.1957,  ..., -0.1381, -0.0159,  0.0583],\n",
            "          ...,\n",
            "          [-0.1420, -0.2643, -0.2998,  ..., -0.2616, -0.0610, -0.0814],\n",
            "          [-0.1703, -0.1617, -0.2799,  ..., -0.1770, -0.1152,  0.0604],\n",
            "          [-0.0359, -0.1020, -0.1647,  ..., -0.1088, -0.0876,  0.0702]]],\n",
            "\n",
            "\n",
            "        [[[-0.0024, -0.0157, -0.0809,  ..., -0.0882, -0.0799, -0.0673],\n",
            "          [-0.0420,  0.0107, -0.0856,  ..., -0.1742, -0.0727, -0.0929],\n",
            "          [ 0.0244,  0.0356, -0.0223,  ...,  0.0657,  0.1088,  0.1204],\n",
            "          ...,\n",
            "          [ 0.0521,  0.1012,  0.1009,  ...,  0.1021,  0.0545, -0.0094],\n",
            "          [ 0.0100,  0.0396, -0.0336,  ..., -0.1435, -0.1445, -0.1118],\n",
            "          [-0.1170, -0.1532, -0.1481,  ..., -0.2292, -0.1880, -0.1264]]],\n",
            "\n",
            "\n",
            "        [[[ 0.0959, -0.0703,  0.0021,  ...,  0.0117,  0.0375,  0.0075],\n",
            "          [ 0.0887,  0.0297, -0.0632,  ...,  0.0820,  0.0467, -0.1069],\n",
            "          [-0.0419, -0.1218, -0.0741,  ...,  0.1473, -0.0106, -0.1809],\n",
            "          ...,\n",
            "          [-0.0569, -0.0850,  0.0161,  ...,  0.1308, -0.1002, -0.2320],\n",
            "          [-0.0546, -0.1313, -0.0191,  ...,  0.1271, -0.1214, -0.1604],\n",
            "          [ 0.0039, -0.0426,  0.0791,  ...,  0.1022, -0.0334, -0.0499]]]])\n"
          ]
        }
      ]
    },
    {
      "cell_type": "markdown",
      "source": [
        "We can also visualize kernels to check if our dataset contains patterns."
      ],
      "metadata": {
        "id": "Q2XvwREqEvv0"
      }
    },
    {
      "cell_type": "code",
      "source": [
        "def plot_kernels(loader, nrow=8):\n",
        "    dataiter = iter(loader)\n",
        "    batch = dataiter.next()\n",
        "    rows = np.min((batch.shape[0] // nrow + 1, 64))    \n",
        "    grid = torchvision.utils.make_grid(batch, nrow=nrow, normalize=True, padding=1)\n",
        "    plt.figure(figsize=(nrow,rows))\n",
        "    plt.imshow(grid.numpy().transpose((1, 2, 0)))"
      ],
      "metadata": {
        "id": "CkzWBZF27IEY"
      },
      "execution_count": 15,
      "outputs": []
    },
    {
      "cell_type": "code",
      "source": [
        "plot_kernels(filters_loader[0], nrow=9)"
      ],
      "metadata": {
        "colab": {
          "base_uri": "https://localhost:8080/",
          "height": 864
        },
        "id": "-W9ZZ2t899cw",
        "outputId": "f7793d36-fd50-4f81-9c03-7148f055d870"
      },
      "execution_count": 16,
      "outputs": [
        {
          "output_type": "display_data",
          "data": {
            "text/plain": [
              "<Figure size 648x1080 with 1 Axes>"
            ],
            "image/png": "[encoded data removed]"
          },
          "metadata": {
            "needs_background": "light"
          }
        }
      ]
    },
    {
      "cell_type": "code",
      "source": [
        "plot_kernels(filters_loader[1], nrow=9)"
      ],
      "metadata": {
        "colab": {
          "base_uri": "https://localhost:8080/",
          "height": 863
        },
        "id": "mvD4SEIO37pG",
        "outputId": "ec5c5cd1-e87e-4f23-8a2c-c86ae2a56fe7"
      },
      "execution_count": 17,
      "outputs": [
        {
          "output_type": "display_data",
          "data": {
            "text/plain": [
              "<Figure size 648x1080 with 1 Axes>"
            ],
            "image/png": "[encoded data removed]"
          },
          "metadata": {
            "needs_background": "light"
          }
        }
      ]
    },
    {
      "cell_type": "code",
      "source": [
        "plot_kernels(filters_loader[2], nrow=9)"
      ],
      "metadata": {
        "colab": {
          "base_uri": "https://localhost:8080/",
          "height": 863
        },
        "id": "CvaScDHK3_12",
        "outputId": "de72319c-7848-4585-8e66-b03fa06d8e3e"
      },
      "execution_count": 18,
      "outputs": [
        {
          "output_type": "display_data",
          "data": {
            "text/plain": [
              "<Figure size 648x1080 with 1 Axes>"
            ],
            "image/png": "[encoded data removed]"
          },
          "metadata": {
            "needs_background": "light"
          }
        }
      ]
    },
    {
      "cell_type": "markdown",
      "source": [
        "# Prepare data"
      ],
      "metadata": {
        "id": "p3IBIsOwC8Nn"
      }
    },
    {
      "cell_type": "markdown",
      "source": [
        "Now we load CIFAR10 and take a small subset of it. We restrict this subset to have equal number of images per class to make dataset balanced."
      ],
      "metadata": {
        "id": "nVg0gM6HVKMa"
      }
    },
    {
      "cell_type": "code",
      "source": [
        "train_transform = transforms.Compose([transforms.ToTensor(),\n",
        "                                      transforms.Normalize(0.5, 0.5)])\n",
        "test_transform = transforms.Compose([transforms.ToTensor(),\n",
        "                                     transforms.Normalize(0.5, 0.5)])\n",
        "\n",
        "train_set = torchvision.datasets.CIFAR10('./cifar10', train=True, download=True,\n",
        "                                         transform=train_transform)\n",
        "\n",
        "test_set = torchvision.datasets.CIFAR10('./cifar10', train=False, download=True,\n",
        "                                        transform=test_transform)\n",
        "\n",
        "print('Train size', len(train_set))\n",
        "print('Test size', len(test_set))"
      ],
      "metadata": {
        "colab": {
          "base_uri": "https://localhost:8080/",
          "height": 136,
          "referenced_widgets": [
            "5f5cccb98ddc494c849ae5dbfb205f7f",
            "1aff86b7987c4b71981258d89bcc5303",
            "c89162433d2c438eb9a04a3db4064e82",
            "2a7f0708234d47d1ae3433e9cf7742bb",
            "20fb782d157247aaab68ae9aa864f3e5",
            "9f55f5752b3f4625889f934c191d5fe8",
            "5c7b6dbd76d44fa8ab3863c2db47c829",
            "2c03be33e2eb41358e50b95b9c72ca71",
            "6b76832ae6294dc1a2f8a125348be93f",
            "4f131012b41246b3aa9b2b39e09756a2",
            "5e3074fbdcdf4bb2ad3a4a3f4c64abd3"
          ]
        },
        "id": "Af6pq2gJC9_9",
        "outputId": "7e7da736-bf3d-46ed-ac7b-c3d3b3652d42"
      },
      "execution_count": 19,
      "outputs": [
        {
          "output_type": "stream",
          "name": "stdout",
          "text": [
            "Downloading https://www.cs.toronto.edu/~kriz/cifar-10-python.tar.gz to ./cifar10/cifar-10-python.tar.gz\n"
          ]
        },
        {
          "output_type": "display_data",
          "data": {
            "text/plain": [
              "  0%|          | 0/170498071 [00:00<?, ?it/s]"
            ],
            "application/vnd.jupyter.widget-view+json": {
              "version_major": 2,
              "version_minor": 0,
              "model_id": "5f5cccb98ddc494c849ae5dbfb205f7f"
            }
          },
          "metadata": {}
        },
        {
          "output_type": "stream",
          "name": "stdout",
          "text": [
            "Extracting ./cifar10/cifar-10-python.tar.gz to ./cifar10\n",
            "Files already downloaded and verified\n",
            "Train size 50000\n",
            "Test size 10000\n"
          ]
        }
      ]
    },
    {
      "cell_type": "code",
      "source": [
        "train_size = 100 / len(train_set)"
      ],
      "metadata": {
        "id": "zFjRp-4YUIPY"
      },
      "execution_count": 20,
      "outputs": []
    },
    {
      "cell_type": "code",
      "source": [
        "train_idx, _ = train_test_split(np.arange(len(train_set)),\n",
        "                                train_size=train_size,\n",
        "                                shuffle=True,\n",
        "                                random_state=42,\n",
        "                                stratify=train_set.targets)"
      ],
      "metadata": {
        "id": "UVnH8oUtGHcc"
      },
      "execution_count": 21,
      "outputs": []
    },
    {
      "cell_type": "markdown",
      "source": [
        "Let's make sure that the obtained indices are indeed stratified by classes."
      ],
      "metadata": {
        "id": "L-UyK8DXRzpF"
      }
    },
    {
      "cell_type": "code",
      "source": [
        "pd.DataFrame(train_set.targets).rename(columns={0: 'class'}).iloc[train_idx].groupby('class').size()"
      ],
      "metadata": {
        "colab": {
          "base_uri": "https://localhost:8080/"
        },
        "id": "pbKZK8BoL5rb",
        "outputId": "89cbf91e-4965-4419-a1f6-ce34e3e8d8d7"
      },
      "execution_count": 22,
      "outputs": [
        {
          "output_type": "execute_result",
          "data": {
            "text/plain": [
              "class\n",
              "0    10\n",
              "1    10\n",
              "2    10\n",
              "3    10\n",
              "4    10\n",
              "5    10\n",
              "6    10\n",
              "7    10\n",
              "8    10\n",
              "9    10\n",
              "dtype: int64"
            ]
          },
          "metadata": {},
          "execution_count": 22
        }
      ]
    },
    {
      "cell_type": "code",
      "source": [
        "train_set = Subset(train_set, train_idx)"
      ],
      "metadata": {
        "id": "p2iDMU8pIxXF"
      },
      "execution_count": 23,
      "outputs": []
    },
    {
      "cell_type": "code",
      "source": [
        "img_bs = 16\n",
        "\n",
        "train_loader = torch.utils.data.DataLoader(train_set, batch_size=img_bs, shuffle=True, num_workers=2)\n",
        "test_loader = torch.utils.data.DataLoader(test_set, batch_size=img_bs, shuffle=False, num_workers=2)"
      ],
      "metadata": {
        "id": "RyFFjv4IRDeF"
      },
      "execution_count": 24,
      "outputs": []
    },
    {
      "cell_type": "code",
      "source": [
        "plot_random_images(train_loader)"
      ],
      "metadata": {
        "colab": {
          "base_uri": "https://localhost:8080/",
          "height": 159
        },
        "id": "1AWCm0qAWRlA",
        "outputId": "75fbdbf5-cdf4-42a4-9fcb-92d0891157fa"
      },
      "execution_count": 25,
      "outputs": [
        {
          "output_type": "display_data",
          "data": {
            "text/plain": [
              "<Figure size 1152x144 with 1 Axes>"
            ],
            "image/png": "[encoded data removed]"
          },
          "metadata": {
            "needs_background": "light"
          }
        }
      ]
    },
    {
      "cell_type": "code",
      "source": [
        "plot_random_images(test_loader)"
      ],
      "metadata": {
        "colab": {
          "base_uri": "https://localhost:8080/",
          "height": 159
        },
        "id": "hxzaWMfwW_uG",
        "outputId": "d6ec29cc-aefb-4727-a068-3dde1fb4f5df"
      },
      "execution_count": 26,
      "outputs": [
        {
          "output_type": "display_data",
          "data": {
            "text/plain": [
              "<Figure size 1152x144 with 1 Axes>"
            ],
            "image/png": "[encoded data removed]"
          },
          "metadata": {
            "needs_background": "light"
          }
        }
      ]
    },
    {
      "cell_type": "markdown",
      "source": [
        "# Training on small dataset"
      ],
      "metadata": {
        "id": "i_4yxDmDX3jM"
      }
    },
    {
      "cell_type": "code",
      "source": [
        "class CNN(nn.Module):\n",
        "    def __init__(self, num_classes=100):\n",
        "        super(CNN, self).__init__()\n",
        "        self.features = nn.Sequential(\n",
        "            nn.Conv2d(3, 64, kernel_size=(7, 7), stride=(2, 2), padding=(3, 3), bias=False),\n",
        "            nn.BatchNorm2d(64),\n",
        "            nn.ReLU(),\n",
        "\n",
        "            nn.Conv2d(64, 128, kernel_size=(5, 5), stride=(2, 2), padding=(2, 2), bias=False),\n",
        "            nn.BatchNorm2d(128),\n",
        "            nn.ReLU(),\n",
        "\n",
        "            nn.Conv2d(128, 128, kernel_size=(5, 5), stride=(2, 2), padding=(2, 2), bias=False),\n",
        "            nn.BatchNorm2d(128),\n",
        "            nn.ReLU(),\n",
        "\n",
        "            nn.Conv2d(128, 256, kernel_size=(3, 3), stride=(2, 2), padding=(1, 1), bias=False),\n",
        "            nn.BatchNorm2d(256),\n",
        "            nn.ReLU(),\n",
        "        )\n",
        "        self.classifier = nn.Sequential(\n",
        "            nn.AdaptiveAvgPool2d(1),\n",
        "            nn.Flatten(),\n",
        "            nn.Linear(256, num_classes)\n",
        "        )\n",
        "\n",
        "    def forward(self, x):\n",
        "        batch_size = x.shape[0]\n",
        "        x = self.features(x)\n",
        "        x = self.classifier(x)\n",
        "        return x"
      ],
      "metadata": {
        "id": "HcFbtbpaX-T6"
      },
      "execution_count": 27,
      "outputs": []
    },
    {
      "cell_type": "code",
      "source": [
        ""
      ],
      "metadata": {
        "id": "xDCdLYjoX-a_"
      },
      "execution_count": 27,
      "outputs": []
    },
    {
      "cell_type": "markdown",
      "source": [
        "# Discriminators"
      ],
      "metadata": {
        "id": "JItH2pud405D"
      }
    },
    {
      "cell_type": "code",
      "source": [
        "RANDOM_SEED = 0\n",
        "\n",
        "set_random_seeds(seed_value=RANDOM_SEED, device=device)\n",
        "\n",
        "clf = CNN(num_classes=10).to(device)\n",
        "print('Number of weights:', np.sum([np.prod(p.shape) for p in clf.parameters()]))"
      ],
      "metadata": {
        "colab": {
          "base_uri": "https://localhost:8080/"
        },
        "id": "DrqRJCOeDYVa",
        "outputId": "55a5580f-db9b-44c0-d7cd-2ceab711aecf"
      },
      "execution_count": 28,
      "outputs": [
        {
          "output_type": "stream",
          "name": "stdout",
          "text": [
            "Number of weights: 922442\n"
          ]
        }
      ]
    },
    {
      "cell_type": "code",
      "source": [
        "# Contain classifier's weights into dataset abstraction to yield stochastic mini-batches with gradients\n",
        "\n",
        "diff_fake_filters = ParameterFilterDataset(clf.features[0])\n",
        "diff_fake_loader = DataLoader(diff_fake_filters, batch_size=filter_bs, shuffle=True)"
      ],
      "metadata": {
        "id": "r_h3oZGPg8MO"
      },
      "execution_count": 29,
      "outputs": []
    },
    {
      "cell_type": "code",
      "source": [
        "# custom weights initialization called on netD\n",
        "def weights_init(m):\n",
        "    classname = m.__class__.__name__\n",
        "    if classname.find('Conv') != -1:\n",
        "        nn.init.normal_(m.weight.data, 0.0, 0.02)\n",
        "    elif classname.find('BatchNorm') != -1:\n",
        "        nn.init.normal_(m.weight.data, 1.0, 0.02)\n",
        "        nn.init.constant_(m.bias.data, 0)"
      ],
      "metadata": {
        "id": "a1pzJWOM42wu"
      },
      "execution_count": 30,
      "outputs": []
    },
    {
      "cell_type": "code",
      "source": [
        "class Discriminator(nn.Module):\n",
        "    def __init__(self):\n",
        "        super(Discriminator, self).__init__()\n",
        "        self.main = nn.Sequential(\n",
        "            nn.Conv2d(1, 64, kernel_size=(3, 3), padding=(1, 1), bias=False),\n",
        "            nn.BatchNorm2d(64),\n",
        "            nn.LeakyReLU(0.2, inplace=True),\n",
        "\n",
        "            nn.Conv2d(64, 128, kernel_size=(3, 3), padding=(1, 1), bias=False),\n",
        "            nn.BatchNorm2d(128),\n",
        "            nn.LeakyReLU(0.2, inplace=True),\n",
        "\n",
        "            #nn.Conv2d(128, 1, kernel_size=(3, 3), padding=(1, 1), bias=False),\n",
        "            #nn.Sigmoid()\n",
        "            nn.AdaptiveAvgPool2d(1),\n",
        "            nn.Flatten(),\n",
        "            nn.Linear(128, 1),\n",
        "            nn.Sigmoid()\n",
        "        )\n",
        "    \n",
        "    def forward(self, input):\n",
        "        return self.main(input)"
      ],
      "metadata": {
        "id": "6Kybg1Lm5OvK"
      },
      "execution_count": 31,
      "outputs": []
    },
    {
      "cell_type": "code",
      "source": [
        "RANDOM_SEED = 0\n",
        "set_random_seeds(seed_value=RANDOM_SEED, device=device)\n",
        "\n",
        "netD = Discriminator().to(device)\n",
        "netD.apply(weights_init)\n",
        "print('Number of weights:', np.sum([np.prod(p.shape) for p in netD.parameters()]))"
      ],
      "metadata": {
        "colab": {
          "base_uri": "https://localhost:8080/"
        },
        "id": "7NTyOdJC5QQ2",
        "outputId": "faacd855-1ea5-471a-c05d-4e26274f0bd5"
      },
      "execution_count": 32,
      "outputs": [
        {
          "output_type": "stream",
          "name": "stdout",
          "text": [
            "Number of weights: 74817\n"
          ]
        }
      ]
    },
    {
      "cell_type": "code",
      "source": [
        "netD"
      ],
      "metadata": {
        "colab": {
          "base_uri": "https://localhost:8080/"
        },
        "id": "ZOfF9Xm_5uf-",
        "outputId": "3c3c5947-3456-4fef-d6f9-9d72ff7ab5f1"
      },
      "execution_count": 33,
      "outputs": [
        {
          "output_type": "execute_result",
          "data": {
            "text/plain": [
              "Discriminator(\n",
              "  (main): Sequential(\n",
              "    (0): Conv2d(1, 64, kernel_size=(3, 3), stride=(1, 1), padding=(1, 1), bias=False)\n",
              "    (1): BatchNorm2d(64, eps=1e-05, momentum=0.1, affine=True, track_running_stats=True)\n",
              "    (2): LeakyReLU(negative_slope=0.2, inplace=True)\n",
              "    (3): Conv2d(64, 128, kernel_size=(3, 3), stride=(1, 1), padding=(1, 1), bias=False)\n",
              "    (4): BatchNorm2d(128, eps=1e-05, momentum=0.1, affine=True, track_running_stats=True)\n",
              "    (5): LeakyReLU(negative_slope=0.2, inplace=True)\n",
              "    (6): AdaptiveAvgPool2d(output_size=1)\n",
              "    (7): Flatten(start_dim=1, end_dim=-1)\n",
              "    (8): Linear(in_features=128, out_features=1, bias=True)\n",
              "    (9): Sigmoid()\n",
              "  )\n",
              ")"
            ]
          },
          "metadata": {},
          "execution_count": 33
        }
      ]
    },
    {
      "cell_type": "code",
      "source": [
        "# Initialize criterions for classifier and discriminator\n",
        "criterion_clf = nn.CrossEntropyLoss()\n",
        "criterion_D = nn.BCELoss()\n",
        "\n",
        "# Establish convention for real and fake labels during training\n",
        "real_label = 1.\n",
        "fake_label = 0.\n",
        "\n",
        "# Setup Adam optimizers for both classifier and discriminator\n",
        "opt_clf = torch.optim.Adam(clf.parameters(), weight_decay=1e-4)\n",
        "opt_D = torch.optim.Adam(netD.parameters(), lr=0.0002, betas=(0.5, 0.999))"
      ],
      "metadata": {
        "id": "qY2AgYJZ6cxP"
      },
      "execution_count": 34,
      "outputs": []
    },
    {
      "cell_type": "code",
      "source": [
        "def epoch_discriminator(real_loader, fake_loader, netD, criterion_D, opt_D):\n",
        "    total_loss = 0\n",
        "    for i, real_batch in enumerate(real_loader):\n",
        "        netD.train()\n",
        "        netD.zero_grad()\n",
        "        #############################\n",
        "        ## Train with all-real batch\n",
        "        # Format batch\n",
        "        real_batch = real_batch.to(device)\n",
        "        b_size = real_batch.size(0)\n",
        "        label = torch.full((b_size,), real_label, dtype=torch.float, device=device)\n",
        "        # Forward pass real batch through D\n",
        "        output = netD(real_batch).view(-1)\n",
        "        # Calculate loss on all-real batch\n",
        "        errD_real = criterion_D(output, label)\n",
        "        # Calculate gradients for D in backward pass\n",
        "        errD_real.backward()\n",
        "        D_x = output.mean().item()\n",
        "\n",
        "        #############################\n",
        "        ## Train with all-fake batch\n",
        "        # Format batch\n",
        "        fake_batch = next(iter(fake_loader))\n",
        "        b_size = fake_batch.size(0)\n",
        "        label = torch.full((b_size,), fake_label, dtype=torch.float, device=device)\n",
        "        # Classify all fake batch with D\n",
        "        output = netD(fake_batch.detach()).view(-1)\n",
        "        # Calculate D's loss on the all-fake batch\n",
        "        errD_fake = criterion_D(output, label)\n",
        "        # Calculate the gradients for this batch, accumulated with previous gradients\n",
        "        errD_fake.backward()\n",
        "        D_G_z1 = output.mean().item()\n",
        "        # Compute error of D as sum over the fake and real batches\n",
        "        errD = errD_real + errD_fake\n",
        "        total_loss += errD.item()\n",
        "        # Update D\n",
        "        opt_D.step()\n",
        "\n",
        "    total_loss /= len(real_loader)\n",
        "    return total_loss"
      ],
      "metadata": {
        "id": "iiGpjstUtiOv"
      },
      "execution_count": 35,
      "outputs": []
    },
    {
      "cell_type": "code",
      "source": [
        "def epoch_classifier(img_loader, fake_loader, clf, netD, criterion_clf, criterion_G, opt_clf):\n",
        "    # Update classifier\n",
        "    clf.train()\n",
        "    total_G_loss = 0\n",
        "    for data, target in img_loader:\n",
        "        data = data.to(device)\n",
        "        #############################\n",
        "        ## Classifier loss\n",
        "        target = target.to(device)\n",
        "        output_clf = clf(data)\n",
        "        loss = criterion_clf(output_clf, target)\n",
        "\n",
        "        #############################\n",
        "        ## Generator loss\n",
        "        # Format batch\n",
        "        fake_batch = next(iter(fake_loader))\n",
        "        b_size = fake_batch.size(0)\n",
        "        # Fake labels are real for generator cost\n",
        "        label = torch.full((b_size,), real_label, dtype=torch.float, device=device)\n",
        "        # Forward pass fake batch through D\n",
        "        output_D = netD(fake_batch).view(-1)\n",
        "        # Calculate generative loss based on D's output\n",
        "        errG = criterion_G(output_D, label)\n",
        "        \n",
        "        #############################\n",
        "        # Accumulate losses\n",
        "        alpha = 1.\n",
        "        loss += alpha * errG\n",
        "        total_G_loss += errG.item()\n",
        "        # Update gradients\n",
        "        opt_clf.zero_grad()\n",
        "        loss.backward()\n",
        "        opt_clf.step()\n",
        "    \n",
        "    # Evaluation\n",
        "    clf.eval()\n",
        "    train_loss = 0\n",
        "    with torch.no_grad():\n",
        "        for data, target in img_loader:\n",
        "            data = data.to(device)\n",
        "            target = target.to(device)\n",
        "            output = clf(data)\n",
        "            train_loss += criterion_clf(output, target).item()\n",
        "    train_acc = get_accuracy(clf, img_loader, device)\n",
        "    train_loss /= len(img_loader)\n",
        "    total_G_loss /= len(img_loader)\n",
        "    return train_loss, total_G_loss, train_acc"
      ],
      "metadata": {
        "id": "UQulQmELdymZ"
      },
      "execution_count": 36,
      "outputs": []
    },
    {
      "cell_type": "code",
      "source": [
        "def epoch_test(img_loader, clf, criterion_clf):\n",
        "    clf.eval()\n",
        "    test_loss = 0\n",
        "    with torch.no_grad():\n",
        "        for data, target in img_loader:\n",
        "            data = data.to(device)\n",
        "            target = target.to(device)\n",
        "            output = clf(data)\n",
        "            test_loss += criterion_clf(output, target).item()\n",
        "    test_acc = get_accuracy(clf, img_loader, device)\n",
        "    test_loss /= len(img_loader.dataset)\n",
        "    return test_loss, test_acc"
      ],
      "metadata": {
        "id": "DdV4Dz1TCZH-"
      },
      "execution_count": 37,
      "outputs": []
    },
    {
      "cell_type": "code",
      "source": [
        "n_epochs = 100\n",
        "\n",
        "D_losses = []\n",
        "G_losses = []\n",
        "test_scores = []\n",
        "\n",
        "real_loader = filters_loader[0]\n",
        "\n",
        "print(\"Starting Training Loop...\")\n",
        "for epoch in range(n_epochs):\n",
        "    fake_filters = FilterDataset([clf.features[0]])\n",
        "    fake_loader = DataLoader(fake_filters, batch_size=filter_bs, shuffle=True)\n",
        "\n",
        "    errD = epoch_discriminator(real_loader, fake_loader, netD, criterion_D, opt_D)\n",
        "    train_loss, errG, train_acc = epoch_classifier(train_loader, diff_fake_loader, clf, netD, criterion_clf, criterion_D, opt_clf)\n",
        "    test_loss, test_acc = epoch_test(test_loader, clf, criterion_clf)\n",
        "\n",
        "    print(f'[Epoch {epoch + 1}] train loss: {train_loss:.3f}; train acc: {train_acc:.2f}; ' + \n",
        "          f'test loss: {test_loss:.3f}; test acc: {test_acc:.2f}')\n",
        "    print(f'Discriminator loss: {errD}')\n",
        "    print(f'Generator loss: {errG}')\n",
        "\n",
        "    D_losses.append(errD)\n",
        "    G_losses.append(errG)\n",
        "    test_scores.append(test_acc)"
      ],
      "metadata": {
        "id": "UodkfU85b9Fk",
        "colab": {
          "base_uri": "https://localhost:8080/"
        },
        "outputId": "4e7339e2-4322-443f-dd34-341445551302"
      },
      "execution_count": 38,
      "outputs": [
        {
          "output_type": "stream",
          "name": "stdout",
          "text": [
            "Starting Training Loop...\n",
            "[Epoch 1] train loss: 2.162; train acc: 0.52; test loss: 0.141; test acc: 0.19\n",
            "Discriminator loss: 1.3778140544891357\n",
            "Generator loss: 0.6751130223274231\n",
            "[Epoch 2] train loss: 1.841; train acc: 0.58; test loss: 0.136; test acc: 0.20\n",
            "Discriminator loss: 1.3530482053756714\n",
            "Generator loss: 0.7055302858352661\n",
            "[Epoch 3] train loss: 1.535; train acc: 0.61; test loss: 0.137; test acc: 0.16\n",
            "Discriminator loss: 1.3356585502624512\n",
            "Generator loss: 0.7285703761237008\n",
            "[Epoch 4] train loss: 1.169; train acc: 0.84; test loss: 0.137; test acc: 0.18\n",
            "Discriminator loss: 1.3205349445343018\n",
            "Generator loss: 0.7439738171441215\n",
            "[Epoch 5] train loss: 0.879; train acc: 0.87; test loss: 0.140; test acc: 0.17\n",
            "Discriminator loss: 1.3063968420028687\n",
            "Generator loss: 0.7555176104818072\n",
            "[Epoch 6] train loss: 0.414; train acc: 0.99; test loss: 0.136; test acc: 0.21\n",
            "Discriminator loss: 1.293655276298523\n",
            "Generator loss: 0.7644077283995492\n",
            "[Epoch 7] train loss: 0.319; train acc: 1.00; test loss: 0.138; test acc: 0.21\n",
            "Discriminator loss: 1.2805185317993164\n",
            "Generator loss: 0.7730354070663452\n",
            "[Epoch 8] train loss: 0.158; train acc: 1.00; test loss: 0.141; test acc: 0.20\n",
            "Discriminator loss: 1.270026683807373\n",
            "Generator loss: 0.7791596140180316\n",
            "[Epoch 9] train loss: 0.118; train acc: 1.00; test loss: 0.141; test acc: 0.21\n",
            "Discriminator loss: 1.2577054500579834\n",
            "Generator loss: 0.7848874415670123\n",
            "[Epoch 10] train loss: 0.073; train acc: 1.00; test loss: 0.141; test acc: 0.23\n",
            "Discriminator loss: 1.2465291023254395\n",
            "Generator loss: 0.7912529110908508\n",
            "[Epoch 11] train loss: 0.050; train acc: 1.00; test loss: 0.148; test acc: 0.22\n",
            "Discriminator loss: 1.2342089414596558\n",
            "Generator loss: 0.7986250264304025\n",
            "[Epoch 12] train loss: 0.081; train acc: 0.99; test loss: 0.149; test acc: 0.21\n",
            "Discriminator loss: 1.2205970287322998\n",
            "Generator loss: 0.8055201939174107\n",
            "[Epoch 13] train loss: 0.050; train acc: 0.99; test loss: 0.150; test acc: 0.23\n",
            "Discriminator loss: 1.2111701965332031\n",
            "Generator loss: 0.8106410247938973\n",
            "[Epoch 14] train loss: 0.025; train acc: 1.00; test loss: 0.146; test acc: 0.22\n",
            "Discriminator loss: 1.1986972093582153\n",
            "Generator loss: 0.8182916556085859\n",
            "[Epoch 15] train loss: 0.022; train acc: 1.00; test loss: 0.147; test acc: 0.22\n",
            "Discriminator loss: 1.1881179809570312\n",
            "Generator loss: 0.8244002546582904\n",
            "[Epoch 16] train loss: 0.031; train acc: 1.00; test loss: 0.158; test acc: 0.20\n",
            "Discriminator loss: 1.1767486333847046\n",
            "Generator loss: 0.8285335557801383\n",
            "[Epoch 17] train loss: 0.030; train acc: 1.00; test loss: 0.152; test acc: 0.23\n",
            "Discriminator loss: 1.162840485572815\n",
            "Generator loss: 0.8370347959654671\n",
            "[Epoch 18] train loss: 0.035; train acc: 1.00; test loss: 0.158; test acc: 0.21\n",
            "Discriminator loss: 1.1565220355987549\n",
            "Generator loss: 0.8430758799825396\n",
            "[Epoch 19] train loss: 0.022; train acc: 1.00; test loss: 0.159; test acc: 0.21\n",
            "Discriminator loss: 1.1391035318374634\n",
            "Generator loss: 0.8518806781087603\n",
            "[Epoch 20] train loss: 0.017; train acc: 1.00; test loss: 0.155; test acc: 0.20\n",
            "Discriminator loss: 1.1248995065689087\n",
            "Generator loss: 0.8595859152930123\n",
            "[Epoch 21] train loss: 0.034; train acc: 1.00; test loss: 0.162; test acc: 0.19\n",
            "Discriminator loss: 1.119469404220581\n",
            "Generator loss: 0.861749563898359\n",
            "[Epoch 22] train loss: 0.051; train acc: 0.99; test loss: 0.167; test acc: 0.21\n",
            "Discriminator loss: 1.1067850589752197\n",
            "Generator loss: 0.8722737261227199\n",
            "[Epoch 23] train loss: 0.025; train acc: 1.00; test loss: 0.159; test acc: 0.20\n",
            "Discriminator loss: 1.0908501148223877\n",
            "Generator loss: 0.8795961056436811\n",
            "[Epoch 24] train loss: 0.023; train acc: 1.00; test loss: 0.167; test acc: 0.20\n",
            "Discriminator loss: 1.0871479511260986\n",
            "Generator loss: 0.8855701514652797\n",
            "[Epoch 25] train loss: 0.033; train acc: 1.00; test loss: 0.166; test acc: 0.19\n",
            "Discriminator loss: 1.074404001235962\n",
            "Generator loss: 0.8977184465953282\n",
            "[Epoch 26] train loss: 0.020; train acc: 1.00; test loss: 0.157; test acc: 0.21\n",
            "Discriminator loss: 1.0570268630981445\n",
            "Generator loss: 0.9002212371144976\n",
            "[Epoch 27] train loss: 0.022; train acc: 1.00; test loss: 0.157; test acc: 0.21\n",
            "Discriminator loss: 1.0463908910751343\n",
            "Generator loss: 0.9127115862710136\n",
            "[Epoch 28] train loss: 0.022; train acc: 1.00; test loss: 0.160; test acc: 0.20\n",
            "Discriminator loss: 1.0392024517059326\n",
            "Generator loss: 0.9178902762276786\n",
            "[Epoch 29] train loss: 0.020; train acc: 1.00; test loss: 0.167; test acc: 0.22\n",
            "Discriminator loss: 1.0312831401824951\n",
            "Generator loss: 0.9309564403125218\n",
            "[Epoch 30] train loss: 0.012; train acc: 1.00; test loss: 0.163; test acc: 0.22\n",
            "Discriminator loss: 1.0222294330596924\n",
            "Generator loss: 0.920946444783892\n",
            "[Epoch 31] train loss: 0.048; train acc: 0.98; test loss: 0.184; test acc: 0.21\n",
            "Discriminator loss: 1.0085875988006592\n",
            "Generator loss: 0.9378488063812256\n",
            "[Epoch 32] train loss: 0.029; train acc: 0.99; test loss: 0.182; test acc: 0.20\n",
            "Discriminator loss: 1.0089302062988281\n",
            "Generator loss: 0.9378769482885089\n",
            "[Epoch 33] train loss: 0.017; train acc: 0.99; test loss: 0.175; test acc: 0.20\n",
            "Discriminator loss: 0.9847765564918518\n",
            "Generator loss: 0.9377424802098956\n",
            "[Epoch 34] train loss: 0.008; train acc: 1.00; test loss: 0.175; test acc: 0.19\n",
            "Discriminator loss: 0.9774408936500549\n",
            "Generator loss: 0.9633272971425738\n",
            "[Epoch 35] train loss: 0.010; train acc: 1.00; test loss: 0.170; test acc: 0.19\n",
            "Discriminator loss: 0.9682308435440063\n",
            "Generator loss: 0.962462672165462\n",
            "[Epoch 36] train loss: 0.006; train acc: 1.00; test loss: 0.171; test acc: 0.19\n",
            "Discriminator loss: 0.9482898712158203\n",
            "Generator loss: 0.9725984675543649\n",
            "[Epoch 37] train loss: 0.007; train acc: 1.00; test loss: 0.178; test acc: 0.18\n",
            "Discriminator loss: 0.9605420827865601\n",
            "Generator loss: 0.9797319684709821\n",
            "[Epoch 38] train loss: 0.005; train acc: 1.00; test loss: 0.169; test acc: 0.21\n",
            "Discriminator loss: 0.9333169460296631\n",
            "Generator loss: 1.0001604982784815\n",
            "[Epoch 39] train loss: 0.008; train acc: 1.00; test loss: 0.167; test acc: 0.21\n",
            "Discriminator loss: 0.934675395488739\n",
            "Generator loss: 0.9979962536266872\n",
            "[Epoch 40] train loss: 0.005; train acc: 1.00; test loss: 0.164; test acc: 0.21\n",
            "Discriminator loss: 0.9101864099502563\n",
            "Generator loss: 1.0258071422576904\n",
            "[Epoch 41] train loss: 0.005; train acc: 1.00; test loss: 0.164; test acc: 0.21\n",
            "Discriminator loss: 0.9277575612068176\n",
            "Generator loss: 1.0263689415795463\n",
            "[Epoch 42] train loss: 0.003; train acc: 1.00; test loss: 0.164; test acc: 0.21\n",
            "Discriminator loss: 0.8812029957771301\n",
            "Generator loss: 1.0452258586883545\n",
            "[Epoch 43] train loss: 0.003; train acc: 1.00; test loss: 0.163; test acc: 0.22\n",
            "Discriminator loss: 0.8767145872116089\n",
            "Generator loss: 1.050398622240339\n",
            "[Epoch 44] train loss: 0.004; train acc: 1.00; test loss: 0.165; test acc: 0.22\n",
            "Discriminator loss: 0.8662590980529785\n",
            "Generator loss: 1.054599404335022\n",
            "[Epoch 45] train loss: 0.008; train acc: 1.00; test loss: 0.187; test acc: 0.21\n",
            "Discriminator loss: 0.8631274700164795\n",
            "Generator loss: 1.042302863938468\n",
            "[Epoch 46] train loss: 0.009; train acc: 1.00; test loss: 0.183; test acc: 0.20\n",
            "Discriminator loss: 0.8528962731361389\n",
            "Generator loss: 1.0707708937781197\n",
            "[Epoch 47] train loss: 0.010; train acc: 1.00; test loss: 0.176; test acc: 0.19\n",
            "Discriminator loss: 0.8250188231468201\n",
            "Generator loss: 1.0612492220742362\n",
            "[Epoch 48] train loss: 0.004; train acc: 1.00; test loss: 0.177; test acc: 0.19\n",
            "Discriminator loss: 0.8492018580436707\n",
            "Generator loss: 1.0883187396185738\n",
            "[Epoch 49] train loss: 0.002; train acc: 1.00; test loss: 0.174; test acc: 0.20\n",
            "Discriminator loss: 0.8267735242843628\n",
            "Generator loss: 1.0743187325341361\n",
            "[Epoch 50] train loss: 0.003; train acc: 1.00; test loss: 0.172; test acc: 0.21\n",
            "Discriminator loss: 0.8200322985649109\n",
            "Generator loss: 1.1106121029172624\n",
            "[Epoch 51] train loss: 0.004; train acc: 1.00; test loss: 0.180; test acc: 0.19\n",
            "Discriminator loss: 0.8062899708747864\n",
            "Generator loss: 1.117959839957101\n",
            "[Epoch 52] train loss: 0.004; train acc: 1.00; test loss: 0.182; test acc: 0.19\n",
            "Discriminator loss: 0.7935131788253784\n",
            "Generator loss: 1.1176419769014632\n",
            "[Epoch 53] train loss: 0.003; train acc: 1.00; test loss: 0.181; test acc: 0.19\n",
            "Discriminator loss: 0.8080028295516968\n",
            "Generator loss: 1.156226566859654\n",
            "[Epoch 54] train loss: 0.003; train acc: 1.00; test loss: 0.178; test acc: 0.19\n",
            "Discriminator loss: 0.811984658241272\n",
            "Generator loss: 1.139148439679827\n",
            "[Epoch 55] train loss: 0.004; train acc: 1.00; test loss: 0.177; test acc: 0.19\n",
            "Discriminator loss: 0.7630577087402344\n",
            "Generator loss: 1.1738048962184362\n",
            "[Epoch 56] train loss: 0.003; train acc: 1.00; test loss: 0.174; test acc: 0.20\n",
            "Discriminator loss: 0.753093957901001\n",
            "Generator loss: 1.1386030742100306\n",
            "[Epoch 57] train loss: 0.039; train acc: 0.99; test loss: 0.178; test acc: 0.21\n",
            "Discriminator loss: 0.7585265636444092\n",
            "Generator loss: 1.193233575139727\n",
            "[Epoch 58] train loss: 0.006; train acc: 1.00; test loss: 0.179; test acc: 0.22\n",
            "Discriminator loss: 0.7459630370140076\n",
            "Generator loss: 1.2275117465427943\n",
            "[Epoch 59] train loss: 0.009; train acc: 1.00; test loss: 0.179; test acc: 0.22\n",
            "Discriminator loss: 0.7690372467041016\n",
            "Generator loss: 1.2237229176930018\n",
            "[Epoch 60] train loss: 0.008; train acc: 1.00; test loss: 0.177; test acc: 0.21\n",
            "Discriminator loss: 0.7182140946388245\n",
            "Generator loss: 1.2337563378470284\n",
            "[Epoch 61] train loss: 0.004; train acc: 1.00; test loss: 0.176; test acc: 0.21\n",
            "Discriminator loss: 0.7018508911132812\n",
            "Generator loss: 1.2266123805727278\n",
            "[Epoch 62] train loss: 0.002; train acc: 1.00; test loss: 0.176; test acc: 0.20\n",
            "Discriminator loss: 0.7217620611190796\n",
            "Generator loss: 1.2025569847651891\n",
            "[Epoch 63] train loss: 0.004; train acc: 1.00; test loss: 0.180; test acc: 0.19\n",
            "Discriminator loss: 0.7129330635070801\n",
            "Generator loss: 1.2588654586247034\n",
            "[Epoch 64] train loss: 0.003; train acc: 1.00; test loss: 0.177; test acc: 0.20\n",
            "Discriminator loss: 0.7275751233100891\n",
            "Generator loss: 1.284308842250279\n",
            "[Epoch 65] train loss: 0.003; train acc: 1.00; test loss: 0.175; test acc: 0.20\n",
            "Discriminator loss: 0.6951677203178406\n",
            "Generator loss: 1.2810943467276437\n",
            "[Epoch 66] train loss: 0.002; train acc: 1.00; test loss: 0.175; test acc: 0.20\n",
            "Discriminator loss: 0.7221212983131409\n",
            "Generator loss: 1.2583628722599574\n",
            "[Epoch 67] train loss: 0.013; train acc: 1.00; test loss: 0.177; test acc: 0.19\n",
            "Discriminator loss: 0.7243911623954773\n",
            "Generator loss: 1.1826469046728951\n",
            "[Epoch 68] train loss: 0.004; train acc: 1.00; test loss: 0.184; test acc: 0.19\n",
            "Discriminator loss: 0.7651025056838989\n",
            "Generator loss: 0.9813893692834037\n",
            "[Epoch 69] train loss: 0.003; train acc: 1.00; test loss: 0.189; test acc: 0.19\n",
            "Discriminator loss: 0.8370178937911987\n",
            "Generator loss: 1.333871671131679\n",
            "[Epoch 70] train loss: 0.002; train acc: 1.00; test loss: 0.186; test acc: 0.20\n",
            "Discriminator loss: 0.713360607624054\n",
            "Generator loss: 1.144121187073844\n",
            "[Epoch 71] train loss: 0.001; train acc: 1.00; test loss: 0.183; test acc: 0.20\n",
            "Discriminator loss: 0.8315383195877075\n",
            "Generator loss: 1.2369201013020106\n",
            "[Epoch 72] train loss: 0.001; train acc: 1.00; test loss: 0.180; test acc: 0.21\n",
            "Discriminator loss: 0.8154961466789246\n",
            "Generator loss: 1.0231723274503435\n",
            "[Epoch 73] train loss: 0.001; train acc: 1.00; test loss: 0.180; test acc: 0.22\n",
            "Discriminator loss: 0.8977842330932617\n",
            "Generator loss: 0.7169867498534066\n",
            "[Epoch 74] train loss: 0.024; train acc: 0.99; test loss: 0.191; test acc: 0.22\n",
            "Discriminator loss: 0.9377148151397705\n",
            "Generator loss: 0.8683758633477348\n",
            "[Epoch 75] train loss: 0.003; train acc: 1.00; test loss: 0.191; test acc: 0.19\n",
            "Discriminator loss: 1.0224609375\n",
            "Generator loss: 0.8996303422110421\n",
            "[Epoch 76] train loss: 0.050; train acc: 0.99; test loss: 0.225; test acc: 0.16\n",
            "Discriminator loss: 1.0957893133163452\n",
            "Generator loss: 0.9359604546001979\n",
            "[Epoch 77] train loss: 0.021; train acc: 1.00; test loss: 0.209; test acc: 0.18\n",
            "Discriminator loss: 1.1659419536590576\n",
            "Generator loss: 0.8673540353775024\n",
            "[Epoch 78] train loss: 0.035; train acc: 0.99; test loss: 0.240; test acc: 0.18\n",
            "Discriminator loss: 1.229250431060791\n",
            "Generator loss: 0.8249742218426296\n",
            "[Epoch 79] train loss: 0.146; train acc: 0.95; test loss: 0.249; test acc: 0.18\n",
            "Discriminator loss: 1.2338969707489014\n",
            "Generator loss: 0.7443681359291077\n",
            "[Epoch 80] train loss: 0.054; train acc: 0.99; test loss: 0.242; test acc: 0.18\n",
            "Discriminator loss: 1.229892611503601\n",
            "Generator loss: 0.8097161480358669\n",
            "[Epoch 81] train loss: 0.012; train acc: 1.00; test loss: 0.215; test acc: 0.18\n",
            "Discriminator loss: 1.2254739999771118\n",
            "Generator loss: 0.7935006277901786\n",
            "[Epoch 82] train loss: 0.017; train acc: 0.99; test loss: 0.207; test acc: 0.19\n",
            "Discriminator loss: 1.2615458965301514\n",
            "Generator loss: 0.8130532417978559\n",
            "[Epoch 83] train loss: 0.008; train acc: 1.00; test loss: 0.209; test acc: 0.19\n",
            "Discriminator loss: 1.2400344610214233\n",
            "Generator loss: 0.7923528381756374\n",
            "[Epoch 84] train loss: 0.031; train acc: 1.00; test loss: 0.213; test acc: 0.17\n",
            "Discriminator loss: 1.2286673784255981\n",
            "Generator loss: 0.7952987977436611\n",
            "[Epoch 85] train loss: 0.018; train acc: 1.00; test loss: 0.219; test acc: 0.17\n",
            "Discriminator loss: 1.2291908264160156\n",
            "Generator loss: 0.7837611266544887\n",
            "[Epoch 86] train loss: 0.049; train acc: 0.99; test loss: 0.234; test acc: 0.16\n",
            "Discriminator loss: 1.2242168188095093\n",
            "Generator loss: 0.7826215880257743\n",
            "[Epoch 87] train loss: 0.020; train acc: 1.00; test loss: 0.226; test acc: 0.16\n",
            "Discriminator loss: 1.215993881225586\n",
            "Generator loss: 0.7783527629716056\n",
            "[Epoch 88] train loss: 0.040; train acc: 1.00; test loss: 0.217; test acc: 0.18\n",
            "Discriminator loss: 1.2049882411956787\n",
            "Generator loss: 0.7905313542910984\n",
            "[Epoch 89] train loss: 0.014; train acc: 1.00; test loss: 0.199; test acc: 0.20\n",
            "Discriminator loss: 1.203310251235962\n",
            "Generator loss: 0.7951554570879255\n",
            "[Epoch 90] train loss: 0.042; train acc: 0.99; test loss: 0.221; test acc: 0.19\n",
            "Discriminator loss: 1.195380449295044\n",
            "Generator loss: 0.7932731679507664\n",
            "[Epoch 91] train loss: 0.008; train acc: 1.00; test loss: 0.213; test acc: 0.19\n",
            "Discriminator loss: 1.216080904006958\n",
            "Generator loss: 0.7799267768859863\n",
            "[Epoch 92] train loss: 0.004; train acc: 1.00; test loss: 0.200; test acc: 0.20\n",
            "Discriminator loss: 1.2028740644454956\n",
            "Generator loss: 0.793734644140516\n",
            "[Epoch 93] train loss: 0.003; train acc: 1.00; test loss: 0.199; test acc: 0.20\n",
            "Discriminator loss: 1.1946167945861816\n",
            "Generator loss: 0.7975684489522662\n",
            "[Epoch 94] train loss: 0.002; train acc: 1.00; test loss: 0.197; test acc: 0.20\n",
            "Discriminator loss: 1.2011736631393433\n",
            "Generator loss: 0.7952099016734532\n",
            "[Epoch 95] train loss: 0.003; train acc: 1.00; test loss: 0.194; test acc: 0.21\n",
            "Discriminator loss: 1.1956336498260498\n",
            "Generator loss: 0.7992544685091291\n",
            "[Epoch 96] train loss: 0.002; train acc: 1.00; test loss: 0.193; test acc: 0.21\n",
            "Discriminator loss: 1.2064125537872314\n",
            "Generator loss: 0.8006319318498883\n",
            "[Epoch 97] train loss: 0.002; train acc: 1.00; test loss: 0.190; test acc: 0.21\n",
            "Discriminator loss: 1.2145781517028809\n",
            "Generator loss: 0.8062402776309422\n",
            "[Epoch 98] train loss: 0.002; train acc: 1.00; test loss: 0.188; test acc: 0.22\n",
            "Discriminator loss: 1.2155836820602417\n",
            "Generator loss: 0.785452663898468\n",
            "[Epoch 99] train loss: 0.002; train acc: 1.00; test loss: 0.189; test acc: 0.21\n",
            "Discriminator loss: 1.2066726684570312\n",
            "Generator loss: 0.7938627430370876\n",
            "[Epoch 100] train loss: 0.001; train acc: 1.00; test loss: 0.188; test acc: 0.21\n",
            "Discriminator loss: 1.2110977172851562\n",
            "Generator loss: 0.7716779794011798\n"
          ]
        }
      ]
    },
    {
      "cell_type": "code",
      "source": [
        "plt.figure(figsize=(12, 8))\n",
        "plt.plot([err.item() for err in D_losses], label='Discriminator loss')\n",
        "plt.plot(G_losses, label='Regularization loss')\n",
        "plt.xlabel('Epoch')\n",
        "plt.ylabel('Loss')\n",
        "plt.legend()\n",
        "plt.show()"
      ],
      "metadata": {
        "colab": {
          "base_uri": "https://localhost:8080/",
          "height": 497
        },
        "id": "mUx0ECjtrd1f",
        "outputId": "8da02957-bedd-4608-e3bf-49732c5c6f1c"
      },
      "execution_count": 50,
      "outputs": [
        {
          "output_type": "display_data",
          "data": {
            "text/plain": [
              "<Figure size 864x576 with 1 Axes>"
            ],
            "image/png": "[encoded data removed]"
          },
          "metadata": {
            "needs_background": "light"
          }
        }
      ]
    },
    {
      "cell_type": "code",
      "source": [
        "plt.figure(figsize=(12, 8))\n",
        "plt.plot(test_scores)\n",
        "plt.xlabel('Epoch')\n",
        "plt.ylabel('Accuracy')\n",
        "plt.title('Test accuracy')\n",
        "plt.show()"
      ],
      "metadata": {
        "colab": {
          "base_uri": "https://localhost:8080/",
          "height": 513
        },
        "id": "9NbNeTFH3AFg",
        "outputId": "dc8a1add-375d-49cb-f00f-72feb06af479"
      },
      "execution_count": 51,
      "outputs": [
        {
          "output_type": "display_data",
          "data": {
            "text/plain": [
              "<Figure size 864x576 with 1 Axes>"
            ],
            "image/png": "[encoded data removed]"
          },
          "metadata": {
            "needs_background": "light"
          }
        }
      ]
    },
    {
      "cell_type": "code",
      "source": [
        ""
      ],
      "metadata": {
        "id": "u4TOfAKZ3s3-"
      },
      "execution_count": null,
      "outputs": []
    }
  ]
}