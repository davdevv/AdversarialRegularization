{
  "nbformat": 4,
  "nbformat_minor": 0,
  "metadata": {
    "colab": {
      "name": "filters.ipynb",
      "provenance": [],
      "collapsed_sections": [],
      "authorship_tag": "ABX9TyPMCYPNBCdueG3EXWAve91q",
      "include_colab_link": true
    },
    "kernelspec": {
      "name": "python3",
      "display_name": "Python 3"
    },
    "language_info": {
      "name": "python"
    },
    "widgets": {
      "application/vnd.jupyter.widget-state+json": {
        "85106843fa5a4a53af2cb20e56a01ac9": {
          "model_module": "@jupyter-widgets/controls",
          "model_name": "HBoxModel",
          "model_module_version": "1.5.0",
          "state": {
            "_dom_classes": [],
            "_model_module": "@jupyter-widgets/controls",
            "_model_module_version": "1.5.0",
            "_model_name": "HBoxModel",
            "_view_count": null,
            "_view_module": "@jupyter-widgets/controls",
            "_view_module_version": "1.5.0",
            "_view_name": "HBoxView",
            "box_style": "",
            "children": [
              "IPY_MODEL_d1459e51c9954a9db44e19d1b766473b",
              "IPY_MODEL_b9e6884d8d51498383e6dccf324c595e",
              "IPY_MODEL_c8e664d630c043fd9ee36f1a0c7fefd2"
            ],
            "layout": "IPY_MODEL_cd9d24349c7941f5994a6a302977749b"
          }
        },
        "d1459e51c9954a9db44e19d1b766473b": {
          "model_module": "@jupyter-widgets/controls",
          "model_name": "HTMLModel",
          "model_module_version": "1.5.0",
          "state": {
            "_dom_classes": [],
            "_model_module": "@jupyter-widgets/controls",
            "_model_module_version": "1.5.0",
            "_model_name": "HTMLModel",
            "_view_count": null,
            "_view_module": "@jupyter-widgets/controls",
            "_view_module_version": "1.5.0",
            "_view_name": "HTMLView",
            "description": "",
            "description_tooltip": null,
            "layout": "IPY_MODEL_f355614b6e0c4f74a00efc1464e61fda",
            "placeholder": "​",
            "style": "IPY_MODEL_4dc70a5727844b5c8bca35d026da4461",
            "value": ""
          }
        },
        "b9e6884d8d51498383e6dccf324c595e": {
          "model_module": "@jupyter-widgets/controls",
          "model_name": "FloatProgressModel",
          "model_module_version": "1.5.0",
          "state": {
            "_dom_classes": [],
            "_model_module": "@jupyter-widgets/controls",
            "_model_module_version": "1.5.0",
            "_model_name": "FloatProgressModel",
            "_view_count": null,
            "_view_module": "@jupyter-widgets/controls",
            "_view_module_version": "1.5.0",
            "_view_name": "ProgressView",
            "bar_style": "success",
            "description": "",
            "description_tooltip": null,
            "layout": "IPY_MODEL_d68a89806f444b39a247398f0b269cf0",
            "max": 170498071,
            "min": 0,
            "orientation": "horizontal",
            "style": "IPY_MODEL_87fcf520c4fa43f9b7d82c4753574b03",
            "value": 170498071
          }
        },
        "c8e664d630c043fd9ee36f1a0c7fefd2": {
          "model_module": "@jupyter-widgets/controls",
          "model_name": "HTMLModel",
          "model_module_version": "1.5.0",
          "state": {
            "_dom_classes": [],
            "_model_module": "@jupyter-widgets/controls",
            "_model_module_version": "1.5.0",
            "_model_name": "HTMLModel",
            "_view_count": null,
            "_view_module": "@jupyter-widgets/controls",
            "_view_module_version": "1.5.0",
            "_view_name": "HTMLView",
            "description": "",
            "description_tooltip": null,
            "layout": "IPY_MODEL_99ef275937674eb390cf0688a76173e6",
            "placeholder": "​",
            "style": "IPY_MODEL_98712431a8ca45bca062ed68b6ac087c",
            "value": " 170499072/? [00:05&lt;00:00, 32765280.54it/s]"
          }
        },
        "cd9d24349c7941f5994a6a302977749b": {
          "model_module": "@jupyter-widgets/base",
          "model_name": "LayoutModel",
          "model_module_version": "1.2.0",
          "state": {
            "_model_module": "@jupyter-widgets/base",
            "_model_module_version": "1.2.0",
            "_model_name": "LayoutModel",
            "_view_count": null,
            "_view_module": "@jupyter-widgets/base",
            "_view_module_version": "1.2.0",
            "_view_name": "LayoutView",
            "align_content": null,
            "align_items": null,
            "align_self": null,
            "border": null,
            "bottom": null,
            "display": null,
            "flex": null,
            "flex_flow": null,
            "grid_area": null,
            "grid_auto_columns": null,
            "grid_auto_flow": null,
            "grid_auto_rows": null,
            "grid_column": null,
            "grid_gap": null,
            "grid_row": null,
            "grid_template_areas": null,
            "grid_template_columns": null,
            "grid_template_rows": null,
            "height": null,
            "justify_content": null,
            "justify_items": null,
            "left": null,
            "margin": null,
            "max_height": null,
            "max_width": null,
            "min_height": null,
            "min_width": null,
            "object_fit": null,
            "object_position": null,
            "order": null,
            "overflow": null,
            "overflow_x": null,
            "overflow_y": null,
            "padding": null,
            "right": null,
            "top": null,
            "visibility": null,
            "width": null
          }
        },
        "f355614b6e0c4f74a00efc1464e61fda": {
          "model_module": "@jupyter-widgets/base",
          "model_name": "LayoutModel",
          "model_module_version": "1.2.0",
          "state": {
            "_model_module": "@jupyter-widgets/base",
            "_model_module_version": "1.2.0",
            "_model_name": "LayoutModel",
            "_view_count": null,
            "_view_module": "@jupyter-widgets/base",
            "_view_module_version": "1.2.0",
            "_view_name": "LayoutView",
            "align_content": null,
            "align_items": null,
            "align_self": null,
            "border": null,
            "bottom": null,
            "display": null,
            "flex": null,
            "flex_flow": null,
            "grid_area": null,
            "grid_auto_columns": null,
            "grid_auto_flow": null,
            "grid_auto_rows": null,
            "grid_column": null,
            "grid_gap": null,
            "grid_row": null,
            "grid_template_areas": null,
            "grid_template_columns": null,
            "grid_template_rows": null,
            "height": null,
            "justify_content": null,
            "justify_items": null,
            "left": null,
            "margin": null,
            "max_height": null,
            "max_width": null,
            "min_height": null,
            "min_width": null,
            "object_fit": null,
            "object_position": null,
            "order": null,
            "overflow": null,
            "overflow_x": null,
            "overflow_y": null,
            "padding": null,
            "right": null,
            "top": null,
            "visibility": null,
            "width": null
          }
        },
        "4dc70a5727844b5c8bca35d026da4461": {
          "model_module": "@jupyter-widgets/controls",
          "model_name": "DescriptionStyleModel",
          "model_module_version": "1.5.0",
          "state": {
            "_model_module": "@jupyter-widgets/controls",
            "_model_module_version": "1.5.0",
            "_model_name": "DescriptionStyleModel",
            "_view_count": null,
            "_view_module": "@jupyter-widgets/base",
            "_view_module_version": "1.2.0",
            "_view_name": "StyleView",
            "description_width": ""
          }
        },
        "d68a89806f444b39a247398f0b269cf0": {
          "model_module": "@jupyter-widgets/base",
          "model_name": "LayoutModel",
          "model_module_version": "1.2.0",
          "state": {
            "_model_module": "@jupyter-widgets/base",
            "_model_module_version": "1.2.0",
            "_model_name": "LayoutModel",
            "_view_count": null,
            "_view_module": "@jupyter-widgets/base",
            "_view_module_version": "1.2.0",
            "_view_name": "LayoutView",
            "align_content": null,
            "align_items": null,
            "align_self": null,
            "border": null,
            "bottom": null,
            "display": null,
            "flex": null,
            "flex_flow": null,
            "grid_area": null,
            "grid_auto_columns": null,
            "grid_auto_flow": null,
            "grid_auto_rows": null,
            "grid_column": null,
            "grid_gap": null,
            "grid_row": null,
            "grid_template_areas": null,
            "grid_template_columns": null,
            "grid_template_rows": null,
            "height": null,
            "justify_content": null,
            "justify_items": null,
            "left": null,
            "margin": null,
            "max_height": null,
            "max_width": null,
            "min_height": null,
            "min_width": null,
            "object_fit": null,
            "object_position": null,
            "order": null,
            "overflow": null,
            "overflow_x": null,
            "overflow_y": null,
            "padding": null,
            "right": null,
            "top": null,
            "visibility": null,
            "width": null
          }
        },
        "87fcf520c4fa43f9b7d82c4753574b03": {
          "model_module": "@jupyter-widgets/controls",
          "model_name": "ProgressStyleModel",
          "model_module_version": "1.5.0",
          "state": {
            "_model_module": "@jupyter-widgets/controls",
            "_model_module_version": "1.5.0",
            "_model_name": "ProgressStyleModel",
            "_view_count": null,
            "_view_module": "@jupyter-widgets/base",
            "_view_module_version": "1.2.0",
            "_view_name": "StyleView",
            "bar_color": null,
            "description_width": ""
          }
        },
        "99ef275937674eb390cf0688a76173e6": {
          "model_module": "@jupyter-widgets/base",
          "model_name": "LayoutModel",
          "model_module_version": "1.2.0",
          "state": {
            "_model_module": "@jupyter-widgets/base",
            "_model_module_version": "1.2.0",
            "_model_name": "LayoutModel",
            "_view_count": null,
            "_view_module": "@jupyter-widgets/base",
            "_view_module_version": "1.2.0",
            "_view_name": "LayoutView",
            "align_content": null,
            "align_items": null,
            "align_self": null,
            "border": null,
            "bottom": null,
            "display": null,
            "flex": null,
            "flex_flow": null,
            "grid_area": null,
            "grid_auto_columns": null,
            "grid_auto_flow": null,
            "grid_auto_rows": null,
            "grid_column": null,
            "grid_gap": null,
            "grid_row": null,
            "grid_template_areas": null,
            "grid_template_columns": null,
            "grid_template_rows": null,
            "height": null,
            "justify_content": null,
            "justify_items": null,
            "left": null,
            "margin": null,
            "max_height": null,
            "max_width": null,
            "min_height": null,
            "min_width": null,
            "object_fit": null,
            "object_position": null,
            "order": null,
            "overflow": null,
            "overflow_x": null,
            "overflow_y": null,
            "padding": null,
            "right": null,
            "top": null,
            "visibility": null,
            "width": null
          }
        },
        "98712431a8ca45bca062ed68b6ac087c": {
          "model_module": "@jupyter-widgets/controls",
          "model_name": "DescriptionStyleModel",
          "model_module_version": "1.5.0",
          "state": {
            "_model_module": "@jupyter-widgets/controls",
            "_model_module_version": "1.5.0",
            "_model_name": "DescriptionStyleModel",
            "_view_count": null,
            "_view_module": "@jupyter-widgets/base",
            "_view_module_version": "1.2.0",
            "_view_name": "StyleView",
            "description_width": ""
          }
        }
      }
    },
    "accelerator": "GPU"
  },
  "cells": [
    {
      "cell_type": "markdown",
      "metadata": {
        "id": "view-in-github",
        "colab_type": "text"
      },
      "source": [
        "<a href=\"https://colab.research.google.com/github/realfolkcode/AdversarialRegularization/blob/main/filters.ipynb\" target=\"_parent\"><img src=\"https://colab.research.google.com/assets/colab-badge.svg\" alt=\"Open In Colab\"/></a>"
      ]
    },
    {
      "cell_type": "markdown",
      "source": [
        "# Install and import"
      ],
      "metadata": {
        "id": "xroV2mE8Aqjf"
      }
    },
    {
      "cell_type": "code",
      "execution_count": 1,
      "metadata": {
        "id": "Vr0z-_t8jzJO"
      },
      "outputs": [],
      "source": [
        "import os\n",
        "import torch\n",
        "import torchvision\n",
        "from torchvision import transforms\n",
        "from torch import nn\n",
        "from torch.utils.data import Dataset, DataLoader, Subset\n",
        "from sklearn.model_selection import train_test_split\n",
        "import numpy as np\n",
        "import pandas as pd\n",
        "from tqdm import tqdm\n",
        "import matplotlib.pyplot as plt\n",
        "%matplotlib inline\n",
        "\n",
        "device = torch.device('cuda:0' if torch.cuda.is_available() else 'cpu')"
      ]
    },
    {
      "cell_type": "code",
      "source": [
        "!git clone https://github.com/realfolkcode/AdversarialRegularization.git"
      ],
      "metadata": {
        "colab": {
          "base_uri": "https://localhost:8080/"
        },
        "id": "sETUwJ7aVC-2",
        "outputId": "8f0cbfcf-6211-4c38-cec1-49743af83977"
      },
      "execution_count": 2,
      "outputs": [
        {
          "output_type": "stream",
          "name": "stdout",
          "text": [
            "Cloning into 'AdversarialRegularization'...\n",
            "remote: Enumerating objects: 71, done.\u001b[K\n",
            "remote: Counting objects: 100% (71/71), done.\u001b[K\n",
            "remote: Compressing objects: 100% (62/62), done.\u001b[K\n",
            "remote: Total 71 (delta 31), reused 22 (delta 6), pack-reused 0\u001b[K\n",
            "Unpacking objects: 100% (71/71), done.\n"
          ]
        }
      ]
    },
    {
      "cell_type": "code",
      "source": [
        "from AdversarialRegularization.utils import *"
      ],
      "metadata": {
        "id": "Vf-LLike5WXP"
      },
      "execution_count": 3,
      "outputs": []
    },
    {
      "cell_type": "markdown",
      "source": [
        "# Loading Models"
      ],
      "metadata": {
        "id": "yylNEvxPGpnO"
      }
    },
    {
      "cell_type": "code",
      "source": [
        "class CNN(nn.Module):\n",
        "    def __init__(self, num_classes=100):\n",
        "        super(CNN, self).__init__()\n",
        "        self.features = nn.Sequential(\n",
        "            nn.Conv2d(3, 64, kernel_size=(7, 7), stride=(2, 2), padding=(3, 3), bias=False),\n",
        "            nn.BatchNorm2d(64),\n",
        "            nn.ReLU(),\n",
        "\n",
        "            nn.Conv2d(64, 128, kernel_size=(5, 5), stride=(2, 2), padding=(2, 2), bias=False),\n",
        "            nn.BatchNorm2d(128),\n",
        "            nn.ReLU(),\n",
        "\n",
        "            nn.Conv2d(128, 128, kernel_size=(5, 5), stride=(2, 2), padding=(2, 2), bias=False),\n",
        "            nn.BatchNorm2d(128),\n",
        "            nn.ReLU(),\n",
        "\n",
        "            nn.Conv2d(128, 256, kernel_size=(3, 3), stride=(2, 2), padding=(1, 1), bias=False),\n",
        "            nn.BatchNorm2d(256),\n",
        "            nn.ReLU(),\n",
        "        )\n",
        "        self.classifier = nn.Sequential(\n",
        "            nn.AdaptiveAvgPool2d(1),\n",
        "            nn.Flatten(),\n",
        "            nn.Linear(256, num_classes)\n",
        "        )\n",
        "\n",
        "    def forward(self, x):\n",
        "        batch_size = x.shape[0]\n",
        "        x = self.features(x)\n",
        "        x = self.classifier(x)\n",
        "        return x"
      ],
      "metadata": {
        "id": "TK3TxdITVIN6"
      },
      "execution_count": 4,
      "outputs": []
    },
    {
      "cell_type": "markdown",
      "source": [
        "We want to collect good filters. For that purpose, we load models that have been trained on a large dataset. These models differ only in initial weight initialization."
      ],
      "metadata": {
        "id": "8b0Uh7V_C9t9"
      }
    },
    {
      "cell_type": "code",
      "source": [
        "model_dir = 'AdversarialRegularization/models/'\n",
        "model_lst = []\n",
        "\n",
        "for model_name in os.listdir('AdversarialRegularization/models/'):\n",
        "    model_path = os.path.join(model_dir, model_name)\n",
        "    model = CNN(num_classes=100)\n",
        "    model.load_state_dict(torch.load(model_path, map_location='cpu'))\n",
        "    model_lst.append(model)"
      ],
      "metadata": {
        "id": "VtL_v--EAofB"
      },
      "execution_count": 5,
      "outputs": []
    },
    {
      "cell_type": "code",
      "source": [
        "model_lst[0]"
      ],
      "metadata": {
        "colab": {
          "base_uri": "https://localhost:8080/"
        },
        "id": "2DfSecfAVNvU",
        "outputId": "9e23cb0a-38f1-4ab0-a2ad-60b3a22a51c1"
      },
      "execution_count": 6,
      "outputs": [
        {
          "output_type": "execute_result",
          "data": {
            "text/plain": [
              "CNN(\n",
              "  (features): Sequential(\n",
              "    (0): Conv2d(3, 64, kernel_size=(7, 7), stride=(2, 2), padding=(3, 3), bias=False)\n",
              "    (1): BatchNorm2d(64, eps=1e-05, momentum=0.1, affine=True, track_running_stats=True)\n",
              "    (2): ReLU()\n",
              "    (3): Conv2d(64, 128, kernel_size=(5, 5), stride=(2, 2), padding=(2, 2), bias=False)\n",
              "    (4): BatchNorm2d(128, eps=1e-05, momentum=0.1, affine=True, track_running_stats=True)\n",
              "    (5): ReLU()\n",
              "    (6): Conv2d(128, 128, kernel_size=(5, 5), stride=(2, 2), padding=(2, 2), bias=False)\n",
              "    (7): BatchNorm2d(128, eps=1e-05, momentum=0.1, affine=True, track_running_stats=True)\n",
              "    (8): ReLU()\n",
              "    (9): Conv2d(128, 256, kernel_size=(3, 3), stride=(2, 2), padding=(1, 1), bias=False)\n",
              "    (10): BatchNorm2d(256, eps=1e-05, momentum=0.1, affine=True, track_running_stats=True)\n",
              "    (11): ReLU()\n",
              "  )\n",
              "  (classifier): Sequential(\n",
              "    (0): AdaptiveAvgPool2d(output_size=1)\n",
              "    (1): Flatten(start_dim=1, end_dim=-1)\n",
              "    (2): Linear(in_features=256, out_features=100, bias=True)\n",
              "  )\n",
              ")"
            ]
          },
          "metadata": {},
          "execution_count": 6
        }
      ]
    },
    {
      "cell_type": "code",
      "source": [
        "print('Number of models:', len(model_lst))"
      ],
      "metadata": {
        "colab": {
          "base_uri": "https://localhost:8080/"
        },
        "id": "1sqTHeArB5w4",
        "outputId": "cdfca930-2fcf-4205-c489-4ff93f5a8160"
      },
      "execution_count": 7,
      "outputs": [
        {
          "output_type": "stream",
          "name": "stdout",
          "text": [
            "Number of models: 5\n"
          ]
        }
      ]
    },
    {
      "cell_type": "markdown",
      "source": [
        "# Filter Dataset"
      ],
      "metadata": {
        "id": "VQIxvF74Gtf9"
      }
    },
    {
      "cell_type": "markdown",
      "source": [
        "Let us create a class for filters dataset to make life easier. We will use it to train discriminators. As input, it would take a list of convolution layers (kernel sizes must be the same)."
      ],
      "metadata": {
        "id": "s2JgDDoWCkdB"
      }
    },
    {
      "cell_type": "code",
      "source": [
        "class FilterDataset(Dataset):\n",
        "    def __init__(self, layer_lst):\n",
        "        self.kernels = [layer.weight.data.clone() for layer in layer_lst]\n",
        "        self.kernels = torch.cat(self.kernels)\n",
        "        c_out, c_in, h, w = self.kernels.shape\n",
        "        self.kernels = self.kernels.view(c_out * c_in, -1, h, w)\n",
        "    \n",
        "    def __len__(self):\n",
        "        return len(self.kernels)\n",
        "    \n",
        "    def __getitem__(self, idx):\n",
        "        return self.kernels[idx]"
      ],
      "metadata": {
        "id": "jG88TQK0sSy-"
      },
      "execution_count": 8,
      "outputs": []
    },
    {
      "cell_type": "code",
      "source": [
        "model_lst[0].features[0]"
      ],
      "metadata": {
        "colab": {
          "base_uri": "https://localhost:8080/"
        },
        "id": "7H03NnZSD6JX",
        "outputId": "ce2fc0b5-2e0a-4960-f7a8-742c184bad0f"
      },
      "execution_count": 9,
      "outputs": [
        {
          "output_type": "execute_result",
          "data": {
            "text/plain": [
              "Conv2d(3, 64, kernel_size=(7, 7), stride=(2, 2), padding=(3, 3), bias=False)"
            ]
          },
          "metadata": {},
          "execution_count": 9
        }
      ]
    },
    {
      "cell_type": "code",
      "source": [
        "RANDOM_SEED = 0\n",
        "set_random_seeds(seed_value=RANDOM_SEED, device=device)"
      ],
      "metadata": {
        "id": "XU8Xbs0-5e6x"
      },
      "execution_count": 10,
      "outputs": []
    },
    {
      "cell_type": "code",
      "source": [
        "filters_data = []\n",
        "filters_loader = []\n",
        "\n",
        "# Create datasets for 7x7, 5x5, 5x5 kernels from corresponding convolution layers \n",
        "filters_data.append(FilterDataset([model.features[0] for model in model_lst]))\n",
        "filters_data.append(FilterDataset([model_lst[0].features[3]]))\n",
        "filters_data.append(FilterDataset([model_lst[0].features[6]]))\n",
        "\n",
        "# Create dataloaders for filters datasets\n",
        "for i in range(len(filters_data)):\n",
        "    filters_loader.append(DataLoader(filters_data[i], batch_size=32, shuffle=True))"
      ],
      "metadata": {
        "id": "gFW7Zxex0aEl"
      },
      "execution_count": 11,
      "outputs": []
    },
    {
      "cell_type": "code",
      "source": [
        "for i in range(len(filters_loader)):\n",
        "    print(f'Filter Dataset {i} size: {len(filters_loader[i].dataset)}')"
      ],
      "metadata": {
        "colab": {
          "base_uri": "https://localhost:8080/"
        },
        "id": "dCd0E9dUF568",
        "outputId": "9ef4dd8b-6e1f-4cf7-a203-5fb8eb40cc9c"
      },
      "execution_count": 12,
      "outputs": [
        {
          "output_type": "stream",
          "name": "stdout",
          "text": [
            "Filter Dataset 0 size: 960\n",
            "Filter Dataset 1 size: 8192\n",
            "Filter Dataset 2 size: 16384\n"
          ]
        }
      ]
    },
    {
      "cell_type": "markdown",
      "source": [
        "Now, we can iterate over filters dataset."
      ],
      "metadata": {
        "id": "nOIhFWYOERw-"
      }
    },
    {
      "cell_type": "code",
      "source": [
        "for batch in filters_loader[0]:\n",
        "    print(batch)\n",
        "    break"
      ],
      "metadata": {
        "colab": {
          "base_uri": "https://localhost:8080/"
        },
        "id": "_jMEiayw6sjK",
        "outputId": "92b4b0b8-b1e6-4575-e7f4-7424b371c73c"
      },
      "execution_count": 13,
      "outputs": [
        {
          "output_type": "stream",
          "name": "stdout",
          "text": [
            "tensor([[[[-0.0879, -0.0739, -0.0795,  ...,  0.0731,  0.0798,  0.0049],\n",
            "          [-0.0744,  0.0545,  0.0253,  ...,  0.2629,  0.1220,  0.0514],\n",
            "          [ 0.0422,  0.2136,  0.3394,  ...,  0.2163, -0.0506, -0.2390],\n",
            "          ...,\n",
            "          [ 0.1515,  0.1743, -0.0196,  ..., -0.3626, -0.2900, -0.0979],\n",
            "          [ 0.0293,  0.0629, -0.1564,  ..., -0.2374, -0.1608,  0.0408],\n",
            "          [-0.0488, -0.0688, -0.1477,  ..., -0.0452,  0.0429,  0.2405]]],\n",
            "\n",
            "\n",
            "        [[[ 0.0025,  0.0336, -0.0175,  ...,  0.1137,  0.1465,  0.1374],\n",
            "          [-0.0019,  0.0114,  0.0537,  ...,  0.1063,  0.1444,  0.0270],\n",
            "          [ 0.0727,  0.0320,  0.0763,  ...,  0.1393,  0.1422,  0.0022],\n",
            "          ...,\n",
            "          [ 0.0276, -0.0455,  0.0459,  ..., -0.0118, -0.0496, -0.1666],\n",
            "          [ 0.0085, -0.0285, -0.0370,  ..., -0.1572, -0.1378, -0.1835],\n",
            "          [-0.0284, -0.1524, -0.2105,  ..., -0.2875, -0.1830, -0.2405]]],\n",
            "\n",
            "\n",
            "        [[[ 0.0039, -0.0441, -0.0199,  ...,  0.0432, -0.0778, -0.0106],\n",
            "          [ 0.0023,  0.0413, -0.1102,  ...,  0.1243, -0.1075,  0.0684],\n",
            "          [ 0.0358,  0.0137,  0.0506,  ...,  0.2601, -0.2414,  0.0844],\n",
            "          ...,\n",
            "          [ 0.0024,  0.0171, -0.0191,  ...,  0.3004, -0.2421,  0.0375],\n",
            "          [-0.0584, -0.0494,  0.0735,  ...,  0.1844, -0.1865,  0.0257],\n",
            "          [ 0.0519, -0.0045, -0.0124,  ...,  0.1410, -0.1439,  0.0458]]],\n",
            "\n",
            "\n",
            "        ...,\n",
            "\n",
            "\n",
            "        [[[-0.0283, -0.0864,  0.0361,  ...,  0.0534,  0.0590,  0.0224],\n",
            "          [ 0.0585, -0.0162,  0.1554,  ...,  0.0353, -0.0068,  0.0238],\n",
            "          [-0.0215, -0.0225, -0.0400,  ..., -0.0568, -0.0301, -0.0501],\n",
            "          ...,\n",
            "          [-0.0531, -0.0438,  0.0671,  ...,  0.0755,  0.0875,  0.0355],\n",
            "          [ 0.0252,  0.0156,  0.1072,  ...,  0.0222, -0.0362, -0.0312],\n",
            "          [-0.1106, -0.0191,  0.0050,  ..., -0.0177, -0.0552, -0.1133]]],\n",
            "\n",
            "\n",
            "        [[[-0.0281,  0.0317,  0.0274,  ...,  0.0406,  0.0260,  0.0675],\n",
            "          [ 0.0529,  0.0982,  0.0746,  ...,  0.0734,  0.0787, -0.0011],\n",
            "          [ 0.0746,  0.1340,  0.1197,  ...,  0.0889, -0.0113, -0.0639],\n",
            "          ...,\n",
            "          [-0.0510, -0.0493, -0.0417,  ...,  0.0889, -0.0234, -0.0148],\n",
            "          [-0.1816, -0.1573, -0.2742,  ..., -0.2754, -0.2319, -0.2445],\n",
            "          [ 0.0397,  0.0204, -0.0403,  ..., -0.1454, -0.1353, -0.0992]]],\n",
            "\n",
            "\n",
            "        [[[ 0.0024, -0.0332,  0.0331,  ..., -0.0084,  0.0095, -0.0689],\n",
            "          [-0.0116, -0.0377,  0.0776,  ...,  0.0898,  0.0439,  0.0007],\n",
            "          [-0.0284,  0.0084,  0.0656,  ..., -0.0275, -0.0316, -0.1130],\n",
            "          ...,\n",
            "          [ 0.0140, -0.0123,  0.0804,  ..., -0.0254, -0.1098, -0.0604],\n",
            "          [-0.0017,  0.0548,  0.0626,  ..., -0.0880, -0.1161, -0.0288],\n",
            "          [ 0.0756, -0.0351, -0.0058,  ..., -0.0202, -0.0814,  0.0075]]]])\n"
          ]
        }
      ]
    },
    {
      "cell_type": "markdown",
      "source": [
        "We can also visualize kernels to check if our dataset contains patterns."
      ],
      "metadata": {
        "id": "Q2XvwREqEvv0"
      }
    },
    {
      "cell_type": "code",
      "source": [
        "def plot_kernels(loader, nrow=8):\n",
        "    dataiter = iter(loader)\n",
        "    batch = dataiter.next()\n",
        "    rows = np.min((batch.shape[0] // nrow + 1, 64))    \n",
        "    grid = torchvision.utils.make_grid(batch, nrow=nrow, normalize=True, padding=1)\n",
        "    plt.figure(figsize=(nrow,rows))\n",
        "    plt.imshow(grid.numpy().transpose((1, 2, 0)))"
      ],
      "metadata": {
        "id": "CkzWBZF27IEY"
      },
      "execution_count": 14,
      "outputs": []
    },
    {
      "cell_type": "code",
      "source": [
        "plot_kernels(filters_loader[0], nrow=9)"
      ],
      "metadata": {
        "colab": {
          "base_uri": "https://localhost:8080/",
          "height": 266
        },
        "id": "-W9ZZ2t899cw",
        "outputId": "a7f30299-ba6a-4715-eb36-5e824496f164"
      },
      "execution_count": 15,
      "outputs": [
        {
          "output_type": "display_data",
          "data": {
            "text/plain": [
              "<Figure size 648x288 with 1 Axes>"
            ],
            "image/png": "[encoded data removed]"
          },
          "metadata": {
            "needs_background": "light"
          }
        }
      ]
    },
    {
      "cell_type": "code",
      "source": [
        "plot_kernels(filters_loader[1], nrow=9)"
      ],
      "metadata": {
        "colab": {
          "base_uri": "https://localhost:8080/",
          "height": 265
        },
        "id": "mvD4SEIO37pG",
        "outputId": "61abfe87-fffc-4239-b59d-3554a9c911dc"
      },
      "execution_count": 16,
      "outputs": [
        {
          "output_type": "display_data",
          "data": {
            "text/plain": [
              "<Figure size 648x288 with 1 Axes>"
            ],
            "image/png": "[encoded data removed]"
          },
          "metadata": {
            "needs_background": "light"
          }
        }
      ]
    },
    {
      "cell_type": "code",
      "source": [
        "plot_kernels(filters_loader[2], nrow=9)"
      ],
      "metadata": {
        "colab": {
          "base_uri": "https://localhost:8080/",
          "height": 265
        },
        "id": "CvaScDHK3_12",
        "outputId": "7864a387-c19c-471d-ade1-9be894013b60"
      },
      "execution_count": 17,
      "outputs": [
        {
          "output_type": "display_data",
          "data": {
            "text/plain": [
              "<Figure size 648x288 with 1 Axes>"
            ],
            "image/png": "[encoded data removed]"
          },
          "metadata": {
            "needs_background": "light"
          }
        }
      ]
    },
    {
      "cell_type": "markdown",
      "source": [
        "# Prepare data"
      ],
      "metadata": {
        "id": "p3IBIsOwC8Nn"
      }
    },
    {
      "cell_type": "markdown",
      "source": [
        "Now we load CIFAR10 and take a small subset of it. We restrict this subset to have equal number of images per class to make dataset balanced."
      ],
      "metadata": {
        "id": "nVg0gM6HVKMa"
      }
    },
    {
      "cell_type": "code",
      "source": [
        "train_transform = transforms.Compose([transforms.ToTensor(),\n",
        "                                      transforms.Normalize(0.5, 0.5)])\n",
        "test_transform = transforms.Compose([transforms.ToTensor(),\n",
        "                                     transforms.Normalize(0.5, 0.5)])\n",
        "\n",
        "train_set = torchvision.datasets.CIFAR10('./cifar10', train=True, download=True,\n",
        "                                         transform=train_transform)\n",
        "\n",
        "test_set = torchvision.datasets.CIFAR10('./cifar10', train=False, download=True,\n",
        "                                        transform=test_transform)\n",
        "\n",
        "print('Train size', len(train_set))\n",
        "print('Test size', len(test_set))"
      ],
      "metadata": {
        "colab": {
          "base_uri": "https://localhost:8080/",
          "height": 136,
          "referenced_widgets": [
            "85106843fa5a4a53af2cb20e56a01ac9",
            "d1459e51c9954a9db44e19d1b766473b",
            "b9e6884d8d51498383e6dccf324c595e",
            "c8e664d630c043fd9ee36f1a0c7fefd2",
            "cd9d24349c7941f5994a6a302977749b",
            "f355614b6e0c4f74a00efc1464e61fda",
            "4dc70a5727844b5c8bca35d026da4461",
            "d68a89806f444b39a247398f0b269cf0",
            "87fcf520c4fa43f9b7d82c4753574b03",
            "99ef275937674eb390cf0688a76173e6",
            "98712431a8ca45bca062ed68b6ac087c"
          ]
        },
        "id": "Af6pq2gJC9_9",
        "outputId": "a2f29964-dfd3-4dc2-876b-09c01141a750"
      },
      "execution_count": 18,
      "outputs": [
        {
          "output_type": "stream",
          "name": "stdout",
          "text": [
            "Downloading https://www.cs.toronto.edu/~kriz/cifar-10-python.tar.gz to ./cifar10/cifar-10-python.tar.gz\n"
          ]
        },
        {
          "output_type": "display_data",
          "data": {
            "text/plain": [
              "  0%|          | 0/170498071 [00:00<?, ?it/s]"
            ],
            "application/vnd.jupyter.widget-view+json": {
              "version_major": 2,
              "version_minor": 0,
              "model_id": "85106843fa5a4a53af2cb20e56a01ac9"
            }
          },
          "metadata": {}
        },
        {
          "output_type": "stream",
          "name": "stdout",
          "text": [
            "Extracting ./cifar10/cifar-10-python.tar.gz to ./cifar10\n",
            "Files already downloaded and verified\n",
            "Train size 50000\n",
            "Test size 10000\n"
          ]
        }
      ]
    },
    {
      "cell_type": "code",
      "source": [
        "train_size = 100 / len(train_set)"
      ],
      "metadata": {
        "id": "zFjRp-4YUIPY"
      },
      "execution_count": 19,
      "outputs": []
    },
    {
      "cell_type": "code",
      "source": [
        "train_idx, _ = train_test_split(np.arange(len(train_set)),\n",
        "                                train_size=train_size,\n",
        "                                shuffle=True,\n",
        "                                random_state=42,\n",
        "                                stratify=train_set.targets)"
      ],
      "metadata": {
        "id": "UVnH8oUtGHcc"
      },
      "execution_count": 20,
      "outputs": []
    },
    {
      "cell_type": "markdown",
      "source": [
        "Let's make sure that the obtained indices are indeed stratified by classes."
      ],
      "metadata": {
        "id": "L-UyK8DXRzpF"
      }
    },
    {
      "cell_type": "code",
      "source": [
        "pd.DataFrame(train_set.targets).rename(columns={0: 'class'}).iloc[train_idx].groupby('class').size()"
      ],
      "metadata": {
        "colab": {
          "base_uri": "https://localhost:8080/"
        },
        "id": "pbKZK8BoL5rb",
        "outputId": "00ce1c2a-3708-47a8-c974-c56aa899e872"
      },
      "execution_count": 21,
      "outputs": [
        {
          "output_type": "execute_result",
          "data": {
            "text/plain": [
              "class\n",
              "0    10\n",
              "1    10\n",
              "2    10\n",
              "3    10\n",
              "4    10\n",
              "5    10\n",
              "6    10\n",
              "7    10\n",
              "8    10\n",
              "9    10\n",
              "dtype: int64"
            ]
          },
          "metadata": {},
          "execution_count": 21
        }
      ]
    },
    {
      "cell_type": "code",
      "source": [
        "train_set = Subset(train_set, train_idx)"
      ],
      "metadata": {
        "id": "p2iDMU8pIxXF"
      },
      "execution_count": 22,
      "outputs": []
    },
    {
      "cell_type": "code",
      "source": [
        "batch_size = 16\n",
        "\n",
        "train_loader = torch.utils.data.DataLoader(train_set, batch_size=batch_size, shuffle=True, num_workers=2)\n",
        "test_loader = torch.utils.data.DataLoader(test_set, batch_size=batch_size, shuffle=False, num_workers=2)"
      ],
      "metadata": {
        "id": "RyFFjv4IRDeF"
      },
      "execution_count": 27,
      "outputs": []
    },
    {
      "cell_type": "code",
      "source": [
        "plot_random_images(train_loader)"
      ],
      "metadata": {
        "colab": {
          "base_uri": "https://localhost:8080/",
          "height": 159
        },
        "id": "1AWCm0qAWRlA",
        "outputId": "058b13d9-666d-4500-ba1e-b64bc78bb9e4"
      },
      "execution_count": 28,
      "outputs": [
        {
          "output_type": "display_data",
          "data": {
            "text/plain": [
              "<Figure size 1152x144 with 1 Axes>"
            ],
            "image/png": "[encoded data removed]"
          },
          "metadata": {
            "needs_background": "light"
          }
        }
      ]
    },
    {
      "cell_type": "code",
      "source": [
        "plot_random_images(test_loader)"
      ],
      "metadata": {
        "colab": {
          "base_uri": "https://localhost:8080/",
          "height": 159
        },
        "id": "hxzaWMfwW_uG",
        "outputId": "1cb61126-530a-4f05-c2af-6a05f47f2941"
      },
      "execution_count": 29,
      "outputs": [
        {
          "output_type": "display_data",
          "data": {
            "text/plain": [
              "<Figure size 1152x144 with 1 Axes>"
            ],
            "image/png": "[encoded data removed]"
          },
          "metadata": {
            "needs_background": "light"
          }
        }
      ]
    },
    {
      "cell_type": "markdown",
      "source": [
        "# Training on small dataset"
      ],
      "metadata": {
        "id": "i_4yxDmDX3jM"
      }
    },
    {
      "cell_type": "code",
      "source": [
        "class CNN(nn.Module):\n",
        "    def __init__(self, num_classes=100):\n",
        "        super(CNN, self).__init__()\n",
        "        self.features = nn.Sequential(\n",
        "            nn.Conv2d(3, 64, kernel_size=(7, 7), stride=(2, 2), padding=(3, 3), bias=False),\n",
        "            nn.BatchNorm2d(64),\n",
        "            nn.ReLU(),\n",
        "\n",
        "            nn.Conv2d(64, 128, kernel_size=(5, 5), stride=(2, 2), padding=(2, 2), bias=False),\n",
        "            nn.BatchNorm2d(128),\n",
        "            nn.ReLU(),\n",
        "\n",
        "            nn.Conv2d(128, 128, kernel_size=(5, 5), stride=(2, 2), padding=(2, 2), bias=False),\n",
        "            nn.BatchNorm2d(128),\n",
        "            nn.ReLU(),\n",
        "\n",
        "            nn.Conv2d(128, 256, kernel_size=(3, 3), stride=(2, 2), padding=(1, 1), bias=False),\n",
        "            nn.BatchNorm2d(256),\n",
        "            nn.ReLU(),\n",
        "        )\n",
        "        self.classifier = nn.Sequential(\n",
        "            nn.AdaptiveAvgPool2d(1),\n",
        "            nn.Flatten(),\n",
        "            nn.Linear(256, num_classes)\n",
        "        )\n",
        "\n",
        "    def forward(self, x):\n",
        "        batch_size = x.shape[0]\n",
        "        x = self.features(x)\n",
        "        x = self.classifier(x)\n",
        "        return x"
      ],
      "metadata": {
        "id": "HcFbtbpaX-T6"
      },
      "execution_count": 30,
      "outputs": []
    },
    {
      "cell_type": "code",
      "source": [
        ""
      ],
      "metadata": {
        "id": "xDCdLYjoX-a_"
      },
      "execution_count": 30,
      "outputs": []
    },
    {
      "cell_type": "markdown",
      "source": [
        "# Discriminators"
      ],
      "metadata": {
        "id": "JItH2pud405D"
      }
    },
    {
      "cell_type": "code",
      "source": [
        "RANDOM_SEED = 0\n",
        "\n",
        "set_random_seeds(seed_value=RANDOM_SEED, device=device)\n",
        "\n",
        "clf = CNN(num_classes=10).to(device)\n",
        "print('Number of weights:', np.sum([np.prod(p.shape) for p in clf.parameters()]))"
      ],
      "metadata": {
        "colab": {
          "base_uri": "https://localhost:8080/"
        },
        "id": "DrqRJCOeDYVa",
        "outputId": "85bb8a3e-4791-4abf-c332-28a0912e2f20"
      },
      "execution_count": 31,
      "outputs": [
        {
          "output_type": "stream",
          "name": "stdout",
          "text": [
            "Number of weights: 922442\n"
          ]
        }
      ]
    },
    {
      "cell_type": "code",
      "source": [
        "# custom weights initialization called on netG and netD\n",
        "def weights_init(m):\n",
        "    classname = m.__class__.__name__\n",
        "    if classname.find('Conv') != -1:\n",
        "        nn.init.normal_(m.weight.data, 0.0, 0.02)\n",
        "    elif classname.find('BatchNorm') != -1:\n",
        "        nn.init.normal_(m.weight.data, 1.0, 0.02)\n",
        "        nn.init.constant_(m.bias.data, 0)"
      ],
      "metadata": {
        "id": "a1pzJWOM42wu"
      },
      "execution_count": 32,
      "outputs": []
    },
    {
      "cell_type": "code",
      "source": [
        "class Discriminator(nn.Module):\n",
        "    def __init__(self):\n",
        "        super(Discriminator, self).__init__()\n",
        "        self.main = nn.Sequential(\n",
        "            nn.Conv2d(1, 64, kernel_size=(3, 3), padding=(1, 1), bias=False),\n",
        "            nn.BatchNorm2d(64),\n",
        "            nn.LeakyReLU(0.2, inplace=True),\n",
        "\n",
        "            nn.Conv2d(64, 128, kernel_size=(3, 3), padding=(1, 1), bias=False),\n",
        "            nn.BatchNorm2d(128),\n",
        "            nn.LeakyReLU(0.2, inplace=True),\n",
        "\n",
        "            #nn.Conv2d(128, 1, kernel_size=(3, 3), padding=(1, 1), bias=False),\n",
        "            #nn.Sigmoid()\n",
        "            nn.AdaptiveAvgPool2d(1),\n",
        "            nn.Flatten(),\n",
        "            nn.Linear(128, 1),\n",
        "            nn.Sigmoid()\n",
        "        )\n",
        "    \n",
        "    def forward(self, input):\n",
        "        return self.main(input)"
      ],
      "metadata": {
        "id": "6Kybg1Lm5OvK"
      },
      "execution_count": 33,
      "outputs": []
    },
    {
      "cell_type": "code",
      "source": [
        "RANDOM_SEED = 0\n",
        "set_random_seeds(seed_value=RANDOM_SEED, device=device)\n",
        "\n",
        "netD = Discriminator().to(device)\n",
        "netD.apply(weights_init)\n",
        "print('Number of weights:', np.sum([np.prod(p.shape) for p in netD.parameters()]))"
      ],
      "metadata": {
        "colab": {
          "base_uri": "https://localhost:8080/"
        },
        "id": "7NTyOdJC5QQ2",
        "outputId": "80e36c20-e146-496b-92e0-dbde83f22521"
      },
      "execution_count": 34,
      "outputs": [
        {
          "output_type": "stream",
          "name": "stdout",
          "text": [
            "Number of weights: 74817\n"
          ]
        }
      ]
    },
    {
      "cell_type": "code",
      "source": [
        "netD"
      ],
      "metadata": {
        "colab": {
          "base_uri": "https://localhost:8080/"
        },
        "id": "ZOfF9Xm_5uf-",
        "outputId": "075159f6-9649-4512-fe66-28db60644766"
      },
      "execution_count": 35,
      "outputs": [
        {
          "output_type": "execute_result",
          "data": {
            "text/plain": [
              "Discriminator(\n",
              "  (main): Sequential(\n",
              "    (0): Conv2d(1, 64, kernel_size=(3, 3), stride=(1, 1), padding=(1, 1), bias=False)\n",
              "    (1): BatchNorm2d(64, eps=1e-05, momentum=0.1, affine=True, track_running_stats=True)\n",
              "    (2): LeakyReLU(negative_slope=0.2, inplace=True)\n",
              "    (3): Conv2d(64, 128, kernel_size=(3, 3), stride=(1, 1), padding=(1, 1), bias=False)\n",
              "    (4): BatchNorm2d(128, eps=1e-05, momentum=0.1, affine=True, track_running_stats=True)\n",
              "    (5): LeakyReLU(negative_slope=0.2, inplace=True)\n",
              "    (6): AdaptiveAvgPool2d(output_size=1)\n",
              "    (7): Flatten(start_dim=1, end_dim=-1)\n",
              "    (8): Linear(in_features=128, out_features=1, bias=True)\n",
              "    (9): Sigmoid()\n",
              "  )\n",
              ")"
            ]
          },
          "metadata": {},
          "execution_count": 35
        }
      ]
    },
    {
      "cell_type": "code",
      "source": [
        "# Initialize criterions for classifier and discriminator\n",
        "criterion_clf = nn.CrossEntropyLoss()\n",
        "criterion_D = nn.BCELoss()\n",
        "\n",
        "# Establish convention for real and fake labels during training\n",
        "real_label = 1.\n",
        "fake_label = 0.\n",
        "\n",
        "# Setup Adam optimizers for both classifier and discriminator\n",
        "opt_clf = torch.optim.Adam(clf.parameters(), weight_decay=1e-4)\n",
        "opt_D = torch.optim.Adam(netD.parameters(), lr=0.0002, betas=(0.5, 0.999))"
      ],
      "metadata": {
        "id": "qY2AgYJZ6cxP"
      },
      "execution_count": 36,
      "outputs": []
    },
    {
      "cell_type": "code",
      "source": [
        "def epoch_discriminator(real_loader, fake_loader, netD, criterion_D, opt_D):\n",
        "    for i, real_batch in enumerate(real_loader):\n",
        "        netD.train()\n",
        "        netD.zero_grad()\n",
        "        #############################\n",
        "        ## Train with all-real batch\n",
        "        # Format batch\n",
        "        real_batch = real_batch.to(device)\n",
        "        b_size = real_batch.size(0)\n",
        "        label = torch.full((b_size,), real_label, dtype=torch.float, device=device)\n",
        "        # Forward pass real batch through D\n",
        "        output = netD(real_batch).view(-1)\n",
        "        # Calculate loss on all-real batch\n",
        "        errD_real = criterion_D(output, label)\n",
        "        # Calculate gradients for D in backward pass\n",
        "        errD_real.backward()\n",
        "        D_x = output.mean().item()\n",
        "\n",
        "        #############################\n",
        "        ## Train with all-fake batch\n",
        "        # Format batch\n",
        "        fake_batch = next(iter(fake_loader))\n",
        "        b_size = fake_batch.size(0)\n",
        "        label = torch.full((b_size,), fake_label, dtype=torch.float, device=device)\n",
        "        # Classify all fake batch with D\n",
        "        output = netD(fake_batch.detach()).view(-1)\n",
        "        # Calculate D's loss on the all-fake batch\n",
        "        errD_fake = criterion_D(output, label)\n",
        "        # Calculate the gradients for this batch, accumulated with previous gradients\n",
        "        errD_fake.backward()\n",
        "        D_G_z1 = output.mean().item()\n",
        "        # Compute error of D as sum over the fake and real batches\n",
        "        errD = errD_real + errD_fake\n",
        "        # Update D\n",
        "        opt_D.step()\n",
        "\n",
        "        return errD.item()"
      ],
      "metadata": {
        "id": "iiGpjstUtiOv"
      },
      "execution_count": 37,
      "outputs": []
    },
    {
      "cell_type": "code",
      "source": [
        "def epoch_classifier(img_loader, clf, netD, criterion_clf, criterion_D, opt_clf, opt_D):\n",
        "    # Update classifier\n",
        "    clf.train()\n",
        "    for data, target in img_loader:\n",
        "        data = data.to(device)\n",
        "        target = target.to(device)\n",
        "        output = clf(data)\n",
        "        # Classifier loss\n",
        "        loss = criterion_clf(output, target)\n",
        "\n",
        "        opt_clf.zero_grad()\n",
        "        loss.backward()\n",
        "        opt_clf.step()\n",
        "    \n",
        "    # Evaluation\n",
        "    clf.eval()\n",
        "    train_loss = 0\n",
        "    with torch.no_grad():\n",
        "        for data, target in img_loader:\n",
        "            data = data.to(device)\n",
        "            target = target.to(device)\n",
        "            output = clf(data)\n",
        "            train_loss += criterion_clf(output, target).item()\n",
        "    train_acc = get_accuracy(clf, img_loader, device)\n",
        "    train_loss /= len(img_loader.dataset)\n",
        "    return train_loss, train_acc"
      ],
      "metadata": {
        "id": "UQulQmELdymZ"
      },
      "execution_count": 38,
      "outputs": []
    },
    {
      "cell_type": "code",
      "source": [
        "def epoch_test(img_loader, clf, criterion_clf):\n",
        "    clf.eval()\n",
        "    test_loss = 0\n",
        "    with torch.no_grad():\n",
        "        for data, target in img_loader:\n",
        "            data = data.to(device)\n",
        "            target = target.to(device)\n",
        "            output = clf(data)\n",
        "            test_loss += criterion_clf(output, target).item()\n",
        "    test_acc = get_accuracy(clf, img_loader, device)\n",
        "    test_loss /= len(img_loader.dataset)\n",
        "    return test_loss, test_acc"
      ],
      "metadata": {
        "id": "DdV4Dz1TCZH-"
      },
      "execution_count": 39,
      "outputs": []
    },
    {
      "cell_type": "code",
      "source": [
        "n_epochs = 100\n",
        "\n",
        "real_loader = filters_loader[0]\n",
        "\n",
        "print(\"Starting Training Loop...\")\n",
        "for epoch in range(n_epochs):\n",
        "    fake_filters = FilterDataset([clf.features[0]])\n",
        "    fake_loader = DataLoader(fake_filters, batch_size=32, shuffle=True)\n",
        "\n",
        "    errD = epoch_discriminator(real_loader, fake_loader, netD, criterion_D, opt_D)\n",
        "    train_loss, train_acc = epoch_classifier(train_loader, clf, netD, criterion_clf, criterion_D, opt_clf, opt_D)\n",
        "    test_loss, test_acc = epoch_test(test_loader, clf, criterion_clf)\n",
        "\n",
        "    print(f'[Epoch {epoch + 1}] train loss: {train_loss:.3f}; train acc: {train_acc:.2f}; ' + \n",
        "          f'test loss: {test_loss:.3f}; test acc: {test_acc:.2f}')\n",
        "    print(f'Discriminator loss: {errD}')"
      ],
      "metadata": {
        "id": "UodkfU85b9Fk",
        "colab": {
          "base_uri": "https://localhost:8080/"
        },
        "outputId": "e9a367ec-3138-4eea-d34c-a00fcd4de79f"
      },
      "execution_count": 40,
      "outputs": [
        {
          "output_type": "stream",
          "name": "stdout",
          "text": [
            "Starting Training Loop...\n",
            "[Epoch 1] train loss: 0.153; train acc: 0.46; test loss: 0.142; test acc: 0.17\n",
            "Discriminator loss: 1.3926069736480713\n",
            "[Epoch 2] train loss: 0.131; train acc: 0.54; test loss: 0.137; test acc: 0.18\n",
            "Discriminator loss: 1.3884773254394531\n",
            "[Epoch 3] train loss: 0.114; train acc: 0.57; test loss: 0.141; test acc: 0.14\n",
            "Discriminator loss: 1.381417989730835\n",
            "[Epoch 4] train loss: 0.085; train acc: 0.71; test loss: 0.144; test acc: 0.15\n",
            "Discriminator loss: 1.3816215991973877\n",
            "[Epoch 5] train loss: 0.064; train acc: 0.86; test loss: 0.148; test acc: 0.14\n",
            "Discriminator loss: 1.3802659511566162\n",
            "[Epoch 6] train loss: 0.027; train acc: 0.99; test loss: 0.139; test acc: 0.19\n",
            "Discriminator loss: 1.3722193241119385\n",
            "[Epoch 7] train loss: 0.016; train acc: 1.00; test loss: 0.139; test acc: 0.20\n",
            "Discriminator loss: 1.3731698989868164\n",
            "[Epoch 8] train loss: 0.008; train acc: 1.00; test loss: 0.140; test acc: 0.21\n",
            "Discriminator loss: 1.3683698177337646\n",
            "[Epoch 9] train loss: 0.005; train acc: 1.00; test loss: 0.145; test acc: 0.22\n",
            "Discriminator loss: 1.3713674545288086\n",
            "[Epoch 10] train loss: 0.006; train acc: 1.00; test loss: 0.143; test acc: 0.21\n",
            "Discriminator loss: 1.3659987449645996\n",
            "[Epoch 11] train loss: 0.006; train acc: 1.00; test loss: 0.147; test acc: 0.19\n",
            "Discriminator loss: 1.3613042831420898\n",
            "[Epoch 12] train loss: 0.004; train acc: 1.00; test loss: 0.153; test acc: 0.21\n",
            "Discriminator loss: 1.356156349182129\n",
            "[Epoch 13] train loss: 0.006; train acc: 0.99; test loss: 0.157; test acc: 0.21\n",
            "Discriminator loss: 1.3628700971603394\n",
            "[Epoch 14] train loss: 0.005; train acc: 1.00; test loss: 0.150; test acc: 0.20\n",
            "Discriminator loss: 1.350539207458496\n",
            "[Epoch 15] train loss: 0.002; train acc: 1.00; test loss: 0.147; test acc: 0.22\n",
            "Discriminator loss: 1.357187032699585\n",
            "[Epoch 16] train loss: 0.002; train acc: 1.00; test loss: 0.151; test acc: 0.23\n",
            "Discriminator loss: 1.3497917652130127\n",
            "[Epoch 17] train loss: 0.001; train acc: 1.00; test loss: 0.154; test acc: 0.22\n",
            "Discriminator loss: 1.359867811203003\n",
            "[Epoch 18] train loss: 0.003; train acc: 1.00; test loss: 0.158; test acc: 0.21\n",
            "Discriminator loss: 1.3454792499542236\n",
            "[Epoch 19] train loss: 0.003; train acc: 1.00; test loss: 0.147; test acc: 0.22\n",
            "Discriminator loss: 1.3443424701690674\n",
            "[Epoch 20] train loss: 0.001; train acc: 1.00; test loss: 0.147; test acc: 0.22\n",
            "Discriminator loss: 1.344773292541504\n",
            "[Epoch 21] train loss: 0.001; train acc: 1.00; test loss: 0.155; test acc: 0.21\n",
            "Discriminator loss: 1.3441498279571533\n",
            "[Epoch 22] train loss: 0.001; train acc: 1.00; test loss: 0.158; test acc: 0.21\n",
            "Discriminator loss: 1.3534536361694336\n",
            "[Epoch 23] train loss: 0.001; train acc: 1.00; test loss: 0.157; test acc: 0.22\n",
            "Discriminator loss: 1.34511399269104\n",
            "[Epoch 24] train loss: 0.001; train acc: 1.00; test loss: 0.155; test acc: 0.21\n",
            "Discriminator loss: 1.3368980884552002\n",
            "[Epoch 25] train loss: 0.002; train acc: 1.00; test loss: 0.157; test acc: 0.21\n",
            "Discriminator loss: 1.3342454433441162\n",
            "[Epoch 26] train loss: 0.001; train acc: 1.00; test loss: 0.152; test acc: 0.22\n",
            "Discriminator loss: 1.3401243686676025\n",
            "[Epoch 27] train loss: 0.001; train acc: 1.00; test loss: 0.154; test acc: 0.21\n",
            "Discriminator loss: 1.3345550298690796\n",
            "[Epoch 28] train loss: 0.001; train acc: 1.00; test loss: 0.156; test acc: 0.20\n",
            "Discriminator loss: 1.3285315036773682\n",
            "[Epoch 29] train loss: 0.006; train acc: 0.97; test loss: 0.186; test acc: 0.17\n",
            "Discriminator loss: 1.3387513160705566\n",
            "[Epoch 30] train loss: 0.001; train acc: 1.00; test loss: 0.179; test acc: 0.18\n",
            "Discriminator loss: 1.3254871368408203\n",
            "[Epoch 31] train loss: 0.003; train acc: 1.00; test loss: 0.173; test acc: 0.20\n",
            "Discriminator loss: 1.3339791297912598\n",
            "[Epoch 32] train loss: 0.001; train acc: 1.00; test loss: 0.167; test acc: 0.21\n",
            "Discriminator loss: 1.3249047994613647\n",
            "[Epoch 33] train loss: 0.001; train acc: 1.00; test loss: 0.159; test acc: 0.22\n",
            "Discriminator loss: 1.32281494140625\n",
            "[Epoch 34] train loss: 0.001; train acc: 1.00; test loss: 0.158; test acc: 0.21\n",
            "Discriminator loss: 1.3345506191253662\n",
            "[Epoch 35] train loss: 0.000; train acc: 1.00; test loss: 0.159; test acc: 0.22\n",
            "Discriminator loss: 1.3262544870376587\n",
            "[Epoch 36] train loss: 0.000; train acc: 1.00; test loss: 0.160; test acc: 0.21\n",
            "Discriminator loss: 1.3338960409164429\n",
            "[Epoch 37] train loss: 0.000; train acc: 1.00; test loss: 0.160; test acc: 0.21\n",
            "Discriminator loss: 1.3311669826507568\n",
            "[Epoch 38] train loss: 0.000; train acc: 1.00; test loss: 0.159; test acc: 0.21\n",
            "Discriminator loss: 1.3195929527282715\n",
            "[Epoch 39] train loss: 0.000; train acc: 1.00; test loss: 0.158; test acc: 0.21\n",
            "Discriminator loss: 1.3260987997055054\n",
            "[Epoch 40] train loss: 0.000; train acc: 1.00; test loss: 0.158; test acc: 0.21\n",
            "Discriminator loss: 1.3231086730957031\n",
            "[Epoch 41] train loss: 0.000; train acc: 1.00; test loss: 0.159; test acc: 0.21\n",
            "Discriminator loss: 1.3239729404449463\n",
            "[Epoch 42] train loss: 0.000; train acc: 1.00; test loss: 0.159; test acc: 0.21\n",
            "Discriminator loss: 1.3138734102249146\n",
            "[Epoch 43] train loss: 0.000; train acc: 1.00; test loss: 0.161; test acc: 0.21\n",
            "Discriminator loss: 1.3217382431030273\n",
            "[Epoch 44] train loss: 0.000; train acc: 1.00; test loss: 0.161; test acc: 0.20\n",
            "Discriminator loss: 1.3217157125473022\n",
            "[Epoch 45] train loss: 0.000; train acc: 1.00; test loss: 0.160; test acc: 0.20\n",
            "Discriminator loss: 1.320743203163147\n",
            "[Epoch 46] train loss: 0.000; train acc: 1.00; test loss: 0.161; test acc: 0.20\n",
            "Discriminator loss: 1.3131957054138184\n",
            "[Epoch 47] train loss: 0.001; train acc: 1.00; test loss: 0.167; test acc: 0.19\n",
            "Discriminator loss: 1.316171407699585\n",
            "[Epoch 48] train loss: 0.000; train acc: 1.00; test loss: 0.166; test acc: 0.20\n",
            "Discriminator loss: 1.3097351789474487\n",
            "[Epoch 49] train loss: 0.001; train acc: 1.00; test loss: 0.174; test acc: 0.19\n",
            "Discriminator loss: 1.3085472583770752\n",
            "[Epoch 50] train loss: 0.000; train acc: 1.00; test loss: 0.172; test acc: 0.20\n",
            "Discriminator loss: 1.31477689743042\n",
            "[Epoch 51] train loss: 0.000; train acc: 1.00; test loss: 0.176; test acc: 0.20\n",
            "Discriminator loss: 1.3159980773925781\n",
            "[Epoch 52] train loss: 0.001; train acc: 1.00; test loss: 0.202; test acc: 0.18\n",
            "Discriminator loss: 1.3082938194274902\n",
            "[Epoch 53] train loss: 0.001; train acc: 1.00; test loss: 0.178; test acc: 0.20\n",
            "Discriminator loss: 1.3116726875305176\n",
            "[Epoch 54] train loss: 0.003; train acc: 1.00; test loss: 0.196; test acc: 0.19\n",
            "Discriminator loss: 1.3073655366897583\n",
            "[Epoch 55] train loss: 0.001; train acc: 1.00; test loss: 0.182; test acc: 0.19\n",
            "Discriminator loss: 1.3065754175186157\n",
            "[Epoch 56] train loss: 0.007; train acc: 0.97; test loss: 0.219; test acc: 0.16\n",
            "Discriminator loss: 1.3038769960403442\n",
            "[Epoch 57] train loss: 0.010; train acc: 0.96; test loss: 0.237; test acc: 0.15\n",
            "Discriminator loss: 1.2979812622070312\n",
            "[Epoch 58] train loss: 0.004; train acc: 0.99; test loss: 0.181; test acc: 0.20\n",
            "Discriminator loss: 1.3049612045288086\n",
            "[Epoch 59] train loss: 0.002; train acc: 1.00; test loss: 0.212; test acc: 0.18\n",
            "Discriminator loss: 1.313258409500122\n",
            "[Epoch 60] train loss: 0.002; train acc: 1.00; test loss: 0.190; test acc: 0.19\n",
            "Discriminator loss: 1.297680377960205\n",
            "[Epoch 61] train loss: 0.001; train acc: 1.00; test loss: 0.187; test acc: 0.19\n",
            "Discriminator loss: 1.309924840927124\n",
            "[Epoch 62] train loss: 0.008; train acc: 0.96; test loss: 0.216; test acc: 0.18\n",
            "Discriminator loss: 1.3110383749008179\n",
            "[Epoch 63] train loss: 0.001; train acc: 1.00; test loss: 0.196; test acc: 0.19\n",
            "Discriminator loss: 1.299709677696228\n",
            "[Epoch 64] train loss: 0.003; train acc: 0.98; test loss: 0.197; test acc: 0.19\n",
            "Discriminator loss: 1.3028159141540527\n",
            "[Epoch 65] train loss: 0.004; train acc: 0.99; test loss: 0.199; test acc: 0.19\n",
            "Discriminator loss: 1.2932980060577393\n",
            "[Epoch 66] train loss: 0.003; train acc: 1.00; test loss: 0.206; test acc: 0.18\n",
            "Discriminator loss: 1.3030710220336914\n",
            "[Epoch 67] train loss: 0.001; train acc: 1.00; test loss: 0.192; test acc: 0.18\n",
            "Discriminator loss: 1.298649787902832\n",
            "[Epoch 68] train loss: 0.002; train acc: 1.00; test loss: 0.190; test acc: 0.18\n",
            "Discriminator loss: 1.286671757698059\n",
            "[Epoch 69] train loss: 0.001; train acc: 1.00; test loss: 0.179; test acc: 0.19\n",
            "Discriminator loss: 1.29349684715271\n",
            "[Epoch 70] train loss: 0.000; train acc: 1.00; test loss: 0.176; test acc: 0.20\n",
            "Discriminator loss: 1.2949912548065186\n",
            "[Epoch 71] train loss: 0.000; train acc: 1.00; test loss: 0.176; test acc: 0.20\n",
            "Discriminator loss: 1.295392632484436\n",
            "[Epoch 72] train loss: 0.000; train acc: 1.00; test loss: 0.183; test acc: 0.19\n",
            "Discriminator loss: 1.301569938659668\n",
            "[Epoch 73] train loss: 0.000; train acc: 1.00; test loss: 0.185; test acc: 0.19\n",
            "Discriminator loss: 1.296837329864502\n",
            "[Epoch 74] train loss: 0.000; train acc: 1.00; test loss: 0.184; test acc: 0.19\n",
            "Discriminator loss: 1.2787916660308838\n",
            "[Epoch 75] train loss: 0.015; train acc: 0.96; test loss: 0.197; test acc: 0.19\n",
            "Discriminator loss: 1.2871367931365967\n",
            "[Epoch 76] train loss: 0.003; train acc: 0.99; test loss: 0.206; test acc: 0.19\n",
            "Discriminator loss: 1.2889811992645264\n",
            "[Epoch 77] train loss: 0.002; train acc: 0.99; test loss: 0.200; test acc: 0.19\n",
            "Discriminator loss: 1.2821099758148193\n",
            "[Epoch 78] train loss: 0.002; train acc: 1.00; test loss: 0.192; test acc: 0.18\n",
            "Discriminator loss: 1.2927757501602173\n",
            "[Epoch 79] train loss: 0.002; train acc: 1.00; test loss: 0.192; test acc: 0.17\n",
            "Discriminator loss: 1.2803936004638672\n",
            "[Epoch 80] train loss: 0.005; train acc: 0.99; test loss: 0.193; test acc: 0.18\n",
            "Discriminator loss: 1.2863085269927979\n",
            "[Epoch 81] train loss: 0.001; train acc: 1.00; test loss: 0.193; test acc: 0.19\n",
            "Discriminator loss: 1.280795693397522\n",
            "[Epoch 82] train loss: 0.001; train acc: 1.00; test loss: 0.190; test acc: 0.18\n",
            "Discriminator loss: 1.2847416400909424\n",
            "[Epoch 83] train loss: 0.001; train acc: 1.00; test loss: 0.196; test acc: 0.18\n",
            "Discriminator loss: 1.2822604179382324\n",
            "[Epoch 84] train loss: 0.001; train acc: 1.00; test loss: 0.189; test acc: 0.18\n",
            "Discriminator loss: 1.27708101272583\n",
            "[Epoch 85] train loss: 0.001; train acc: 1.00; test loss: 0.191; test acc: 0.19\n",
            "Discriminator loss: 1.296057105064392\n",
            "[Epoch 86] train loss: 0.006; train acc: 0.97; test loss: 0.218; test acc: 0.17\n",
            "Discriminator loss: 1.2722911834716797\n",
            "[Epoch 87] train loss: 0.001; train acc: 1.00; test loss: 0.211; test acc: 0.18\n",
            "Discriminator loss: 1.272897481918335\n",
            "[Epoch 88] train loss: 0.001; train acc: 1.00; test loss: 0.195; test acc: 0.19\n",
            "Discriminator loss: 1.285793423652649\n",
            "[Epoch 89] train loss: 0.000; train acc: 1.00; test loss: 0.194; test acc: 0.20\n",
            "Discriminator loss: 1.2618658542633057\n",
            "[Epoch 90] train loss: 0.004; train acc: 0.99; test loss: 0.204; test acc: 0.19\n",
            "Discriminator loss: 1.2791552543640137\n",
            "[Epoch 91] train loss: 0.001; train acc: 1.00; test loss: 0.198; test acc: 0.19\n",
            "Discriminator loss: 1.2726531028747559\n",
            "[Epoch 92] train loss: 0.000; train acc: 1.00; test loss: 0.201; test acc: 0.19\n",
            "Discriminator loss: 1.2701325416564941\n",
            "[Epoch 93] train loss: 0.000; train acc: 1.00; test loss: 0.199; test acc: 0.19\n",
            "Discriminator loss: 1.27688467502594\n",
            "[Epoch 94] train loss: 0.000; train acc: 1.00; test loss: 0.196; test acc: 0.18\n",
            "Discriminator loss: 1.2626123428344727\n",
            "[Epoch 95] train loss: 0.002; train acc: 0.99; test loss: 0.206; test acc: 0.16\n",
            "Discriminator loss: 1.2564152479171753\n",
            "[Epoch 96] train loss: 0.000; train acc: 1.00; test loss: 0.203; test acc: 0.17\n",
            "Discriminator loss: 1.2747539281845093\n",
            "[Epoch 97] train loss: 0.000; train acc: 1.00; test loss: 0.202; test acc: 0.18\n",
            "Discriminator loss: 1.2597079277038574\n",
            "[Epoch 98] train loss: 0.000; train acc: 1.00; test loss: 0.203; test acc: 0.18\n",
            "Discriminator loss: 1.2640008926391602\n",
            "[Epoch 99] train loss: 0.001; train acc: 1.00; test loss: 0.206; test acc: 0.18\n",
            "Discriminator loss: 1.2641515731811523\n",
            "[Epoch 100] train loss: 0.000; train acc: 1.00; test loss: 0.211; test acc: 0.17\n",
            "Discriminator loss: 1.2477138042449951\n"
          ]
        }
      ]
    },
    {
      "cell_type": "code",
      "source": [
        ""
      ],
      "metadata": {
        "id": "bRXm3qn_b5ur"
      },
      "execution_count": null,
      "outputs": []
    }
  ]
}