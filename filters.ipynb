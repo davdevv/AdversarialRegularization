{
  "nbformat": 4,
  "nbformat_minor": 0,
  "metadata": {
    "colab": {
      "name": "filters.ipynb",
      "provenance": [],
      "collapsed_sections": [],
      "authorship_tag": "ABX9TyPmASKFhRT7fBjU6Mo+nK4r",
      "include_colab_link": true
    },
    "kernelspec": {
      "name": "python3",
      "display_name": "Python 3"
    },
    "language_info": {
      "name": "python"
    }
  },
  "cells": [
    {
      "cell_type": "markdown",
      "metadata": {
        "id": "view-in-github",
        "colab_type": "text"
      },
      "source": [
        "<a href=\"https://colab.research.google.com/github/realfolkcode/AdversarialRegularization/blob/main/filters.ipynb\" target=\"_parent\"><img src=\"https://colab.research.google.com/assets/colab-badge.svg\" alt=\"Open In Colab\"/></a>"
      ]
    },
    {
      "cell_type": "markdown",
      "source": [
        "# Install and import"
      ],
      "metadata": {
        "id": "xroV2mE8Aqjf"
      }
    },
    {
      "cell_type": "code",
      "execution_count": 29,
      "metadata": {
        "id": "Vr0z-_t8jzJO"
      },
      "outputs": [],
      "source": [
        "import torch\n",
        "import torchvision\n",
        "from torch import nn\n",
        "from torch.utils.data import Dataset, DataLoader\n",
        "import numpy as np\n",
        "import matplotlib.pyplot as plt\n",
        "%matplotlib inline\n",
        "\n",
        "device = torch.device('cuda:0' if torch.cuda.is_available() else 'cpu')"
      ]
    },
    {
      "cell_type": "code",
      "source": [
        "!git clone https://github.com/realfolkcode/AdversarialRegularization.git"
      ],
      "metadata": {
        "colab": {
          "base_uri": "https://localhost:8080/"
        },
        "id": "sETUwJ7aVC-2",
        "outputId": "74180547-bff2-493e-c526-589c4f953522"
      },
      "execution_count": 30,
      "outputs": [
        {
          "output_type": "stream",
          "name": "stdout",
          "text": [
            "fatal: destination path 'AdversarialRegularization' already exists and is not an empty directory.\n"
          ]
        }
      ]
    },
    {
      "cell_type": "markdown",
      "source": [
        "# Loading Model"
      ],
      "metadata": {
        "id": "yylNEvxPGpnO"
      }
    },
    {
      "cell_type": "code",
      "source": [
        "class CNN(nn.Module):\n",
        "    def __init__(self, num_classes=100):\n",
        "        super(CNN, self).__init__()\n",
        "        self.features = nn.Sequential(\n",
        "            nn.Conv2d(3, 64, kernel_size=(7, 7), stride=(2, 2), padding=(3, 3), bias=False),\n",
        "            nn.BatchNorm2d(64),\n",
        "            nn.ReLU(),\n",
        "\n",
        "            nn.Conv2d(64, 128, kernel_size=(5, 5), stride=(2, 2), padding=(2, 2), bias=False),\n",
        "            nn.BatchNorm2d(128),\n",
        "            nn.ReLU(),\n",
        "\n",
        "            nn.Conv2d(128, 128, kernel_size=(5, 5), stride=(2, 2), padding=(2, 2), bias=False),\n",
        "            nn.BatchNorm2d(128),\n",
        "            nn.ReLU(),\n",
        "\n",
        "            nn.Conv2d(128, 256, kernel_size=(3, 3), stride=(2, 2), padding=(1, 1), bias=False),\n",
        "            nn.BatchNorm2d(256),\n",
        "            nn.ReLU(),\n",
        "        )\n",
        "        self.classifier = nn.Sequential(\n",
        "            nn.AdaptiveAvgPool2d(1),\n",
        "            nn.Flatten(),\n",
        "            nn.Linear(256, num_classes)\n",
        "        )\n",
        "\n",
        "    def forward(self, x):\n",
        "        batch_size = x.shape[0]\n",
        "        x = self.features(x)\n",
        "        x = self.classifier(x)\n",
        "        return x"
      ],
      "metadata": {
        "id": "TK3TxdITVIN6"
      },
      "execution_count": 31,
      "outputs": []
    },
    {
      "cell_type": "code",
      "source": [
        "model1_path = 'AdversarialRegularization/models/model1_seed0.pt'\n",
        "\n",
        "model1 = CNN(num_classes=100)\n",
        "model1.load_state_dict(torch.load(model1_path, map_location=device))"
      ],
      "metadata": {
        "colab": {
          "base_uri": "https://localhost:8080/"
        },
        "id": "_4jwdhU2VLHN",
        "outputId": "3c2b0321-1655-489e-c8ba-cb0e318e4b83"
      },
      "execution_count": 32,
      "outputs": [
        {
          "output_type": "execute_result",
          "data": {
            "text/plain": [
              "<All keys matched successfully>"
            ]
          },
          "metadata": {},
          "execution_count": 32
        }
      ]
    },
    {
      "cell_type": "code",
      "source": [
        "model1"
      ],
      "metadata": {
        "colab": {
          "base_uri": "https://localhost:8080/"
        },
        "id": "2DfSecfAVNvU",
        "outputId": "7c1741ad-dbe0-4241-c9c1-1d2c6aeca866"
      },
      "execution_count": 33,
      "outputs": [
        {
          "output_type": "execute_result",
          "data": {
            "text/plain": [
              "CNN(\n",
              "  (features): Sequential(\n",
              "    (0): Conv2d(3, 64, kernel_size=(7, 7), stride=(2, 2), padding=(3, 3), bias=False)\n",
              "    (1): BatchNorm2d(64, eps=1e-05, momentum=0.1, affine=True, track_running_stats=True)\n",
              "    (2): ReLU()\n",
              "    (3): Conv2d(64, 128, kernel_size=(5, 5), stride=(2, 2), padding=(2, 2), bias=False)\n",
              "    (4): BatchNorm2d(128, eps=1e-05, momentum=0.1, affine=True, track_running_stats=True)\n",
              "    (5): ReLU()\n",
              "    (6): Conv2d(128, 128, kernel_size=(5, 5), stride=(2, 2), padding=(2, 2), bias=False)\n",
              "    (7): BatchNorm2d(128, eps=1e-05, momentum=0.1, affine=True, track_running_stats=True)\n",
              "    (8): ReLU()\n",
              "    (9): Conv2d(128, 256, kernel_size=(3, 3), stride=(2, 2), padding=(1, 1), bias=False)\n",
              "    (10): BatchNorm2d(256, eps=1e-05, momentum=0.1, affine=True, track_running_stats=True)\n",
              "    (11): ReLU()\n",
              "  )\n",
              "  (classifier): Sequential(\n",
              "    (0): AdaptiveAvgPool2d(output_size=1)\n",
              "    (1): Flatten(start_dim=1, end_dim=-1)\n",
              "    (2): Linear(in_features=256, out_features=100, bias=True)\n",
              "  )\n",
              ")"
            ]
          },
          "metadata": {},
          "execution_count": 33
        }
      ]
    },
    {
      "cell_type": "markdown",
      "source": [
        "# Filter Dataset"
      ],
      "metadata": {
        "id": "VQIxvF74Gtf9"
      }
    },
    {
      "cell_type": "markdown",
      "source": [
        "Let us create a class for filters dataset to make life easier. We will use it to train discriminators. As input, it would take a list of convolution layers (kernel sizes must be the same)."
      ],
      "metadata": {
        "id": "s2JgDDoWCkdB"
      }
    },
    {
      "cell_type": "code",
      "source": [
        "class FilterDataset(Dataset):\n",
        "    def __init__(self, layer_lst):\n",
        "        self.kernels = [layer.weight.data.clone() for layer in layer_lst]\n",
        "        self.kernels = torch.cat(self.kernels)\n",
        "        c_out, c_in, h, w = self.kernels.shape\n",
        "        self.kernels = self.kernels.view(c_out * c_in, -1, h, w)\n",
        "    \n",
        "    def __len__(self):\n",
        "        return len(self.kernels)\n",
        "    \n",
        "    def __getitem__(self, idx):\n",
        "        return self.kernels[idx]"
      ],
      "metadata": {
        "id": "jG88TQK0sSy-"
      },
      "execution_count": 34,
      "outputs": []
    },
    {
      "cell_type": "code",
      "source": [
        "model1.features[0]"
      ],
      "metadata": {
        "colab": {
          "base_uri": "https://localhost:8080/"
        },
        "id": "7H03NnZSD6JX",
        "outputId": "fcf8c180-7416-450a-d25a-80fd24e134f7"
      },
      "execution_count": 35,
      "outputs": [
        {
          "output_type": "execute_result",
          "data": {
            "text/plain": [
              "Conv2d(3, 64, kernel_size=(7, 7), stride=(2, 2), padding=(3, 3), bias=False)"
            ]
          },
          "metadata": {},
          "execution_count": 35
        }
      ]
    },
    {
      "cell_type": "code",
      "source": [
        "filters = FilterDataset([model1.features[0]])\n",
        "filters_loader = DataLoader(filters, batch_size=32, shuffle=False)"
      ],
      "metadata": {
        "id": "gFW7Zxex0aEl"
      },
      "execution_count": 36,
      "outputs": []
    },
    {
      "cell_type": "code",
      "source": [
        "print(f'Dataset size: {len(filters)}')"
      ],
      "metadata": {
        "colab": {
          "base_uri": "https://localhost:8080/"
        },
        "id": "dCd0E9dUF568",
        "outputId": "12ead9b3-d650-4a55-87e4-0a129c4b4ade"
      },
      "execution_count": 37,
      "outputs": [
        {
          "output_type": "stream",
          "name": "stdout",
          "text": [
            "Dataset size: 192\n"
          ]
        }
      ]
    },
    {
      "cell_type": "markdown",
      "source": [
        "Now, we can iterate over filters dataset."
      ],
      "metadata": {
        "id": "nOIhFWYOERw-"
      }
    },
    {
      "cell_type": "code",
      "source": [
        "for batch in filters_loader:\n",
        "    print(batch)\n",
        "    break"
      ],
      "metadata": {
        "colab": {
          "base_uri": "https://localhost:8080/"
        },
        "id": "_jMEiayw6sjK",
        "outputId": "20cc4128-6886-44e8-c4b7-aaea32c2bd1c"
      },
      "execution_count": 38,
      "outputs": [
        {
          "output_type": "stream",
          "name": "stdout",
          "text": [
            "tensor([[[[-6.2656e-02,  2.6968e-02, -5.1732e-02,  ...,  1.5943e-02,\n",
            "            1.9114e-02,  5.2075e-03],\n",
            "          [ 6.3637e-02, -5.1510e-02, -5.6309e-02,  ..., -5.0091e-02,\n",
            "           -4.9901e-02,  8.7848e-03],\n",
            "          [-1.9952e-02,  3.0282e-02,  4.3378e-02,  ..., -7.4231e-02,\n",
            "           -4.2366e-02,  3.9833e-02],\n",
            "          ...,\n",
            "          [-9.9836e-02, -1.9509e-01, -2.9311e-01,  ..., -2.9734e-01,\n",
            "           -1.5652e-01, -1.0597e-02],\n",
            "          [ 6.5291e-03,  3.4110e-02,  1.1243e-01,  ...,  1.0632e-02,\n",
            "            2.7812e-02,  4.4999e-03],\n",
            "          [ 7.2651e-03, -4.0293e-02, -3.1804e-02,  ...,  7.8343e-02,\n",
            "            4.1540e-02, -3.4675e-02]]],\n",
            "\n",
            "\n",
            "        [[[-4.6035e-02,  4.1302e-02,  8.6508e-02,  ...,  1.8882e-02,\n",
            "            8.5350e-03, -7.6205e-02],\n",
            "          [ 2.7095e-02, -1.0590e-01, -1.3952e-01,  ..., -3.6123e-02,\n",
            "            1.2332e-02, -3.9015e-02],\n",
            "          [ 3.4798e-02,  4.9779e-02, -2.4362e-02,  ..., -4.5231e-02,\n",
            "           -2.4523e-02,  1.6990e-02],\n",
            "          ...,\n",
            "          [-1.0354e-01, -1.5150e-01, -2.9567e-01,  ..., -1.5652e-01,\n",
            "           -7.0866e-02, -6.4128e-02],\n",
            "          [ 7.4290e-02,  6.5463e-02,  5.5211e-02,  ...,  4.2078e-02,\n",
            "           -3.1251e-02,  2.0209e-02],\n",
            "          [-1.3629e-02,  6.3186e-02,  6.2945e-02,  ...,  1.3111e-02,\n",
            "            3.3547e-02, -2.0697e-02]]],\n",
            "\n",
            "\n",
            "        [[[-2.8942e-02, -5.8900e-03,  8.7870e-02,  ..., -9.6066e-03,\n",
            "           -2.9339e-03, -3.3511e-02],\n",
            "          [ 7.2264e-02, -4.8411e-02, -9.1992e-02,  ...,  3.4319e-03,\n",
            "            1.5714e-02,  1.1325e-01],\n",
            "          [-4.8725e-02,  3.6336e-02,  1.0481e-02,  ..., -7.6096e-02,\n",
            "           -5.3081e-02, -3.6273e-02],\n",
            "          ...,\n",
            "          [-2.9384e-02, -1.7382e-01, -2.1155e-01,  ..., -1.6577e-01,\n",
            "           -3.9153e-02,  7.8797e-03],\n",
            "          [ 2.8670e-02,  1.0016e-01,  5.9527e-02,  ...,  5.1509e-02,\n",
            "            7.2859e-02,  5.2453e-02],\n",
            "          [-4.0588e-02, -3.4071e-02,  2.9403e-02,  ..., -3.1169e-02,\n",
            "           -5.3905e-02, -8.9211e-03]]],\n",
            "\n",
            "\n",
            "        ...,\n",
            "\n",
            "\n",
            "        [[[ 7.1681e-02,  1.8802e-02, -6.5857e-02,  ..., -1.3815e-01,\n",
            "           -4.1934e-02,  5.7088e-02],\n",
            "          [-2.3814e-02, -1.3258e-01, -1.5427e-01,  ..., -1.1057e-01,\n",
            "           -7.1080e-02,  3.6265e-02],\n",
            "          [-1.2538e-01, -1.4165e-01, -1.6168e-01,  ..., -6.1504e-02,\n",
            "           -5.1509e-02,  4.8286e-02],\n",
            "          ...,\n",
            "          [-2.1948e-01, -8.7119e-02, -5.0919e-02,  ..., -7.9852e-02,\n",
            "            5.3763e-02,  5.5050e-02],\n",
            "          [-1.3210e-01, -6.7037e-02, -5.4281e-02,  ..., -6.0505e-02,\n",
            "            4.0877e-02,  1.0651e-01],\n",
            "          [-2.5096e-02,  9.0713e-02,  7.4320e-02,  ...,  1.4597e-01,\n",
            "            2.3478e-01,  2.1724e-01]]],\n",
            "\n",
            "\n",
            "        [[[ 4.1890e-05, -5.9793e-02, -2.8496e-02,  ..., -1.3476e-01,\n",
            "           -1.3004e-01, -1.0892e-01],\n",
            "          [ 2.5622e-02,  8.3756e-02,  5.8293e-02,  ...,  6.1694e-02,\n",
            "            2.3782e-02, -1.0478e-02],\n",
            "          [ 8.4533e-02,  1.1285e-01,  1.6840e-01,  ...,  2.2739e-01,\n",
            "            1.2165e-01,  1.3320e-01],\n",
            "          ...,\n",
            "          [ 2.5751e-02,  2.2833e-02,  6.3202e-02,  ...,  1.0747e-01,\n",
            "            6.8382e-02,  8.4406e-02],\n",
            "          [-1.1242e-01, -1.3863e-01, -1.3558e-01,  ..., -1.4423e-01,\n",
            "           -1.2432e-01, -8.3373e-02],\n",
            "          [-1.0535e-01, -1.7388e-01, -2.0294e-01,  ..., -2.8044e-01,\n",
            "           -2.2136e-01, -1.4702e-01]]],\n",
            "\n",
            "\n",
            "        [[[ 3.1919e-03,  2.0337e-02,  5.8499e-03,  ..., -7.2093e-02,\n",
            "            2.2721e-02,  7.7091e-02],\n",
            "          [-2.4391e-03,  1.1096e-02,  2.9964e-02,  ...,  5.5199e-02,\n",
            "           -2.5971e-03,  9.0806e-02],\n",
            "          [-4.3983e-03,  1.4305e-02,  4.2090e-02,  ...,  1.2292e-01,\n",
            "            7.1731e-02,  3.7879e-02],\n",
            "          ...,\n",
            "          [-9.5059e-02, -3.3525e-02,  1.1087e-02,  ...,  7.5469e-02,\n",
            "            1.2326e-01,  1.0152e-01],\n",
            "          [-5.5511e-02, -6.0518e-02, -1.5822e-01,  ..., -1.9293e-01,\n",
            "           -1.4794e-01, -1.7916e-02],\n",
            "          [ 2.9403e-02, -6.8223e-02, -1.6730e-01,  ..., -2.3459e-01,\n",
            "           -1.6305e-01, -1.1846e-01]]]])\n"
          ]
        }
      ]
    },
    {
      "cell_type": "markdown",
      "source": [
        "We can also visualize kernels to check if our dataset contains patterns."
      ],
      "metadata": {
        "id": "Q2XvwREqEvv0"
      }
    },
    {
      "cell_type": "code",
      "source": [
        "def plot_kernels(loader, nrow=8):\n",
        "    dataiter = iter(loader)\n",
        "    batch = dataiter.next()\n",
        "    rows = np.min((batch.shape[0] // nrow + 1, 64))    \n",
        "    grid = torchvision.utils.make_grid(batch, nrow=nrow, normalize=True, padding=1)\n",
        "    plt.figure(figsize=(nrow,rows))\n",
        "    plt.imshow(grid.numpy().transpose((1, 2, 0)))"
      ],
      "metadata": {
        "id": "CkzWBZF27IEY"
      },
      "execution_count": 39,
      "outputs": []
    },
    {
      "cell_type": "code",
      "source": [
        "plot_kernels(filters_loader, nrow=9)"
      ],
      "metadata": {
        "colab": {
          "base_uri": "https://localhost:8080/",
          "height": 266
        },
        "id": "-W9ZZ2t899cw",
        "outputId": "6249042e-9a0b-4cab-9c9f-feed3880acd4"
      },
      "execution_count": 40,
      "outputs": [
        {
          "output_type": "display_data",
          "data": {
            "text/plain": [
              "<Figure size 648x288 with 1 Axes>"
            ],
            "image/png": "[encoded data removed]"
          },
          "metadata": {
            "needs_background": "light"
          }
        }
      ]
    },
    {
      "cell_type": "markdown",
      "source": [
        "Indeed, filters have patterns. Moreover, kernels within the same filter appear to be correlated."
      ],
      "metadata": {
        "id": "srecBBQVGYRi"
      }
    },
    {
      "cell_type": "markdown",
      "source": [
        "Passing `shuffle=True` to `FilterDataset` results in shuffled batches."
      ],
      "metadata": {
        "id": "NgKBapdjIOBD"
      }
    },
    {
      "cell_type": "code",
      "source": [
        "filters_loader = DataLoader(filters, batch_size=32, shuffle=True)"
      ],
      "metadata": {
        "id": "tEEN2u9k9-tS"
      },
      "execution_count": 41,
      "outputs": []
    },
    {
      "cell_type": "code",
      "source": [
        "plot_kernels(filters_loader, nrow=9)"
      ],
      "metadata": {
        "colab": {
          "base_uri": "https://localhost:8080/",
          "height": 266
        },
        "id": "Cgdav1X0Iax6",
        "outputId": "7275db75-1378-497c-e685-8141bbe62bfd"
      },
      "execution_count": 42,
      "outputs": [
        {
          "output_type": "display_data",
          "data": {
            "text/plain": [
              "<Figure size 648x288 with 1 Axes>"
            ],
            "image/png": "[encoded data removed]"
          },
          "metadata": {
            "needs_background": "light"
          }
        }
      ]
    },
    {
      "cell_type": "code",
      "source": [
        ""
      ],
      "metadata": {
        "id": "Nfr21BaMIdPP"
      },
      "execution_count": null,
      "outputs": []
    }
  ]
}