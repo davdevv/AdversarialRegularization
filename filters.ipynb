{
  "nbformat": 4,
  "nbformat_minor": 0,
  "metadata": {
    "colab": {
      "name": "filters.ipynb",
      "provenance": [],
      "collapsed_sections": [],
      "authorship_tag": "ABX9TyOr6Qa93H6NegNV6RXiT8sU",
      "include_colab_link": true
    },
    "kernelspec": {
      "name": "python3",
      "display_name": "Python 3"
    },
    "language_info": {
      "name": "python"
    }
  },
  "cells": [
    {
      "cell_type": "markdown",
      "metadata": {
        "id": "view-in-github",
        "colab_type": "text"
      },
      "source": [
        "<a href=\"https://colab.research.google.com/github/realfolkcode/AdversarialRegularization/blob/main/filters.ipynb\" target=\"_parent\"><img src=\"https://colab.research.google.com/assets/colab-badge.svg\" alt=\"Open In Colab\"/></a>"
      ]
    },
    {
      "cell_type": "markdown",
      "source": [
        "# Install and import"
      ],
      "metadata": {
        "id": "xroV2mE8Aqjf"
      }
    },
    {
      "cell_type": "code",
      "execution_count": 4,
      "metadata": {
        "id": "Vr0z-_t8jzJO"
      },
      "outputs": [],
      "source": [
        "import os\n",
        "import torch\n",
        "import torchvision\n",
        "from torch import nn\n",
        "from torch.utils.data import Dataset, DataLoader\n",
        "import numpy as np\n",
        "import matplotlib.pyplot as plt\n",
        "%matplotlib inline\n",
        "\n",
        "device = torch.device('cuda:0' if torch.cuda.is_available() else 'cpu')"
      ]
    },
    {
      "cell_type": "code",
      "source": [
        "!git clone https://github.com/realfolkcode/AdversarialRegularization.git"
      ],
      "metadata": {
        "colab": {
          "base_uri": "https://localhost:8080/"
        },
        "id": "sETUwJ7aVC-2",
        "outputId": "0d7ea136-1bdc-46a5-b71b-bbfc64232f4f"
      },
      "execution_count": 2,
      "outputs": [
        {
          "output_type": "stream",
          "name": "stdout",
          "text": [
            "Cloning into 'AdversarialRegularization'...\n",
            "remote: Enumerating objects: 23, done.\u001b[K\n",
            "remote: Counting objects: 100% (23/23), done.\u001b[K\n",
            "remote: Compressing objects: 100% (18/18), done.\u001b[K\n",
            "remote: Total 23 (delta 5), reused 12 (delta 2), pack-reused 0\u001b[K\n",
            "Unpacking objects: 100% (23/23), done.\n"
          ]
        }
      ]
    },
    {
      "cell_type": "markdown",
      "source": [
        "# Loading Models"
      ],
      "metadata": {
        "id": "yylNEvxPGpnO"
      }
    },
    {
      "cell_type": "code",
      "source": [
        "class CNN(nn.Module):\n",
        "    def __init__(self, num_classes=100):\n",
        "        super(CNN, self).__init__()\n",
        "        self.features = nn.Sequential(\n",
        "            nn.Conv2d(3, 64, kernel_size=(7, 7), stride=(2, 2), padding=(3, 3), bias=False),\n",
        "            nn.BatchNorm2d(64),\n",
        "            nn.ReLU(),\n",
        "\n",
        "            nn.Conv2d(64, 128, kernel_size=(5, 5), stride=(2, 2), padding=(2, 2), bias=False),\n",
        "            nn.BatchNorm2d(128),\n",
        "            nn.ReLU(),\n",
        "\n",
        "            nn.Conv2d(128, 128, kernel_size=(5, 5), stride=(2, 2), padding=(2, 2), bias=False),\n",
        "            nn.BatchNorm2d(128),\n",
        "            nn.ReLU(),\n",
        "\n",
        "            nn.Conv2d(128, 256, kernel_size=(3, 3), stride=(2, 2), padding=(1, 1), bias=False),\n",
        "            nn.BatchNorm2d(256),\n",
        "            nn.ReLU(),\n",
        "        )\n",
        "        self.classifier = nn.Sequential(\n",
        "            nn.AdaptiveAvgPool2d(1),\n",
        "            nn.Flatten(),\n",
        "            nn.Linear(256, num_classes)\n",
        "        )\n",
        "\n",
        "    def forward(self, x):\n",
        "        batch_size = x.shape[0]\n",
        "        x = self.features(x)\n",
        "        x = self.classifier(x)\n",
        "        return x"
      ],
      "metadata": {
        "id": "TK3TxdITVIN6"
      },
      "execution_count": 3,
      "outputs": []
    },
    {
      "cell_type": "code",
      "source": [
        "model_dir = 'AdversarialRegularization/models/'\n",
        "model_lst = []\n",
        "\n",
        "for model_name in os.listdir('AdversarialRegularization/models/'):\n",
        "    model_path = os.path.join(model_dir, model_name)\n",
        "    model = CNN(num_classes=100)\n",
        "    model.load_state_dict(torch.load(model_path, map_location='cpu'))\n",
        "    model_lst.append(model)"
      ],
      "metadata": {
        "id": "VtL_v--EAofB"
      },
      "execution_count": 7,
      "outputs": []
    },
    {
      "cell_type": "code",
      "source": [
        "model_lst[0]"
      ],
      "metadata": {
        "colab": {
          "base_uri": "https://localhost:8080/"
        },
        "id": "2DfSecfAVNvU",
        "outputId": "1c0f110d-8f10-4d3d-f27b-a12c1bc9ea71"
      },
      "execution_count": 10,
      "outputs": [
        {
          "output_type": "execute_result",
          "data": {
            "text/plain": [
              "CNN(\n",
              "  (features): Sequential(\n",
              "    (0): Conv2d(3, 64, kernel_size=(7, 7), stride=(2, 2), padding=(3, 3), bias=False)\n",
              "    (1): BatchNorm2d(64, eps=1e-05, momentum=0.1, affine=True, track_running_stats=True)\n",
              "    (2): ReLU()\n",
              "    (3): Conv2d(64, 128, kernel_size=(5, 5), stride=(2, 2), padding=(2, 2), bias=False)\n",
              "    (4): BatchNorm2d(128, eps=1e-05, momentum=0.1, affine=True, track_running_stats=True)\n",
              "    (5): ReLU()\n",
              "    (6): Conv2d(128, 128, kernel_size=(5, 5), stride=(2, 2), padding=(2, 2), bias=False)\n",
              "    (7): BatchNorm2d(128, eps=1e-05, momentum=0.1, affine=True, track_running_stats=True)\n",
              "    (8): ReLU()\n",
              "    (9): Conv2d(128, 256, kernel_size=(3, 3), stride=(2, 2), padding=(1, 1), bias=False)\n",
              "    (10): BatchNorm2d(256, eps=1e-05, momentum=0.1, affine=True, track_running_stats=True)\n",
              "    (11): ReLU()\n",
              "  )\n",
              "  (classifier): Sequential(\n",
              "    (0): AdaptiveAvgPool2d(output_size=1)\n",
              "    (1): Flatten(start_dim=1, end_dim=-1)\n",
              "    (2): Linear(in_features=256, out_features=100, bias=True)\n",
              "  )\n",
              ")"
            ]
          },
          "metadata": {},
          "execution_count": 10
        }
      ]
    },
    {
      "cell_type": "code",
      "source": [
        "print('Number of models:', len(model_lst))"
      ],
      "metadata": {
        "colab": {
          "base_uri": "https://localhost:8080/"
        },
        "id": "1sqTHeArB5w4",
        "outputId": "1535bea3-f31c-48f9-edc7-29fcb7ff7ff5"
      },
      "execution_count": 13,
      "outputs": [
        {
          "output_type": "stream",
          "name": "stdout",
          "text": [
            "Number of models: 2\n"
          ]
        }
      ]
    },
    {
      "cell_type": "markdown",
      "source": [
        "# Filter Dataset"
      ],
      "metadata": {
        "id": "VQIxvF74Gtf9"
      }
    },
    {
      "cell_type": "markdown",
      "source": [
        "Let us create a class for filters dataset to make life easier. We will use it to train discriminators. As input, it would take a list of convolution layers (kernel sizes must be the same)."
      ],
      "metadata": {
        "id": "s2JgDDoWCkdB"
      }
    },
    {
      "cell_type": "code",
      "source": [
        "class FilterDataset(Dataset):\n",
        "    def __init__(self, layer_lst):\n",
        "        self.kernels = [layer.weight.data.clone() for layer in layer_lst]\n",
        "        self.kernels = torch.cat(self.kernels)\n",
        "        c_out, c_in, h, w = self.kernels.shape\n",
        "        self.kernels = self.kernels.view(c_out * c_in, -1, h, w)\n",
        "    \n",
        "    def __len__(self):\n",
        "        return len(self.kernels)\n",
        "    \n",
        "    def __getitem__(self, idx):\n",
        "        return self.kernels[idx]"
      ],
      "metadata": {
        "id": "jG88TQK0sSy-"
      },
      "execution_count": 11,
      "outputs": []
    },
    {
      "cell_type": "code",
      "source": [
        "model_lst[0].features[0]"
      ],
      "metadata": {
        "colab": {
          "base_uri": "https://localhost:8080/"
        },
        "id": "7H03NnZSD6JX",
        "outputId": "aa741246-27c4-4890-8c3d-b9e60adb656c"
      },
      "execution_count": 12,
      "outputs": [
        {
          "output_type": "execute_result",
          "data": {
            "text/plain": [
              "Conv2d(3, 64, kernel_size=(7, 7), stride=(2, 2), padding=(3, 3), bias=False)"
            ]
          },
          "metadata": {},
          "execution_count": 12
        }
      ]
    },
    {
      "cell_type": "code",
      "source": [
        "filters = FilterDataset([model_lst[0].features[0],\n",
        "                         model_lst[1].features[0]])\n",
        "filters_loader = DataLoader(filters, batch_size=32, shuffle=False)"
      ],
      "metadata": {
        "id": "gFW7Zxex0aEl"
      },
      "execution_count": 15,
      "outputs": []
    },
    {
      "cell_type": "code",
      "source": [
        "print(f'Dataset size: {len(filters)}')"
      ],
      "metadata": {
        "colab": {
          "base_uri": "https://localhost:8080/"
        },
        "id": "dCd0E9dUF568",
        "outputId": "76c95831-b1ca-4080-8ae6-ea60c1762fab"
      },
      "execution_count": 16,
      "outputs": [
        {
          "output_type": "stream",
          "name": "stdout",
          "text": [
            "Dataset size: 384\n"
          ]
        }
      ]
    },
    {
      "cell_type": "markdown",
      "source": [
        "Now, we can iterate over filters dataset."
      ],
      "metadata": {
        "id": "nOIhFWYOERw-"
      }
    },
    {
      "cell_type": "code",
      "source": [
        "for batch in filters_loader:\n",
        "    print(batch)\n",
        "    break"
      ],
      "metadata": {
        "colab": {
          "base_uri": "https://localhost:8080/"
        },
        "id": "_jMEiayw6sjK",
        "outputId": "52dafbc5-d16e-41d5-fcf1-c5e11c7ef4a9"
      },
      "execution_count": 17,
      "outputs": [
        {
          "output_type": "stream",
          "name": "stdout",
          "text": [
            "tensor([[[[ 0.0401, -0.0200, -0.0718,  ..., -0.0826,  0.0342, -0.0378],\n",
            "          [ 0.1044, -0.0766, -0.1169,  ..., -0.0592,  0.0058, -0.0610],\n",
            "          [ 0.0911, -0.1083, -0.0775,  ..., -0.0563,  0.0218,  0.0066],\n",
            "          ...,\n",
            "          [ 0.0874, -0.0691, -0.1177,  ..., -0.0543, -0.0503, -0.0523],\n",
            "          [ 0.0109, -0.0114, -0.1073,  ..., -0.1392,  0.0869, -0.0065],\n",
            "          [ 0.0754, -0.0351, -0.0970,  ..., -0.0819,  0.0255, -0.0347]]],\n",
            "\n",
            "\n",
            "        [[[ 0.0339, -0.0580, -0.0850,  ..., -0.0621,  0.0343,  0.0472],\n",
            "          [ 0.0937, -0.1505, -0.0497,  ..., -0.1150,  0.0170,  0.0345],\n",
            "          [ 0.1707, -0.1868, -0.0996,  ..., -0.1053, -0.0603,  0.0110],\n",
            "          ...,\n",
            "          [ 0.2022, -0.2339, -0.0922,  ..., -0.1470,  0.0204,  0.0123],\n",
            "          [ 0.1133, -0.1418, -0.1535,  ..., -0.1206,  0.0385,  0.0443],\n",
            "          [-0.0023, -0.0106, -0.0210,  ..., -0.0967,  0.0185,  0.0037]]],\n",
            "\n",
            "\n",
            "        [[[-0.0180, -0.0012,  0.0387,  ..., -0.0154,  0.0061, -0.0412],\n",
            "          [-0.0107, -0.0166, -0.0780,  ..., -0.0611, -0.0096,  0.0472],\n",
            "          [ 0.1370, -0.1791, -0.0535,  ..., -0.0620,  0.0389, -0.0013],\n",
            "          ...,\n",
            "          [ 0.0508, -0.1748, -0.0639,  ..., -0.1232,  0.0164,  0.0743],\n",
            "          [ 0.0908, -0.0604, -0.0126,  ..., -0.0699, -0.0554, -0.0341],\n",
            "          [ 0.0035, -0.0483, -0.0729,  ..., -0.0313, -0.0277,  0.0339]]],\n",
            "\n",
            "\n",
            "        ...,\n",
            "\n",
            "\n",
            "        [[[-0.0811,  0.0558,  0.1284,  ...,  0.2060,  0.1432,  0.1497],\n",
            "          [ 0.1539,  0.2679,  0.3093,  ...,  0.3929,  0.3199,  0.3517],\n",
            "          [ 0.0162,  0.1257,  0.0520,  ...,  0.0563,  0.1582,  0.0990],\n",
            "          ...,\n",
            "          [-0.0684, -0.0970, -0.0840,  ..., -0.1802, -0.1564, -0.1637],\n",
            "          [-0.0208, -0.1838, -0.1817,  ..., -0.2324, -0.2024, -0.1601],\n",
            "          [-0.0054, -0.2040, -0.2075,  ..., -0.2553, -0.2056, -0.2468]]],\n",
            "\n",
            "\n",
            "        [[[ 0.0248,  0.1010,  0.2374,  ...,  0.2240,  0.0857,  0.1503],\n",
            "          [-0.0730, -0.0709,  0.0980,  ...,  0.1511,  0.1100,  0.0116],\n",
            "          [-0.1013, -0.1786, -0.1723,  ..., -0.1041, -0.0751, -0.0794],\n",
            "          ...,\n",
            "          [ 0.0413, -0.0193,  0.0514,  ..., -0.1220, -0.2632, -0.1557],\n",
            "          [ 0.0844,  0.0995,  0.2927,  ...,  0.2095,  0.0492,  0.0118],\n",
            "          [-0.0102,  0.1438,  0.2888,  ...,  0.2776,  0.2171,  0.0985]]],\n",
            "\n",
            "\n",
            "        [[[-0.0093,  0.0403,  0.0780,  ...,  0.0577,  0.0087,  0.1278],\n",
            "          [-0.0044,  0.0630,  0.1499,  ...,  0.1032,  0.0314,  0.0711],\n",
            "          [-0.0523, -0.0402,  0.0356,  ...,  0.1270,  0.1293,  0.1404],\n",
            "          ...,\n",
            "          [-0.0773, -0.0142,  0.0683,  ...,  0.0479, -0.0408,  0.0827],\n",
            "          [-0.1250, -0.1258, -0.0363,  ...,  0.0767, -0.0433, -0.0502],\n",
            "          [-0.0706, -0.0843, -0.0383,  ..., -0.0448, -0.0541, -0.0599]]]])\n"
          ]
        }
      ]
    },
    {
      "cell_type": "markdown",
      "source": [
        "We can also visualize kernels to check if our dataset contains patterns."
      ],
      "metadata": {
        "id": "Q2XvwREqEvv0"
      }
    },
    {
      "cell_type": "code",
      "source": [
        "def plot_kernels(loader, nrow=8):\n",
        "    dataiter = iter(loader)\n",
        "    batch = dataiter.next()\n",
        "    rows = np.min((batch.shape[0] // nrow + 1, 64))    \n",
        "    grid = torchvision.utils.make_grid(batch, nrow=nrow, normalize=True, padding=1)\n",
        "    plt.figure(figsize=(nrow,rows))\n",
        "    plt.imshow(grid.numpy().transpose((1, 2, 0)))"
      ],
      "metadata": {
        "id": "CkzWBZF27IEY"
      },
      "execution_count": 18,
      "outputs": []
    },
    {
      "cell_type": "code",
      "source": [
        "plot_kernels(filters_loader, nrow=9)"
      ],
      "metadata": {
        "colab": {
          "base_uri": "https://localhost:8080/",
          "height": 266
        },
        "id": "-W9ZZ2t899cw",
        "outputId": "9e5d4244-288c-444d-a611-fa28ba3bd4a0"
      },
      "execution_count": 19,
      "outputs": [
        {
          "output_type": "display_data",
          "data": {
            "text/plain": [
              "<Figure size 648x288 with 1 Axes>"
            ],
            "image/png": "[encoded data removed]"
          },
          "metadata": {
            "needs_background": "light"
          }
        }
      ]
    },
    {
      "cell_type": "markdown",
      "source": [
        "Indeed, filters have patterns. Moreover, kernels within the same filter appear to be correlated."
      ],
      "metadata": {
        "id": "srecBBQVGYRi"
      }
    },
    {
      "cell_type": "markdown",
      "source": [
        "Passing `shuffle=True` to `FilterDataset` results in shuffled batches."
      ],
      "metadata": {
        "id": "NgKBapdjIOBD"
      }
    },
    {
      "cell_type": "code",
      "source": [
        "filters_loader = DataLoader(filters, batch_size=32, shuffle=True)"
      ],
      "metadata": {
        "id": "tEEN2u9k9-tS"
      },
      "execution_count": 20,
      "outputs": []
    },
    {
      "cell_type": "code",
      "source": [
        "plot_kernels(filters_loader, nrow=9)"
      ],
      "metadata": {
        "colab": {
          "base_uri": "https://localhost:8080/",
          "height": 266
        },
        "id": "Cgdav1X0Iax6",
        "outputId": "d13a5b04-fa4d-4468-cc13-a475d428986a"
      },
      "execution_count": 21,
      "outputs": [
        {
          "output_type": "display_data",
          "data": {
            "text/plain": [
              "<Figure size 648x288 with 1 Axes>"
            ],
            "image/png": "[encoded data removed]"
          },
          "metadata": {
            "needs_background": "light"
          }
        }
      ]
    },
    {
      "cell_type": "code",
      "source": [
        ""
      ],
      "metadata": {
        "id": "Nfr21BaMIdPP"
      },
      "execution_count": null,
      "outputs": []
    }
  ]
}