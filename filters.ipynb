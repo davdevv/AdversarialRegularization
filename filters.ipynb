{
  "nbformat": 4,
  "nbformat_minor": 0,
  "metadata": {
    "colab": {
      "name": "filters.ipynb",
      "provenance": [],
      "collapsed_sections": [],
      "authorship_tag": "ABX9TyPKV+wC6w240hWiXxl84a9h",
      "include_colab_link": true
    },
    "kernelspec": {
      "name": "python3",
      "display_name": "Python 3"
    },
    "language_info": {
      "name": "python"
    },
    "accelerator": "GPU"
  },
  "cells": [
    {
      "cell_type": "markdown",
      "metadata": {
        "id": "view-in-github",
        "colab_type": "text"
      },
      "source": [
        "<a href=\"https://colab.research.google.com/github/realfolkcode/AdversarialRegularization/blob/main/filters.ipynb\" target=\"_parent\"><img src=\"https://colab.research.google.com/assets/colab-badge.svg\" alt=\"Open In Colab\"/></a>"
      ]
    },
    {
      "cell_type": "markdown",
      "source": [
        "# Install and import"
      ],
      "metadata": {
        "id": "xroV2mE8Aqjf"
      }
    },
    {
      "cell_type": "code",
      "execution_count": 37,
      "metadata": {
        "id": "Vr0z-_t8jzJO"
      },
      "outputs": [],
      "source": [
        "import os\n",
        "import torch\n",
        "import torchvision\n",
        "from torchvision import transforms\n",
        "from torch import nn\n",
        "from torch.utils.data import Dataset, DataLoader, Subset\n",
        "from sklearn.model_selection import train_test_split\n",
        "import numpy as np\n",
        "import pandas as pd\n",
        "from tqdm import tqdm\n",
        "import matplotlib.pyplot as plt\n",
        "%matplotlib inline\n",
        "\n",
        "device = torch.device('cuda:0' if torch.cuda.is_available() else 'cpu')"
      ]
    },
    {
      "cell_type": "code",
      "source": [
        "!git clone https://github.com/realfolkcode/AdversarialRegularization.git"
      ],
      "metadata": {
        "colab": {
          "base_uri": "https://localhost:8080/"
        },
        "id": "sETUwJ7aVC-2",
        "outputId": "c405b0fd-eb19-4667-92ec-a77c601443a6"
      },
      "execution_count": 38,
      "outputs": [
        {
          "output_type": "stream",
          "name": "stdout",
          "text": [
            "fatal: destination path 'AdversarialRegularization' already exists and is not an empty directory.\n"
          ]
        }
      ]
    },
    {
      "cell_type": "code",
      "source": [
        "from AdversarialRegularization.utils import *"
      ],
      "metadata": {
        "id": "Vf-LLike5WXP"
      },
      "execution_count": 39,
      "outputs": []
    },
    {
      "cell_type": "markdown",
      "source": [
        "# Loading Models"
      ],
      "metadata": {
        "id": "yylNEvxPGpnO"
      }
    },
    {
      "cell_type": "code",
      "source": [
        "class CNN(nn.Module):\n",
        "    def __init__(self, num_classes=100):\n",
        "        super(CNN, self).__init__()\n",
        "        self.features = nn.Sequential(\n",
        "            nn.Conv2d(3, 64, kernel_size=(7, 7), stride=(2, 2), padding=(3, 3), bias=False),\n",
        "            nn.BatchNorm2d(64),\n",
        "            nn.ReLU(),\n",
        "\n",
        "            nn.Conv2d(64, 128, kernel_size=(5, 5), stride=(2, 2), padding=(2, 2), bias=False),\n",
        "            nn.BatchNorm2d(128),\n",
        "            nn.ReLU(),\n",
        "\n",
        "            nn.Conv2d(128, 128, kernel_size=(5, 5), stride=(2, 2), padding=(2, 2), bias=False),\n",
        "            nn.BatchNorm2d(128),\n",
        "            nn.ReLU(),\n",
        "\n",
        "            nn.Conv2d(128, 256, kernel_size=(3, 3), stride=(2, 2), padding=(1, 1), bias=False),\n",
        "            nn.BatchNorm2d(256),\n",
        "            nn.ReLU(),\n",
        "        )\n",
        "        self.classifier = nn.Sequential(\n",
        "            nn.AdaptiveAvgPool2d(1),\n",
        "            nn.Flatten(),\n",
        "            nn.Linear(256, num_classes)\n",
        "        )\n",
        "\n",
        "    def forward(self, x):\n",
        "        batch_size = x.shape[0]\n",
        "        x = self.features(x)\n",
        "        x = self.classifier(x)\n",
        "        return x"
      ],
      "metadata": {
        "id": "TK3TxdITVIN6"
      },
      "execution_count": 40,
      "outputs": []
    },
    {
      "cell_type": "markdown",
      "source": [
        "We want to collect good filters. For that purpose, we load models that have been trained on a large dataset. These models differ only in initial weight initialization."
      ],
      "metadata": {
        "id": "8b0Uh7V_C9t9"
      }
    },
    {
      "cell_type": "code",
      "source": [
        "model_dir = 'AdversarialRegularization/models/'\n",
        "model_lst = []\n",
        "\n",
        "for model_name in os.listdir('AdversarialRegularization/models/'):\n",
        "    model_path = os.path.join(model_dir, model_name)\n",
        "    model = CNN(num_classes=100)\n",
        "    model.load_state_dict(torch.load(model_path, map_location='cpu'))\n",
        "    model_lst.append(model)"
      ],
      "metadata": {
        "id": "VtL_v--EAofB"
      },
      "execution_count": 41,
      "outputs": []
    },
    {
      "cell_type": "code",
      "source": [
        "model_lst[0]"
      ],
      "metadata": {
        "colab": {
          "base_uri": "https://localhost:8080/"
        },
        "id": "2DfSecfAVNvU",
        "outputId": "bfd67654-639f-4351-e01d-4d5e98318486"
      },
      "execution_count": 42,
      "outputs": [
        {
          "output_type": "execute_result",
          "data": {
            "text/plain": [
              "CNN(\n",
              "  (features): Sequential(\n",
              "    (0): Conv2d(3, 64, kernel_size=(7, 7), stride=(2, 2), padding=(3, 3), bias=False)\n",
              "    (1): BatchNorm2d(64, eps=1e-05, momentum=0.1, affine=True, track_running_stats=True)\n",
              "    (2): ReLU()\n",
              "    (3): Conv2d(64, 128, kernel_size=(5, 5), stride=(2, 2), padding=(2, 2), bias=False)\n",
              "    (4): BatchNorm2d(128, eps=1e-05, momentum=0.1, affine=True, track_running_stats=True)\n",
              "    (5): ReLU()\n",
              "    (6): Conv2d(128, 128, kernel_size=(5, 5), stride=(2, 2), padding=(2, 2), bias=False)\n",
              "    (7): BatchNorm2d(128, eps=1e-05, momentum=0.1, affine=True, track_running_stats=True)\n",
              "    (8): ReLU()\n",
              "    (9): Conv2d(128, 256, kernel_size=(3, 3), stride=(2, 2), padding=(1, 1), bias=False)\n",
              "    (10): BatchNorm2d(256, eps=1e-05, momentum=0.1, affine=True, track_running_stats=True)\n",
              "    (11): ReLU()\n",
              "  )\n",
              "  (classifier): Sequential(\n",
              "    (0): AdaptiveAvgPool2d(output_size=1)\n",
              "    (1): Flatten(start_dim=1, end_dim=-1)\n",
              "    (2): Linear(in_features=256, out_features=100, bias=True)\n",
              "  )\n",
              ")"
            ]
          },
          "metadata": {},
          "execution_count": 42
        }
      ]
    },
    {
      "cell_type": "code",
      "source": [
        "print('Number of models:', len(model_lst))"
      ],
      "metadata": {
        "colab": {
          "base_uri": "https://localhost:8080/"
        },
        "id": "1sqTHeArB5w4",
        "outputId": "a855b8ee-4e79-4adf-b1d1-5349fbd8b633"
      },
      "execution_count": 43,
      "outputs": [
        {
          "output_type": "stream",
          "name": "stdout",
          "text": [
            "Number of models: 5\n"
          ]
        }
      ]
    },
    {
      "cell_type": "markdown",
      "source": [
        "# Filter Dataset"
      ],
      "metadata": {
        "id": "VQIxvF74Gtf9"
      }
    },
    {
      "cell_type": "markdown",
      "source": [
        "Let us create a class for filters dataset to make life easier. We will use it to train discriminators. As input, it would take a list of convolution layers (kernel sizes must be the same)."
      ],
      "metadata": {
        "id": "s2JgDDoWCkdB"
      }
    },
    {
      "cell_type": "code",
      "source": [
        "class FilterDataset(Dataset):\n",
        "    def __init__(self, layer_lst):\n",
        "        self.kernels = [layer.weight.data.clone() for layer in layer_lst]\n",
        "        self.kernels = torch.cat(self.kernels)\n",
        "        c_out, c_in, h, w = self.kernels.shape\n",
        "        self.kernels = self.kernels.view(c_out * c_in, -1, h, w)\n",
        "    \n",
        "    def __len__(self):\n",
        "        return len(self.kernels)\n",
        "    \n",
        "    def __getitem__(self, idx):\n",
        "        return self.kernels[idx]"
      ],
      "metadata": {
        "id": "jG88TQK0sSy-"
      },
      "execution_count": 44,
      "outputs": []
    },
    {
      "cell_type": "code",
      "source": [
        "model_lst[0].features[0]"
      ],
      "metadata": {
        "colab": {
          "base_uri": "https://localhost:8080/"
        },
        "id": "7H03NnZSD6JX",
        "outputId": "a5525eb7-99db-4ed9-a81b-cefc3085f63f"
      },
      "execution_count": 45,
      "outputs": [
        {
          "output_type": "execute_result",
          "data": {
            "text/plain": [
              "Conv2d(3, 64, kernel_size=(7, 7), stride=(2, 2), padding=(3, 3), bias=False)"
            ]
          },
          "metadata": {},
          "execution_count": 45
        }
      ]
    },
    {
      "cell_type": "code",
      "source": [
        "RANDOM_SEED = 0\n",
        "set_random_seeds(seed_value=RANDOM_SEED, device=device)"
      ],
      "metadata": {
        "id": "XU8Xbs0-5e6x"
      },
      "execution_count": 46,
      "outputs": []
    },
    {
      "cell_type": "code",
      "source": [
        "filter_bs = 128\n",
        "\n",
        "filters_data = []\n",
        "filters_loader = []\n",
        "\n",
        "# Create datasets for 7x7, 5x5, 5x5 kernels from corresponding convolution layers \n",
        "filters_data.append(FilterDataset([model.features[0] for model in model_lst]))\n",
        "filters_data.append(FilterDataset([model_lst[0].features[3]]))\n",
        "filters_data.append(FilterDataset([model_lst[0].features[6]]))\n",
        "\n",
        "# Create dataloaders for filters datasets\n",
        "for i in range(len(filters_data)):\n",
        "    filters_loader.append(DataLoader(filters_data[i], batch_size=filter_bs, shuffle=True))"
      ],
      "metadata": {
        "id": "gFW7Zxex0aEl"
      },
      "execution_count": 47,
      "outputs": []
    },
    {
      "cell_type": "code",
      "source": [
        "for i in range(len(filters_loader)):\n",
        "    print(f'Filter Dataset {i} size: {len(filters_loader[i].dataset)}')"
      ],
      "metadata": {
        "colab": {
          "base_uri": "https://localhost:8080/"
        },
        "id": "dCd0E9dUF568",
        "outputId": "0c161b49-d40c-43c1-a4f4-d9ee07f78efa"
      },
      "execution_count": 48,
      "outputs": [
        {
          "output_type": "stream",
          "name": "stdout",
          "text": [
            "Filter Dataset 0 size: 960\n",
            "Filter Dataset 1 size: 8192\n",
            "Filter Dataset 2 size: 16384\n"
          ]
        }
      ]
    },
    {
      "cell_type": "markdown",
      "source": [
        "Now, we can iterate over filters dataset."
      ],
      "metadata": {
        "id": "nOIhFWYOERw-"
      }
    },
    {
      "cell_type": "code",
      "source": [
        "for batch in filters_loader[0]:\n",
        "    print(batch)\n",
        "    break"
      ],
      "metadata": {
        "colab": {
          "base_uri": "https://localhost:8080/"
        },
        "id": "_jMEiayw6sjK",
        "outputId": "fedae951-3ed0-4f07-e3d1-404fc35f336a"
      },
      "execution_count": 49,
      "outputs": [
        {
          "output_type": "stream",
          "name": "stdout",
          "text": [
            "tensor([[[[-0.0879, -0.0739, -0.0795,  ...,  0.0731,  0.0798,  0.0049],\n",
            "          [-0.0744,  0.0545,  0.0253,  ...,  0.2629,  0.1220,  0.0514],\n",
            "          [ 0.0422,  0.2136,  0.3394,  ...,  0.2163, -0.0506, -0.2390],\n",
            "          ...,\n",
            "          [ 0.1515,  0.1743, -0.0196,  ..., -0.3626, -0.2900, -0.0979],\n",
            "          [ 0.0293,  0.0629, -0.1564,  ..., -0.2374, -0.1608,  0.0408],\n",
            "          [-0.0488, -0.0688, -0.1477,  ..., -0.0452,  0.0429,  0.2405]]],\n",
            "\n",
            "\n",
            "        [[[ 0.0025,  0.0336, -0.0175,  ...,  0.1137,  0.1465,  0.1374],\n",
            "          [-0.0019,  0.0114,  0.0537,  ...,  0.1063,  0.1444,  0.0270],\n",
            "          [ 0.0727,  0.0320,  0.0763,  ...,  0.1393,  0.1422,  0.0022],\n",
            "          ...,\n",
            "          [ 0.0276, -0.0455,  0.0459,  ..., -0.0118, -0.0496, -0.1666],\n",
            "          [ 0.0085, -0.0285, -0.0370,  ..., -0.1572, -0.1378, -0.1835],\n",
            "          [-0.0284, -0.1524, -0.2105,  ..., -0.2875, -0.1830, -0.2405]]],\n",
            "\n",
            "\n",
            "        [[[ 0.0039, -0.0441, -0.0199,  ...,  0.0432, -0.0778, -0.0106],\n",
            "          [ 0.0023,  0.0413, -0.1102,  ...,  0.1243, -0.1075,  0.0684],\n",
            "          [ 0.0358,  0.0137,  0.0506,  ...,  0.2601, -0.2414,  0.0844],\n",
            "          ...,\n",
            "          [ 0.0024,  0.0171, -0.0191,  ...,  0.3004, -0.2421,  0.0375],\n",
            "          [-0.0584, -0.0494,  0.0735,  ...,  0.1844, -0.1865,  0.0257],\n",
            "          [ 0.0519, -0.0045, -0.0124,  ...,  0.1410, -0.1439,  0.0458]]],\n",
            "\n",
            "\n",
            "        ...,\n",
            "\n",
            "\n",
            "        [[[ 0.0280, -0.0074,  0.0633,  ...,  0.0089,  0.0885,  0.1739],\n",
            "          [-0.1495, -0.0616, -0.1986,  ..., -0.0656,  0.0231,  0.1067],\n",
            "          [-0.2366, -0.2585, -0.1957,  ..., -0.1381, -0.0159,  0.0583],\n",
            "          ...,\n",
            "          [-0.1420, -0.2643, -0.2998,  ..., -0.2616, -0.0610, -0.0814],\n",
            "          [-0.1703, -0.1617, -0.2799,  ..., -0.1770, -0.1152,  0.0604],\n",
            "          [-0.0359, -0.1020, -0.1647,  ..., -0.1088, -0.0876,  0.0702]]],\n",
            "\n",
            "\n",
            "        [[[-0.0024, -0.0157, -0.0809,  ..., -0.0882, -0.0799, -0.0673],\n",
            "          [-0.0420,  0.0107, -0.0856,  ..., -0.1742, -0.0727, -0.0929],\n",
            "          [ 0.0244,  0.0356, -0.0223,  ...,  0.0657,  0.1088,  0.1204],\n",
            "          ...,\n",
            "          [ 0.0521,  0.1012,  0.1009,  ...,  0.1021,  0.0545, -0.0094],\n",
            "          [ 0.0100,  0.0396, -0.0336,  ..., -0.1435, -0.1445, -0.1118],\n",
            "          [-0.1170, -0.1532, -0.1481,  ..., -0.2292, -0.1880, -0.1264]]],\n",
            "\n",
            "\n",
            "        [[[ 0.0959, -0.0703,  0.0021,  ...,  0.0117,  0.0375,  0.0075],\n",
            "          [ 0.0887,  0.0297, -0.0632,  ...,  0.0820,  0.0467, -0.1069],\n",
            "          [-0.0419, -0.1218, -0.0741,  ...,  0.1473, -0.0106, -0.1809],\n",
            "          ...,\n",
            "          [-0.0569, -0.0850,  0.0161,  ...,  0.1308, -0.1002, -0.2320],\n",
            "          [-0.0546, -0.1313, -0.0191,  ...,  0.1271, -0.1214, -0.1604],\n",
            "          [ 0.0039, -0.0426,  0.0791,  ...,  0.1022, -0.0334, -0.0499]]]])\n"
          ]
        }
      ]
    },
    {
      "cell_type": "markdown",
      "source": [
        "We can also visualize kernels to check if our dataset contains patterns."
      ],
      "metadata": {
        "id": "Q2XvwREqEvv0"
      }
    },
    {
      "cell_type": "code",
      "source": [
        "def plot_kernels(loader, nrow=8):\n",
        "    dataiter = iter(loader)\n",
        "    batch = dataiter.next()\n",
        "    rows = np.min((batch.shape[0] // nrow + 1, 64))    \n",
        "    grid = torchvision.utils.make_grid(batch, nrow=nrow, normalize=True, padding=1)\n",
        "    plt.figure(figsize=(nrow,rows))\n",
        "    plt.imshow(grid.numpy().transpose((1, 2, 0)))"
      ],
      "metadata": {
        "id": "CkzWBZF27IEY"
      },
      "execution_count": 50,
      "outputs": []
    },
    {
      "cell_type": "code",
      "source": [
        "plot_kernels(filters_loader[0], nrow=9)"
      ],
      "metadata": {
        "colab": {
          "base_uri": "https://localhost:8080/",
          "height": 864
        },
        "id": "-W9ZZ2t899cw",
        "outputId": "80e2eee1-f421-4726-8cf8-07c40500d7d2"
      },
      "execution_count": 51,
      "outputs": [
        {
          "output_type": "display_data",
          "data": {
            "text/plain": [
              "<Figure size 648x1080 with 1 Axes>"
            ],
            "image/png": "[encoded data removed]"
          },
          "metadata": {
            "needs_background": "light"
          }
        }
      ]
    },
    {
      "cell_type": "code",
      "source": [
        "plot_kernels(filters_loader[1], nrow=9)"
      ],
      "metadata": {
        "colab": {
          "base_uri": "https://localhost:8080/",
          "height": 863
        },
        "id": "mvD4SEIO37pG",
        "outputId": "2ed6cf81-81d9-4b89-820c-ec0d7e7f97ce"
      },
      "execution_count": 52,
      "outputs": [
        {
          "output_type": "display_data",
          "data": {
            "text/plain": [
              "<Figure size 648x1080 with 1 Axes>"
            ],
            "image/png": "[encoded data removed]"
          },
          "metadata": {
            "needs_background": "light"
          }
        }
      ]
    },
    {
      "cell_type": "code",
      "source": [
        "plot_kernels(filters_loader[2], nrow=9)"
      ],
      "metadata": {
        "colab": {
          "base_uri": "https://localhost:8080/",
          "height": 863
        },
        "id": "CvaScDHK3_12",
        "outputId": "c8cc9d2f-3944-42c5-fd67-bfef38589a9d"
      },
      "execution_count": 53,
      "outputs": [
        {
          "output_type": "display_data",
          "data": {
            "text/plain": [
              "<Figure size 648x1080 with 1 Axes>"
            ],
            "image/png": "[encoded data removed]"
          },
          "metadata": {
            "needs_background": "light"
          }
        }
      ]
    },
    {
      "cell_type": "markdown",
      "source": [
        "# Prepare data"
      ],
      "metadata": {
        "id": "p3IBIsOwC8Nn"
      }
    },
    {
      "cell_type": "markdown",
      "source": [
        "Now we load CIFAR10 and take a small subset of it. We restrict this subset to have equal number of images per class to make dataset balanced."
      ],
      "metadata": {
        "id": "nVg0gM6HVKMa"
      }
    },
    {
      "cell_type": "code",
      "source": [
        "train_transform = transforms.Compose([transforms.ToTensor(),\n",
        "                                      transforms.Normalize(0.5, 0.5)])\n",
        "test_transform = transforms.Compose([transforms.ToTensor(),\n",
        "                                     transforms.Normalize(0.5, 0.5)])\n",
        "\n",
        "train_set = torchvision.datasets.CIFAR10('./cifar10', train=True, download=True,\n",
        "                                         transform=train_transform)\n",
        "\n",
        "test_set = torchvision.datasets.CIFAR10('./cifar10', train=False, download=True,\n",
        "                                        transform=test_transform)\n",
        "\n",
        "print('Train size', len(train_set))\n",
        "print('Test size', len(test_set))"
      ],
      "metadata": {
        "colab": {
          "base_uri": "https://localhost:8080/"
        },
        "id": "Af6pq2gJC9_9",
        "outputId": "3a956fd4-b042-4f0d-d330-bb5cbb581f9b"
      },
      "execution_count": 54,
      "outputs": [
        {
          "output_type": "stream",
          "name": "stdout",
          "text": [
            "Files already downloaded and verified\n",
            "Files already downloaded and verified\n",
            "Train size 50000\n",
            "Test size 10000\n"
          ]
        }
      ]
    },
    {
      "cell_type": "code",
      "source": [
        "train_size = 100 / len(train_set)"
      ],
      "metadata": {
        "id": "zFjRp-4YUIPY"
      },
      "execution_count": 55,
      "outputs": []
    },
    {
      "cell_type": "code",
      "source": [
        "train_idx, _ = train_test_split(np.arange(len(train_set)),\n",
        "                                train_size=train_size,\n",
        "                                shuffle=True,\n",
        "                                random_state=42,\n",
        "                                stratify=train_set.targets)"
      ],
      "metadata": {
        "id": "UVnH8oUtGHcc"
      },
      "execution_count": 56,
      "outputs": []
    },
    {
      "cell_type": "markdown",
      "source": [
        "Let's make sure that the obtained indices are indeed stratified by classes."
      ],
      "metadata": {
        "id": "L-UyK8DXRzpF"
      }
    },
    {
      "cell_type": "code",
      "source": [
        "pd.DataFrame(train_set.targets).rename(columns={0: 'class'}).iloc[train_idx].groupby('class').size()"
      ],
      "metadata": {
        "colab": {
          "base_uri": "https://localhost:8080/"
        },
        "id": "pbKZK8BoL5rb",
        "outputId": "b8b6a8fa-7773-4df2-c732-efe0654a46dd"
      },
      "execution_count": 57,
      "outputs": [
        {
          "output_type": "execute_result",
          "data": {
            "text/plain": [
              "class\n",
              "0    10\n",
              "1    10\n",
              "2    10\n",
              "3    10\n",
              "4    10\n",
              "5    10\n",
              "6    10\n",
              "7    10\n",
              "8    10\n",
              "9    10\n",
              "dtype: int64"
            ]
          },
          "metadata": {},
          "execution_count": 57
        }
      ]
    },
    {
      "cell_type": "code",
      "source": [
        "train_set = Subset(train_set, train_idx)"
      ],
      "metadata": {
        "id": "p2iDMU8pIxXF"
      },
      "execution_count": 58,
      "outputs": []
    },
    {
      "cell_type": "code",
      "source": [
        "img_bs = 16\n",
        "\n",
        "train_loader = torch.utils.data.DataLoader(train_set, batch_size=img_bs, shuffle=True, num_workers=2)\n",
        "test_loader = torch.utils.data.DataLoader(test_set, batch_size=img_bs, shuffle=False, num_workers=2)"
      ],
      "metadata": {
        "id": "RyFFjv4IRDeF"
      },
      "execution_count": 59,
      "outputs": []
    },
    {
      "cell_type": "code",
      "source": [
        "plot_random_images(train_loader)"
      ],
      "metadata": {
        "colab": {
          "base_uri": "https://localhost:8080/",
          "height": 159
        },
        "id": "1AWCm0qAWRlA",
        "outputId": "54539a23-e7e3-4376-ebf8-774e182c5b6e"
      },
      "execution_count": 60,
      "outputs": [
        {
          "output_type": "display_data",
          "data": {
            "text/plain": [
              "<Figure size 1152x144 with 1 Axes>"
            ],
            "image/png": "[encoded data removed]"
          },
          "metadata": {
            "needs_background": "light"
          }
        }
      ]
    },
    {
      "cell_type": "code",
      "source": [
        "plot_random_images(test_loader)"
      ],
      "metadata": {
        "colab": {
          "base_uri": "https://localhost:8080/",
          "height": 159
        },
        "id": "hxzaWMfwW_uG",
        "outputId": "b7534948-ae0d-4c0a-df8b-7393e88cfd8d"
      },
      "execution_count": 61,
      "outputs": [
        {
          "output_type": "display_data",
          "data": {
            "text/plain": [
              "<Figure size 1152x144 with 1 Axes>"
            ],
            "image/png": "[encoded data removed]"
          },
          "metadata": {
            "needs_background": "light"
          }
        }
      ]
    },
    {
      "cell_type": "markdown",
      "source": [
        "# Training on small dataset"
      ],
      "metadata": {
        "id": "i_4yxDmDX3jM"
      }
    },
    {
      "cell_type": "code",
      "source": [
        "class CNN(nn.Module):\n",
        "    def __init__(self, num_classes=100):\n",
        "        super(CNN, self).__init__()\n",
        "        self.features = nn.Sequential(\n",
        "            nn.Conv2d(3, 64, kernel_size=(7, 7), stride=(2, 2), padding=(3, 3), bias=False),\n",
        "            nn.BatchNorm2d(64),\n",
        "            nn.ReLU(),\n",
        "\n",
        "            nn.Conv2d(64, 128, kernel_size=(5, 5), stride=(2, 2), padding=(2, 2), bias=False),\n",
        "            nn.BatchNorm2d(128),\n",
        "            nn.ReLU(),\n",
        "\n",
        "            nn.Conv2d(128, 128, kernel_size=(5, 5), stride=(2, 2), padding=(2, 2), bias=False),\n",
        "            nn.BatchNorm2d(128),\n",
        "            nn.ReLU(),\n",
        "\n",
        "            nn.Conv2d(128, 256, kernel_size=(3, 3), stride=(2, 2), padding=(1, 1), bias=False),\n",
        "            nn.BatchNorm2d(256),\n",
        "            nn.ReLU(),\n",
        "        )\n",
        "        self.classifier = nn.Sequential(\n",
        "            nn.AdaptiveAvgPool2d(1),\n",
        "            nn.Flatten(),\n",
        "            nn.Linear(256, num_classes)\n",
        "        )\n",
        "\n",
        "    def forward(self, x):\n",
        "        batch_size = x.shape[0]\n",
        "        x = self.features(x)\n",
        "        x = self.classifier(x)\n",
        "        return x"
      ],
      "metadata": {
        "id": "HcFbtbpaX-T6"
      },
      "execution_count": 62,
      "outputs": []
    },
    {
      "cell_type": "code",
      "source": [
        ""
      ],
      "metadata": {
        "id": "xDCdLYjoX-a_"
      },
      "execution_count": 62,
      "outputs": []
    },
    {
      "cell_type": "markdown",
      "source": [
        "# Discriminators"
      ],
      "metadata": {
        "id": "JItH2pud405D"
      }
    },
    {
      "cell_type": "code",
      "source": [
        "RANDOM_SEED = 0\n",
        "\n",
        "set_random_seeds(seed_value=RANDOM_SEED, device=device)\n",
        "\n",
        "clf = CNN(num_classes=10).to(device)\n",
        "print('Number of weights:', np.sum([np.prod(p.shape) for p in clf.parameters()]))"
      ],
      "metadata": {
        "colab": {
          "base_uri": "https://localhost:8080/"
        },
        "id": "DrqRJCOeDYVa",
        "outputId": "f5e8d867-7f34-4355-82f9-1f2a386e5ff3"
      },
      "execution_count": 63,
      "outputs": [
        {
          "output_type": "stream",
          "name": "stdout",
          "text": [
            "Number of weights: 922442\n"
          ]
        }
      ]
    },
    {
      "cell_type": "code",
      "source": [
        "# custom weights initialization called on netG and netD\n",
        "def weights_init(m):\n",
        "    classname = m.__class__.__name__\n",
        "    if classname.find('Conv') != -1:\n",
        "        nn.init.normal_(m.weight.data, 0.0, 0.02)\n",
        "    elif classname.find('BatchNorm') != -1:\n",
        "        nn.init.normal_(m.weight.data, 1.0, 0.02)\n",
        "        nn.init.constant_(m.bias.data, 0)"
      ],
      "metadata": {
        "id": "a1pzJWOM42wu"
      },
      "execution_count": 64,
      "outputs": []
    },
    {
      "cell_type": "code",
      "source": [
        "class Discriminator(nn.Module):\n",
        "    def __init__(self):\n",
        "        super(Discriminator, self).__init__()\n",
        "        self.main = nn.Sequential(\n",
        "            nn.Conv2d(1, 64, kernel_size=(3, 3), padding=(1, 1), bias=False),\n",
        "            nn.BatchNorm2d(64),\n",
        "            nn.LeakyReLU(0.2, inplace=True),\n",
        "\n",
        "            nn.Conv2d(64, 128, kernel_size=(3, 3), padding=(1, 1), bias=False),\n",
        "            nn.BatchNorm2d(128),\n",
        "            nn.LeakyReLU(0.2, inplace=True),\n",
        "\n",
        "            #nn.Conv2d(128, 1, kernel_size=(3, 3), padding=(1, 1), bias=False),\n",
        "            #nn.Sigmoid()\n",
        "            nn.AdaptiveAvgPool2d(1),\n",
        "            nn.Flatten(),\n",
        "            nn.Linear(128, 1),\n",
        "            nn.Sigmoid()\n",
        "        )\n",
        "    \n",
        "    def forward(self, input):\n",
        "        return self.main(input)"
      ],
      "metadata": {
        "id": "6Kybg1Lm5OvK"
      },
      "execution_count": 65,
      "outputs": []
    },
    {
      "cell_type": "code",
      "source": [
        "RANDOM_SEED = 0\n",
        "set_random_seeds(seed_value=RANDOM_SEED, device=device)\n",
        "\n",
        "netD = Discriminator().to(device)\n",
        "netD.apply(weights_init)\n",
        "print('Number of weights:', np.sum([np.prod(p.shape) for p in netD.parameters()]))"
      ],
      "metadata": {
        "colab": {
          "base_uri": "https://localhost:8080/"
        },
        "id": "7NTyOdJC5QQ2",
        "outputId": "4952d653-46e4-4e54-e0e0-2ee37f1b2297"
      },
      "execution_count": 66,
      "outputs": [
        {
          "output_type": "stream",
          "name": "stdout",
          "text": [
            "Number of weights: 74817\n"
          ]
        }
      ]
    },
    {
      "cell_type": "code",
      "source": [
        "netD"
      ],
      "metadata": {
        "colab": {
          "base_uri": "https://localhost:8080/"
        },
        "id": "ZOfF9Xm_5uf-",
        "outputId": "76b7880e-c77b-4018-b1a7-b60f2cb570c3"
      },
      "execution_count": 67,
      "outputs": [
        {
          "output_type": "execute_result",
          "data": {
            "text/plain": [
              "Discriminator(\n",
              "  (main): Sequential(\n",
              "    (0): Conv2d(1, 64, kernel_size=(3, 3), stride=(1, 1), padding=(1, 1), bias=False)\n",
              "    (1): BatchNorm2d(64, eps=1e-05, momentum=0.1, affine=True, track_running_stats=True)\n",
              "    (2): LeakyReLU(negative_slope=0.2, inplace=True)\n",
              "    (3): Conv2d(64, 128, kernel_size=(3, 3), stride=(1, 1), padding=(1, 1), bias=False)\n",
              "    (4): BatchNorm2d(128, eps=1e-05, momentum=0.1, affine=True, track_running_stats=True)\n",
              "    (5): LeakyReLU(negative_slope=0.2, inplace=True)\n",
              "    (6): AdaptiveAvgPool2d(output_size=1)\n",
              "    (7): Flatten(start_dim=1, end_dim=-1)\n",
              "    (8): Linear(in_features=128, out_features=1, bias=True)\n",
              "    (9): Sigmoid()\n",
              "  )\n",
              ")"
            ]
          },
          "metadata": {},
          "execution_count": 67
        }
      ]
    },
    {
      "cell_type": "code",
      "source": [
        "# Initialize criterions for classifier and discriminator\n",
        "criterion_clf = nn.CrossEntropyLoss()\n",
        "criterion_D = nn.BCELoss()\n",
        "\n",
        "# Establish convention for real and fake labels during training\n",
        "real_label = 1.\n",
        "fake_label = 0.\n",
        "\n",
        "# Setup Adam optimizers for both classifier and discriminator\n",
        "opt_clf = torch.optim.Adam(clf.parameters(), weight_decay=1e-4)\n",
        "opt_D = torch.optim.Adam(netD.parameters(), lr=0.0002, betas=(0.5, 0.999))"
      ],
      "metadata": {
        "id": "qY2AgYJZ6cxP"
      },
      "execution_count": 68,
      "outputs": []
    },
    {
      "cell_type": "code",
      "source": [
        "def epoch_discriminator(real_loader, fake_loader, netD, criterion_D, opt_D):\n",
        "    total_loss = 0\n",
        "    for i, real_batch in enumerate(real_loader):\n",
        "        netD.train()\n",
        "        netD.zero_grad()\n",
        "        #############################\n",
        "        ## Train with all-real batch\n",
        "        # Format batch\n",
        "        real_batch = real_batch.to(device)\n",
        "        b_size = real_batch.size(0)\n",
        "        label = torch.full((b_size,), real_label, dtype=torch.float, device=device)\n",
        "        # Forward pass real batch through D\n",
        "        output = netD(real_batch).view(-1)\n",
        "        # Calculate loss on all-real batch\n",
        "        errD_real = criterion_D(output, label)\n",
        "        # Calculate gradients for D in backward pass\n",
        "        errD_real.backward()\n",
        "        D_x = output.mean().item()\n",
        "\n",
        "        #############################\n",
        "        ## Train with all-fake batch\n",
        "        # Format batch\n",
        "        fake_batch = next(iter(fake_loader))\n",
        "        b_size = fake_batch.size(0)\n",
        "        label = torch.full((b_size,), fake_label, dtype=torch.float, device=device)\n",
        "        # Classify all fake batch with D\n",
        "        output = netD(fake_batch.detach()).view(-1)\n",
        "        # Calculate D's loss on the all-fake batch\n",
        "        errD_fake = criterion_D(output, label)\n",
        "        # Calculate the gradients for this batch, accumulated with previous gradients\n",
        "        errD_fake.backward()\n",
        "        D_G_z1 = output.mean().item()\n",
        "        # Compute error of D as sum over the fake and real batches\n",
        "        errD = errD_real + errD_fake\n",
        "        total_loss += errD\n",
        "        # Update D\n",
        "        opt_D.step()\n",
        "\n",
        "    total_loss /= len(real_loader)\n",
        "    return total_loss"
      ],
      "metadata": {
        "id": "iiGpjstUtiOv"
      },
      "execution_count": 69,
      "outputs": []
    },
    {
      "cell_type": "code",
      "source": [
        "def epoch_classifier(img_loader, clf, netD, criterion_clf, criterion_D, opt_clf, opt_D):\n",
        "    # Update classifier\n",
        "    clf.train()\n",
        "    for data, target in img_loader:\n",
        "        data = data.to(device)\n",
        "        target = target.to(device)\n",
        "        output = clf(data)\n",
        "        # Classifier loss\n",
        "        loss = criterion_clf(output, target)\n",
        "\n",
        "        opt_clf.zero_grad()\n",
        "        loss.backward()\n",
        "        opt_clf.step()\n",
        "    \n",
        "    # Evaluation\n",
        "    clf.eval()\n",
        "    train_loss = 0\n",
        "    with torch.no_grad():\n",
        "        for data, target in img_loader:\n",
        "            data = data.to(device)\n",
        "            target = target.to(device)\n",
        "            output = clf(data)\n",
        "            train_loss += criterion_clf(output, target).item()\n",
        "    train_acc = get_accuracy(clf, img_loader, device)\n",
        "    train_loss /= len(img_loader.dataset)\n",
        "    return train_loss, train_acc"
      ],
      "metadata": {
        "id": "UQulQmELdymZ"
      },
      "execution_count": 70,
      "outputs": []
    },
    {
      "cell_type": "code",
      "source": [
        "def epoch_test(img_loader, clf, criterion_clf):\n",
        "    clf.eval()\n",
        "    test_loss = 0\n",
        "    with torch.no_grad():\n",
        "        for data, target in img_loader:\n",
        "            data = data.to(device)\n",
        "            target = target.to(device)\n",
        "            output = clf(data)\n",
        "            test_loss += criterion_clf(output, target).item()\n",
        "    test_acc = get_accuracy(clf, img_loader, device)\n",
        "    test_loss /= len(img_loader.dataset)\n",
        "    return test_loss, test_acc"
      ],
      "metadata": {
        "id": "DdV4Dz1TCZH-"
      },
      "execution_count": 71,
      "outputs": []
    },
    {
      "cell_type": "code",
      "source": [
        "n_epochs = 100\n",
        "\n",
        "real_loader = filters_loader[0]\n",
        "\n",
        "print(\"Starting Training Loop...\")\n",
        "for epoch in range(n_epochs):\n",
        "    fake_filters = FilterDataset([clf.features[0]])\n",
        "    fake_loader = DataLoader(fake_filters, batch_size=filter_bs, shuffle=True)\n",
        "\n",
        "    errD = epoch_discriminator(real_loader, fake_loader, netD, criterion_D, opt_D)\n",
        "    train_loss, train_acc = epoch_classifier(train_loader, clf, netD, criterion_clf, criterion_D, opt_clf, opt_D)\n",
        "    test_loss, test_acc = epoch_test(test_loader, clf, criterion_clf)\n",
        "\n",
        "    print(f'[Epoch {epoch + 1}] train loss: {train_loss:.3f}; train acc: {train_acc:.2f}; ' + \n",
        "          f'test loss: {test_loss:.3f}; test acc: {test_acc:.2f}')\n",
        "    print(f'Discriminator loss: {errD}')"
      ],
      "metadata": {
        "id": "UodkfU85b9Fk",
        "colab": {
          "base_uri": "https://localhost:8080/"
        },
        "outputId": "1c486a86-8ddf-417f-d03e-e0c4c4b32f29"
      },
      "execution_count": 72,
      "outputs": [
        {
          "output_type": "stream",
          "name": "stdout",
          "text": [
            "Starting Training Loop...\n",
            "[Epoch 1] train loss: 0.151; train acc: 0.54; test loss: 0.141; test acc: 0.19\n",
            "Discriminator loss: 1.3809258937835693\n",
            "[Epoch 2] train loss: 0.129; train acc: 0.55; test loss: 0.136; test acc: 0.19\n",
            "Discriminator loss: 1.3554219007492065\n",
            "[Epoch 3] train loss: 0.106; train acc: 0.52; test loss: 0.137; test acc: 0.16\n",
            "Discriminator loss: 1.3380104303359985\n",
            "[Epoch 4] train loss: 0.100; train acc: 0.62; test loss: 0.146; test acc: 0.13\n",
            "Discriminator loss: 1.3237454891204834\n",
            "[Epoch 5] train loss: 0.061; train acc: 0.94; test loss: 0.135; test acc: 0.20\n",
            "Discriminator loss: 1.3097271919250488\n",
            "[Epoch 6] train loss: 0.032; train acc: 1.00; test loss: 0.137; test acc: 0.21\n",
            "Discriminator loss: 1.2975319623947144\n",
            "[Epoch 7] train loss: 0.022; train acc: 1.00; test loss: 0.143; test acc: 0.18\n",
            "Discriminator loss: 1.2853749990463257\n",
            "[Epoch 8] train loss: 0.010; train acc: 1.00; test loss: 0.140; test acc: 0.22\n",
            "Discriminator loss: 1.2724839448928833\n",
            "[Epoch 9] train loss: 0.005; train acc: 1.00; test loss: 0.142; test acc: 0.23\n",
            "Discriminator loss: 1.2611958980560303\n",
            "[Epoch 10] train loss: 0.007; train acc: 1.00; test loss: 0.152; test acc: 0.19\n",
            "Discriminator loss: 1.2465122938156128\n",
            "[Epoch 11] train loss: 0.004; train acc: 1.00; test loss: 0.148; test acc: 0.21\n",
            "Discriminator loss: 1.2354040145874023\n",
            "[Epoch 12] train loss: 0.002; train acc: 1.00; test loss: 0.148; test acc: 0.21\n",
            "Discriminator loss: 1.2203266620635986\n",
            "[Epoch 13] train loss: 0.002; train acc: 1.00; test loss: 0.146; test acc: 0.22\n",
            "Discriminator loss: 1.2072241306304932\n",
            "[Epoch 14] train loss: 0.001; train acc: 1.00; test loss: 0.148; test acc: 0.22\n",
            "Discriminator loss: 1.1923466920852661\n",
            "[Epoch 15] train loss: 0.002; train acc: 1.00; test loss: 0.151; test acc: 0.20\n",
            "Discriminator loss: 1.180079460144043\n",
            "[Epoch 16] train loss: 0.003; train acc: 1.00; test loss: 0.153; test acc: 0.22\n",
            "Discriminator loss: 1.1632580757141113\n",
            "[Epoch 17] train loss: 0.002; train acc: 1.00; test loss: 0.151; test acc: 0.24\n",
            "Discriminator loss: 1.1534372568130493\n",
            "[Epoch 18] train loss: 0.001; train acc: 1.00; test loss: 0.150; test acc: 0.22\n",
            "Discriminator loss: 1.1336307525634766\n",
            "[Epoch 19] train loss: 0.001; train acc: 1.00; test loss: 0.148; test acc: 0.22\n",
            "Discriminator loss: 1.1199464797973633\n",
            "[Epoch 20] train loss: 0.001; train acc: 1.00; test loss: 0.152; test acc: 0.21\n",
            "Discriminator loss: 1.1027473211288452\n",
            "[Epoch 21] train loss: 0.001; train acc: 1.00; test loss: 0.149; test acc: 0.22\n",
            "Discriminator loss: 1.0841292142868042\n",
            "[Epoch 22] train loss: 0.001; train acc: 1.00; test loss: 0.155; test acc: 0.21\n",
            "Discriminator loss: 1.0726549625396729\n",
            "[Epoch 23] train loss: 0.001; train acc: 1.00; test loss: 0.154; test acc: 0.22\n",
            "Discriminator loss: 1.0535463094711304\n",
            "[Epoch 24] train loss: 0.004; train acc: 0.98; test loss: 0.161; test acc: 0.21\n",
            "Discriminator loss: 1.0412722826004028\n",
            "[Epoch 25] train loss: 0.003; train acc: 1.00; test loss: 0.158; test acc: 0.20\n",
            "Discriminator loss: 1.0247949361801147\n",
            "[Epoch 26] train loss: 0.005; train acc: 1.00; test loss: 0.158; test acc: 0.20\n",
            "Discriminator loss: 1.0068023204803467\n",
            "[Epoch 27] train loss: 0.006; train acc: 0.99; test loss: 0.177; test acc: 0.17\n",
            "Discriminator loss: 0.991184651851654\n",
            "[Epoch 28] train loss: 0.006; train acc: 1.00; test loss: 0.202; test acc: 0.16\n",
            "Discriminator loss: 0.9755652546882629\n",
            "[Epoch 29] train loss: 0.003; train acc: 1.00; test loss: 0.193; test acc: 0.16\n",
            "Discriminator loss: 0.955873429775238\n",
            "[Epoch 30] train loss: 0.006; train acc: 0.98; test loss: 0.193; test acc: 0.19\n",
            "Discriminator loss: 0.9450174570083618\n",
            "[Epoch 31] train loss: 0.005; train acc: 0.99; test loss: 0.202; test acc: 0.16\n",
            "Discriminator loss: 0.9231804609298706\n",
            "[Epoch 32] train loss: 0.002; train acc: 1.00; test loss: 0.190; test acc: 0.19\n",
            "Discriminator loss: 0.9033625721931458\n",
            "[Epoch 33] train loss: 0.001; train acc: 1.00; test loss: 0.166; test acc: 0.22\n",
            "Discriminator loss: 0.9068151712417603\n",
            "[Epoch 34] train loss: 0.001; train acc: 1.00; test loss: 0.162; test acc: 0.22\n",
            "Discriminator loss: 0.875711977481842\n",
            "[Epoch 35] train loss: 0.001; train acc: 1.00; test loss: 0.166; test acc: 0.20\n",
            "Discriminator loss: 0.860801637172699\n",
            "[Epoch 36] train loss: 0.001; train acc: 1.00; test loss: 0.163; test acc: 0.20\n",
            "Discriminator loss: 0.8408080339431763\n",
            "[Epoch 37] train loss: 0.002; train acc: 1.00; test loss: 0.164; test acc: 0.21\n",
            "Discriminator loss: 0.8249439597129822\n",
            "[Epoch 38] train loss: 0.001; train acc: 1.00; test loss: 0.169; test acc: 0.19\n",
            "Discriminator loss: 0.8185944557189941\n",
            "[Epoch 39] train loss: 0.001; train acc: 1.00; test loss: 0.171; test acc: 0.19\n",
            "Discriminator loss: 0.7922182083129883\n",
            "[Epoch 40] train loss: 0.000; train acc: 1.00; test loss: 0.175; test acc: 0.19\n",
            "Discriminator loss: 0.7894831895828247\n",
            "[Epoch 41] train loss: 0.000; train acc: 1.00; test loss: 0.172; test acc: 0.20\n",
            "Discriminator loss: 0.7667323350906372\n",
            "[Epoch 42] train loss: 0.001; train acc: 1.00; test loss: 0.180; test acc: 0.20\n",
            "Discriminator loss: 0.7515815496444702\n",
            "[Epoch 43] train loss: 0.001; train acc: 1.00; test loss: 0.180; test acc: 0.20\n",
            "Discriminator loss: 0.7365480661392212\n",
            "[Epoch 44] train loss: 0.001; train acc: 1.00; test loss: 0.173; test acc: 0.20\n",
            "Discriminator loss: 0.73618084192276\n",
            "[Epoch 45] train loss: 0.007; train acc: 0.99; test loss: 0.184; test acc: 0.18\n",
            "Discriminator loss: 0.709585428237915\n",
            "[Epoch 46] train loss: 0.003; train acc: 1.00; test loss: 0.172; test acc: 0.19\n",
            "Discriminator loss: 0.6964864730834961\n",
            "[Epoch 47] train loss: 0.003; train acc: 0.99; test loss: 0.181; test acc: 0.19\n",
            "Discriminator loss: 0.6910508275032043\n",
            "[Epoch 48] train loss: 0.001; train acc: 1.00; test loss: 0.200; test acc: 0.16\n",
            "Discriminator loss: 0.675991415977478\n",
            "[Epoch 49] train loss: 0.004; train acc: 0.99; test loss: 0.194; test acc: 0.17\n",
            "Discriminator loss: 0.659319281578064\n",
            "[Epoch 50] train loss: 0.002; train acc: 1.00; test loss: 0.184; test acc: 0.19\n",
            "Discriminator loss: 0.6683859825134277\n",
            "[Epoch 51] train loss: 0.002; train acc: 1.00; test loss: 0.180; test acc: 0.20\n",
            "Discriminator loss: 0.6341070532798767\n",
            "[Epoch 52] train loss: 0.001; train acc: 1.00; test loss: 0.173; test acc: 0.20\n",
            "Discriminator loss: 0.616986095905304\n",
            "[Epoch 53] train loss: 0.001; train acc: 1.00; test loss: 0.176; test acc: 0.19\n",
            "Discriminator loss: 0.6356648802757263\n",
            "[Epoch 54] train loss: 0.001; train acc: 1.00; test loss: 0.177; test acc: 0.19\n",
            "Discriminator loss: 0.6011232137680054\n",
            "[Epoch 55] train loss: 0.000; train acc: 1.00; test loss: 0.177; test acc: 0.19\n",
            "Discriminator loss: 0.5857961177825928\n",
            "[Epoch 56] train loss: 0.000; train acc: 1.00; test loss: 0.180; test acc: 0.20\n",
            "Discriminator loss: 0.5843334794044495\n",
            "[Epoch 57] train loss: 0.000; train acc: 1.00; test loss: 0.180; test acc: 0.20\n",
            "Discriminator loss: 0.5598677396774292\n",
            "[Epoch 58] train loss: 0.000; train acc: 1.00; test loss: 0.179; test acc: 0.20\n",
            "Discriminator loss: 0.5529563426971436\n",
            "[Epoch 59] train loss: 0.000; train acc: 1.00; test loss: 0.189; test acc: 0.20\n",
            "Discriminator loss: 0.5551079511642456\n",
            "[Epoch 60] train loss: 0.000; train acc: 1.00; test loss: 0.190; test acc: 0.20\n",
            "Discriminator loss: 0.5365201234817505\n",
            "[Epoch 61] train loss: 0.000; train acc: 1.00; test loss: 0.190; test acc: 0.20\n",
            "Discriminator loss: 0.5158869624137878\n",
            "[Epoch 62] train loss: 0.000; train acc: 1.00; test loss: 0.191; test acc: 0.19\n",
            "Discriminator loss: 0.5218319296836853\n",
            "[Epoch 63] train loss: 0.000; train acc: 1.00; test loss: 0.187; test acc: 0.20\n",
            "Discriminator loss: 0.4964682161808014\n",
            "[Epoch 64] train loss: 0.000; train acc: 1.00; test loss: 0.183; test acc: 0.19\n",
            "Discriminator loss: 0.4910176396369934\n",
            "[Epoch 65] train loss: 0.000; train acc: 1.00; test loss: 0.182; test acc: 0.19\n",
            "Discriminator loss: 0.5018564462661743\n",
            "[Epoch 66] train loss: 0.000; train acc: 1.00; test loss: 0.179; test acc: 0.20\n",
            "Discriminator loss: 0.4717060327529907\n",
            "[Epoch 67] train loss: 0.000; train acc: 1.00; test loss: 0.179; test acc: 0.20\n",
            "Discriminator loss: 0.4635731279850006\n",
            "[Epoch 68] train loss: 0.000; train acc: 1.00; test loss: 0.180; test acc: 0.20\n",
            "Discriminator loss: 0.45449018478393555\n",
            "[Epoch 69] train loss: 0.000; train acc: 1.00; test loss: 0.180; test acc: 0.20\n",
            "Discriminator loss: 0.43662574887275696\n",
            "[Epoch 70] train loss: 0.000; train acc: 1.00; test loss: 0.190; test acc: 0.19\n",
            "Discriminator loss: 0.4433457851409912\n",
            "[Epoch 71] train loss: 0.000; train acc: 1.00; test loss: 0.187; test acc: 0.19\n",
            "Discriminator loss: 0.4277695417404175\n",
            "[Epoch 72] train loss: 0.003; train acc: 0.99; test loss: 0.206; test acc: 0.17\n",
            "Discriminator loss: 0.4212956428527832\n",
            "[Epoch 73] train loss: 0.001; train acc: 1.00; test loss: 0.182; test acc: 0.20\n",
            "Discriminator loss: 0.4153907299041748\n",
            "[Epoch 74] train loss: 0.000; train acc: 1.00; test loss: 0.181; test acc: 0.22\n",
            "Discriminator loss: 0.403422474861145\n",
            "[Epoch 75] train loss: 0.001; train acc: 1.00; test loss: 0.185; test acc: 0.21\n",
            "Discriminator loss: 0.4116477072238922\n",
            "[Epoch 76] train loss: 0.000; train acc: 1.00; test loss: 0.185; test acc: 0.20\n",
            "Discriminator loss: 0.3907148838043213\n",
            "[Epoch 77] train loss: 0.000; train acc: 1.00; test loss: 0.184; test acc: 0.20\n",
            "Discriminator loss: 0.37629786133766174\n",
            "[Epoch 78] train loss: 0.000; train acc: 1.00; test loss: 0.182; test acc: 0.21\n",
            "Discriminator loss: 0.37762826681137085\n",
            "[Epoch 79] train loss: 0.000; train acc: 1.00; test loss: 0.180; test acc: 0.21\n",
            "Discriminator loss: 0.37254974246025085\n",
            "[Epoch 80] train loss: 0.000; train acc: 1.00; test loss: 0.180; test acc: 0.21\n",
            "Discriminator loss: 0.37729325890541077\n",
            "[Epoch 81] train loss: 0.000; train acc: 1.00; test loss: 0.180; test acc: 0.21\n",
            "Discriminator loss: 0.3538322150707245\n",
            "[Epoch 82] train loss: 0.000; train acc: 1.00; test loss: 0.180; test acc: 0.21\n",
            "Discriminator loss: 0.3424225449562073\n",
            "[Epoch 83] train loss: 0.000; train acc: 1.00; test loss: 0.180; test acc: 0.21\n",
            "Discriminator loss: 0.33451056480407715\n",
            "[Epoch 84] train loss: 0.000; train acc: 1.00; test loss: 0.180; test acc: 0.21\n",
            "Discriminator loss: 0.3454541862010956\n",
            "[Epoch 85] train loss: 0.000; train acc: 1.00; test loss: 0.184; test acc: 0.21\n",
            "Discriminator loss: 0.32960373163223267\n",
            "[Epoch 86] train loss: 0.000; train acc: 1.00; test loss: 0.189; test acc: 0.21\n",
            "Discriminator loss: 0.3926045298576355\n",
            "[Epoch 87] train loss: 0.000; train acc: 1.00; test loss: 0.189; test acc: 0.21\n",
            "Discriminator loss: 0.3168225884437561\n",
            "[Epoch 88] train loss: 0.003; train acc: 0.99; test loss: 0.215; test acc: 0.18\n",
            "Discriminator loss: 0.3080117106437683\n",
            "[Epoch 89] train loss: 0.001; train acc: 1.00; test loss: 0.206; test acc: 0.20\n",
            "Discriminator loss: 0.298495888710022\n",
            "[Epoch 90] train loss: 0.002; train acc: 1.00; test loss: 0.201; test acc: 0.21\n",
            "Discriminator loss: 0.29803821444511414\n",
            "[Epoch 91] train loss: 0.004; train acc: 0.99; test loss: 0.212; test acc: 0.19\n",
            "Discriminator loss: 0.28687959909439087\n",
            "[Epoch 92] train loss: 0.005; train acc: 0.99; test loss: 0.233; test acc: 0.17\n",
            "Discriminator loss: 0.28583604097366333\n",
            "[Epoch 93] train loss: 0.001; train acc: 1.00; test loss: 0.225; test acc: 0.17\n",
            "Discriminator loss: 0.2992249131202698\n",
            "[Epoch 94] train loss: 0.000; train acc: 1.00; test loss: 0.210; test acc: 0.18\n",
            "Discriminator loss: 0.27601388096809387\n",
            "[Epoch 95] train loss: 0.004; train acc: 0.99; test loss: 0.209; test acc: 0.19\n",
            "Discriminator loss: 0.27560561895370483\n",
            "[Epoch 96] train loss: 0.011; train acc: 0.96; test loss: 0.231; test acc: 0.18\n",
            "Discriminator loss: 0.3037987947463989\n",
            "[Epoch 97] train loss: 0.003; train acc: 1.00; test loss: 0.212; test acc: 0.20\n",
            "Discriminator loss: 0.26095134019851685\n",
            "[Epoch 98] train loss: 0.002; train acc: 1.00; test loss: 0.200; test acc: 0.20\n",
            "Discriminator loss: 0.25757551193237305\n",
            "[Epoch 99] train loss: 0.005; train acc: 0.99; test loss: 0.199; test acc: 0.19\n",
            "Discriminator loss: 0.2516879141330719\n",
            "[Epoch 100] train loss: 0.002; train acc: 1.00; test loss: 0.205; test acc: 0.19\n",
            "Discriminator loss: 0.2535479664802551\n"
          ]
        }
      ]
    },
    {
      "cell_type": "code",
      "source": [
        ""
      ],
      "metadata": {
        "id": "bRXm3qn_b5ur"
      },
      "execution_count": null,
      "outputs": []
    }
  ]
}