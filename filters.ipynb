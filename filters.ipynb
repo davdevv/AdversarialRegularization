{
  "nbformat": 4,
  "nbformat_minor": 0,
  "metadata": {
    "colab": {
      "name": "filters.ipynb",
      "provenance": [],
      "collapsed_sections": [],
      "authorship_tag": "ABX9TyNVF7NGfX9R4I5YAJRIInfl",
      "include_colab_link": true
    },
    "kernelspec": {
      "name": "python3",
      "display_name": "Python 3"
    },
    "language_info": {
      "name": "python"
    }
  },
  "cells": [
    {
      "cell_type": "markdown",
      "metadata": {
        "id": "view-in-github",
        "colab_type": "text"
      },
      "source": [
        "<a href=\"https://colab.research.google.com/github/realfolkcode/AdversarialRegularization/blob/main/filters.ipynb\" target=\"_parent\"><img src=\"https://colab.research.google.com/assets/colab-badge.svg\" alt=\"Open In Colab\"/></a>"
      ]
    },
    {
      "cell_type": "markdown",
      "source": [
        "# Install and import"
      ],
      "metadata": {
        "id": "xroV2mE8Aqjf"
      }
    },
    {
      "cell_type": "code",
      "execution_count": 1,
      "metadata": {
        "id": "Vr0z-_t8jzJO"
      },
      "outputs": [],
      "source": [
        "import os\n",
        "import torch\n",
        "import torchvision\n",
        "from torch import nn\n",
        "from torch.utils.data import Dataset, DataLoader\n",
        "import numpy as np\n",
        "import matplotlib.pyplot as plt\n",
        "%matplotlib inline\n",
        "\n",
        "device = torch.device('cuda:0' if torch.cuda.is_available() else 'cpu')"
      ]
    },
    {
      "cell_type": "code",
      "source": [
        "!git clone https://github.com/realfolkcode/AdversarialRegularization.git"
      ],
      "metadata": {
        "colab": {
          "base_uri": "https://localhost:8080/"
        },
        "id": "sETUwJ7aVC-2",
        "outputId": "470570f0-aeed-45d3-93b4-bf669b166468"
      },
      "execution_count": 2,
      "outputs": [
        {
          "output_type": "stream",
          "name": "stdout",
          "text": [
            "Cloning into 'AdversarialRegularization'...\n",
            "remote: Enumerating objects: 41, done.\u001b[K\n",
            "remote: Counting objects: 100% (41/41), done.\u001b[K\n",
            "remote: Compressing objects: 100% (34/34), done.\u001b[K\n",
            "remote: Total 41 (delta 15), reused 17 (delta 4), pack-reused 0\u001b[K\n",
            "Unpacking objects: 100% (41/41), done.\n"
          ]
        }
      ]
    },
    {
      "cell_type": "code",
      "source": [
        "from AdversarialRegularization.utils import set_random_seeds"
      ],
      "metadata": {
        "id": "Vf-LLike5WXP"
      },
      "execution_count": 3,
      "outputs": []
    },
    {
      "cell_type": "markdown",
      "source": [
        "# Loading Models"
      ],
      "metadata": {
        "id": "yylNEvxPGpnO"
      }
    },
    {
      "cell_type": "code",
      "source": [
        "class CNN(nn.Module):\n",
        "    def __init__(self, num_classes=100):\n",
        "        super(CNN, self).__init__()\n",
        "        self.features = nn.Sequential(\n",
        "            nn.Conv2d(3, 64, kernel_size=(7, 7), stride=(2, 2), padding=(3, 3), bias=False),\n",
        "            nn.BatchNorm2d(64),\n",
        "            nn.ReLU(),\n",
        "\n",
        "            nn.Conv2d(64, 128, kernel_size=(5, 5), stride=(2, 2), padding=(2, 2), bias=False),\n",
        "            nn.BatchNorm2d(128),\n",
        "            nn.ReLU(),\n",
        "\n",
        "            nn.Conv2d(128, 128, kernel_size=(5, 5), stride=(2, 2), padding=(2, 2), bias=False),\n",
        "            nn.BatchNorm2d(128),\n",
        "            nn.ReLU(),\n",
        "\n",
        "            nn.Conv2d(128, 256, kernel_size=(3, 3), stride=(2, 2), padding=(1, 1), bias=False),\n",
        "            nn.BatchNorm2d(256),\n",
        "            nn.ReLU(),\n",
        "        )\n",
        "        self.classifier = nn.Sequential(\n",
        "            nn.AdaptiveAvgPool2d(1),\n",
        "            nn.Flatten(),\n",
        "            nn.Linear(256, num_classes)\n",
        "        )\n",
        "\n",
        "    def forward(self, x):\n",
        "        batch_size = x.shape[0]\n",
        "        x = self.features(x)\n",
        "        x = self.classifier(x)\n",
        "        return x"
      ],
      "metadata": {
        "id": "TK3TxdITVIN6"
      },
      "execution_count": 4,
      "outputs": []
    },
    {
      "cell_type": "markdown",
      "source": [
        "We want to collect good filters. For that purpose, we load models that have been trained on a large dataset. These models differ only in initial weight initialization."
      ],
      "metadata": {
        "id": "8b0Uh7V_C9t9"
      }
    },
    {
      "cell_type": "code",
      "source": [
        "model_dir = 'AdversarialRegularization/models/'\n",
        "model_lst = []\n",
        "\n",
        "for model_name in os.listdir('AdversarialRegularization/models/'):\n",
        "    model_path = os.path.join(model_dir, model_name)\n",
        "    model = CNN(num_classes=100)\n",
        "    model.load_state_dict(torch.load(model_path, map_location='cpu'))\n",
        "    model_lst.append(model)"
      ],
      "metadata": {
        "id": "VtL_v--EAofB"
      },
      "execution_count": 5,
      "outputs": []
    },
    {
      "cell_type": "code",
      "source": [
        "model_lst[0]"
      ],
      "metadata": {
        "colab": {
          "base_uri": "https://localhost:8080/"
        },
        "id": "2DfSecfAVNvU",
        "outputId": "54345b2b-33e7-47a5-8322-6efeed8a1776"
      },
      "execution_count": 6,
      "outputs": [
        {
          "output_type": "execute_result",
          "data": {
            "text/plain": [
              "CNN(\n",
              "  (features): Sequential(\n",
              "    (0): Conv2d(3, 64, kernel_size=(7, 7), stride=(2, 2), padding=(3, 3), bias=False)\n",
              "    (1): BatchNorm2d(64, eps=1e-05, momentum=0.1, affine=True, track_running_stats=True)\n",
              "    (2): ReLU()\n",
              "    (3): Conv2d(64, 128, kernel_size=(5, 5), stride=(2, 2), padding=(2, 2), bias=False)\n",
              "    (4): BatchNorm2d(128, eps=1e-05, momentum=0.1, affine=True, track_running_stats=True)\n",
              "    (5): ReLU()\n",
              "    (6): Conv2d(128, 128, kernel_size=(5, 5), stride=(2, 2), padding=(2, 2), bias=False)\n",
              "    (7): BatchNorm2d(128, eps=1e-05, momentum=0.1, affine=True, track_running_stats=True)\n",
              "    (8): ReLU()\n",
              "    (9): Conv2d(128, 256, kernel_size=(3, 3), stride=(2, 2), padding=(1, 1), bias=False)\n",
              "    (10): BatchNorm2d(256, eps=1e-05, momentum=0.1, affine=True, track_running_stats=True)\n",
              "    (11): ReLU()\n",
              "  )\n",
              "  (classifier): Sequential(\n",
              "    (0): AdaptiveAvgPool2d(output_size=1)\n",
              "    (1): Flatten(start_dim=1, end_dim=-1)\n",
              "    (2): Linear(in_features=256, out_features=100, bias=True)\n",
              "  )\n",
              ")"
            ]
          },
          "metadata": {},
          "execution_count": 6
        }
      ]
    },
    {
      "cell_type": "code",
      "source": [
        "print('Number of models:', len(model_lst))"
      ],
      "metadata": {
        "colab": {
          "base_uri": "https://localhost:8080/"
        },
        "id": "1sqTHeArB5w4",
        "outputId": "d8d3188a-91b4-47ea-d10b-ba4395dafddb"
      },
      "execution_count": 7,
      "outputs": [
        {
          "output_type": "stream",
          "name": "stdout",
          "text": [
            "Number of models: 3\n"
          ]
        }
      ]
    },
    {
      "cell_type": "markdown",
      "source": [
        "# Filter Dataset"
      ],
      "metadata": {
        "id": "VQIxvF74Gtf9"
      }
    },
    {
      "cell_type": "markdown",
      "source": [
        "Let us create a class for filters dataset to make life easier. We will use it to train discriminators. As input, it would take a list of convolution layers (kernel sizes must be the same)."
      ],
      "metadata": {
        "id": "s2JgDDoWCkdB"
      }
    },
    {
      "cell_type": "code",
      "source": [
        "class FilterDataset(Dataset):\n",
        "    def __init__(self, layer_lst):\n",
        "        self.kernels = [layer.weight.data.clone() for layer in layer_lst]\n",
        "        self.kernels = torch.cat(self.kernels)\n",
        "        c_out, c_in, h, w = self.kernels.shape\n",
        "        self.kernels = self.kernels.view(c_out * c_in, -1, h, w)\n",
        "    \n",
        "    def __len__(self):\n",
        "        return len(self.kernels)\n",
        "    \n",
        "    def __getitem__(self, idx):\n",
        "        return self.kernels[idx]"
      ],
      "metadata": {
        "id": "jG88TQK0sSy-"
      },
      "execution_count": 8,
      "outputs": []
    },
    {
      "cell_type": "code",
      "source": [
        "model_lst[0].features[0]"
      ],
      "metadata": {
        "colab": {
          "base_uri": "https://localhost:8080/"
        },
        "id": "7H03NnZSD6JX",
        "outputId": "6517b7c8-6c45-40c5-dec3-1c91e6bca198"
      },
      "execution_count": 9,
      "outputs": [
        {
          "output_type": "execute_result",
          "data": {
            "text/plain": [
              "Conv2d(3, 64, kernel_size=(7, 7), stride=(2, 2), padding=(3, 3), bias=False)"
            ]
          },
          "metadata": {},
          "execution_count": 9
        }
      ]
    },
    {
      "cell_type": "code",
      "source": [
        "RANDOM_SEED = 0\n",
        "set_random_seeds(seed_value=RANDOM_SEED, device=device)"
      ],
      "metadata": {
        "id": "XU8Xbs0-5e6x"
      },
      "execution_count": 10,
      "outputs": []
    },
    {
      "cell_type": "code",
      "source": [
        "filters_data = []\n",
        "filters_loader = []\n",
        "\n",
        "# Create datasets for 7x7, 5x5, 5x5 kernels from corresponding convolution layers \n",
        "filters_data.append(FilterDataset([model.features[0] for model in model_lst]))\n",
        "filters_data.append(FilterDataset([model_lst[0].features[3]]))\n",
        "filters_data.append(FilterDataset([model_lst[0].features[6]]))\n",
        "\n",
        "# Create dataloaders for filters datasets\n",
        "for i in range(len(filters_data)):\n",
        "    filters_loader.append(DataLoader(filters_data[i], batch_size=32, shuffle=True))"
      ],
      "metadata": {
        "id": "gFW7Zxex0aEl"
      },
      "execution_count": 11,
      "outputs": []
    },
    {
      "cell_type": "code",
      "source": [
        "for i in range(len(filters_loader)):\n",
        "    print(f'Filter Dataset {i} size: {len(filters_loader[i].dataset)}')"
      ],
      "metadata": {
        "colab": {
          "base_uri": "https://localhost:8080/"
        },
        "id": "dCd0E9dUF568",
        "outputId": "18103188-54ca-4cdb-8679-7434867f55c0"
      },
      "execution_count": 12,
      "outputs": [
        {
          "output_type": "stream",
          "name": "stdout",
          "text": [
            "Filter Dataset 0 size: 576\n",
            "Filter Dataset 1 size: 8192\n",
            "Filter Dataset 2 size: 16384\n"
          ]
        }
      ]
    },
    {
      "cell_type": "markdown",
      "source": [
        "Now, we can iterate over filters dataset."
      ],
      "metadata": {
        "id": "nOIhFWYOERw-"
      }
    },
    {
      "cell_type": "code",
      "source": [
        "for batch in filters_loader[0]:\n",
        "    print(batch)\n",
        "    break"
      ],
      "metadata": {
        "colab": {
          "base_uri": "https://localhost:8080/"
        },
        "id": "_jMEiayw6sjK",
        "outputId": "625ec0fc-d51b-46c7-a236-379f762bf336"
      },
      "execution_count": 13,
      "outputs": [
        {
          "output_type": "stream",
          "name": "stdout",
          "text": [
            "tensor([[[[ 0.0310,  0.0786,  0.0807,  ..., -0.0409,  0.0343, -0.0527],\n",
            "          [ 0.0884,  0.0508, -0.1482,  ...,  0.0682, -0.0750,  0.0354],\n",
            "          [-0.0207, -0.2354, -0.1533,  ...,  0.1396,  0.0747,  0.0257],\n",
            "          ...,\n",
            "          [-0.0396,  0.1509,  0.3189,  ..., -0.2305, -0.1155, -0.0246],\n",
            "          [ 0.0824,  0.1110, -0.0192,  ..., -0.1338, -0.0108,  0.1167],\n",
            "          [-0.0386, -0.0329, -0.1152,  ...,  0.1159,  0.1210, -0.0037]]],\n",
            "\n",
            "\n",
            "        [[[-0.0595, -0.0003,  0.0029,  ...,  0.0292, -0.1154,  0.0148],\n",
            "          [ 0.0812, -0.0019, -0.0890,  ..., -0.0564,  0.2386,  0.1367],\n",
            "          [ 0.0049, -0.0212,  0.2077,  ..., -0.2463, -0.0751,  0.1012],\n",
            "          ...,\n",
            "          [-0.0928, -0.0724, -0.0339,  ...,  0.0937,  0.0996,  0.0656],\n",
            "          [ 0.0315, -0.0428,  0.1124,  ..., -0.1575, -0.0373, -0.0284],\n",
            "          [ 0.0319,  0.0554, -0.1036,  ...,  0.0750, -0.0308, -0.0317]]],\n",
            "\n",
            "\n",
            "        [[[ 0.1383,  0.1474,  0.0686,  ..., -0.1320, -0.1571, -0.1647],\n",
            "          [ 0.2295,  0.2575,  0.1743,  ..., -0.1111, -0.2715, -0.2680],\n",
            "          [ 0.2027,  0.1356,  0.1496,  ..., -0.1061, -0.1849, -0.2474],\n",
            "          ...,\n",
            "          [-0.1920, -0.0750, -0.1373,  ...,  0.1203,  0.1275,  0.1307],\n",
            "          [-0.2353, -0.1974, -0.1261,  ...,  0.0662,  0.2526,  0.2187],\n",
            "          [-0.1725, -0.1927, -0.0949,  ...,  0.0954,  0.1982,  0.2437]]],\n",
            "\n",
            "\n",
            "        ...,\n",
            "\n",
            "\n",
            "        [[[ 0.2490,  0.1549,  0.0839,  ...,  0.0491,  0.0567,  0.0232],\n",
            "          [ 0.2928,  0.1668,  0.0905,  ..., -0.0520, -0.1758, -0.1853],\n",
            "          [ 0.1862,  0.1619,  0.0543,  ..., -0.2135, -0.2235, -0.2473],\n",
            "          ...,\n",
            "          [ 0.2428,  0.0948, -0.0072,  ..., -0.1579, -0.2579, -0.2755],\n",
            "          [ 0.1967,  0.1441,  0.0474,  ..., -0.0389, -0.1946, -0.1940],\n",
            "          [ 0.1011,  0.1335,  0.0198,  ...,  0.0495, -0.0380, -0.0488]]],\n",
            "\n",
            "\n",
            "        [[[-0.1122, -0.1250, -0.1365,  ..., -0.0940, -0.0709, -0.0476],\n",
            "          [-0.0403, -0.0922,  0.0393,  ...,  0.0221,  0.0202,  0.0107],\n",
            "          [-0.0488, -0.0813,  0.0413,  ..., -0.0055, -0.0015,  0.0872],\n",
            "          ...,\n",
            "          [ 0.0114, -0.0290,  0.0091,  ...,  0.2092,  0.0971,  0.1380],\n",
            "          [-0.0351, -0.0446,  0.0006,  ...,  0.1448,  0.0970,  0.0888],\n",
            "          [-0.0173, -0.0895, -0.0394,  ...,  0.0575,  0.0516,  0.0660]]],\n",
            "\n",
            "\n",
            "        [[[-0.0593,  0.0654, -0.0137,  ...,  0.0449, -0.0476, -0.0286],\n",
            "          [ 0.0454,  0.0555,  0.0777,  ...,  0.0540, -0.0894, -0.0563],\n",
            "          [ 0.0426,  0.0621, -0.0419,  ..., -0.0354, -0.0064, -0.1718],\n",
            "          ...,\n",
            "          [-0.0322,  0.1551,  0.0906,  ..., -0.0763, -0.1018, -0.2049],\n",
            "          [-0.0121,  0.1046, -0.0342,  ..., -0.0073, -0.0128, -0.0662],\n",
            "          [-0.0586,  0.0987, -0.0423,  ...,  0.0056,  0.0376, -0.0318]]]])\n"
          ]
        }
      ]
    },
    {
      "cell_type": "markdown",
      "source": [
        "We can also visualize kernels to check if our dataset contains patterns."
      ],
      "metadata": {
        "id": "Q2XvwREqEvv0"
      }
    },
    {
      "cell_type": "code",
      "source": [
        "def plot_kernels(loader, nrow=8):\n",
        "    dataiter = iter(loader)\n",
        "    batch = dataiter.next()\n",
        "    rows = np.min((batch.shape[0] // nrow + 1, 64))    \n",
        "    grid = torchvision.utils.make_grid(batch, nrow=nrow, normalize=True, padding=1)\n",
        "    plt.figure(figsize=(nrow,rows))\n",
        "    plt.imshow(grid.numpy().transpose((1, 2, 0)))"
      ],
      "metadata": {
        "id": "CkzWBZF27IEY"
      },
      "execution_count": 14,
      "outputs": []
    },
    {
      "cell_type": "code",
      "source": [
        "plot_kernels(filters_loader[0], nrow=9)"
      ],
      "metadata": {
        "colab": {
          "base_uri": "https://localhost:8080/",
          "height": 266
        },
        "id": "-W9ZZ2t899cw",
        "outputId": "a68fe18e-4ebe-4a12-df3a-754e07a3d35a"
      },
      "execution_count": 15,
      "outputs": [
        {
          "output_type": "display_data",
          "data": {
            "text/plain": [
              "<Figure size 648x288 with 1 Axes>"
            ],
            "image/png": "[encoded data removed]"
          },
          "metadata": {
            "needs_background": "light"
          }
        }
      ]
    },
    {
      "cell_type": "code",
      "source": [
        "plot_kernels(filters_loader[1], nrow=9)"
      ],
      "metadata": {
        "colab": {
          "base_uri": "https://localhost:8080/",
          "height": 265
        },
        "id": "mvD4SEIO37pG",
        "outputId": "b4ad111c-ae54-42a0-9a03-ddb2f072e38f"
      },
      "execution_count": 16,
      "outputs": [
        {
          "output_type": "display_data",
          "data": {
            "text/plain": [
              "<Figure size 648x288 with 1 Axes>"
            ],
            "image/png": "[encoded data removed]"
          },
          "metadata": {
            "needs_background": "light"
          }
        }
      ]
    },
    {
      "cell_type": "code",
      "source": [
        "plot_kernels(filters_loader[2], nrow=9)"
      ],
      "metadata": {
        "colab": {
          "base_uri": "https://localhost:8080/",
          "height": 265
        },
        "id": "CvaScDHK3_12",
        "outputId": "dcfe5f0f-2a69-4fa3-8ad0-655033f27b83"
      },
      "execution_count": 17,
      "outputs": [
        {
          "output_type": "display_data",
          "data": {
            "text/plain": [
              "<Figure size 648x288 with 1 Axes>"
            ],
            "image/png": "[encoded data removed]"
          },
          "metadata": {
            "needs_background": "light"
          }
        }
      ]
    },
    {
      "cell_type": "markdown",
      "source": [
        "# Discriminators"
      ],
      "metadata": {
        "id": "JItH2pud405D"
      }
    },
    {
      "cell_type": "code",
      "source": [
        "# custom weights initialization called on netG and netD\n",
        "def weights_init(m):\n",
        "    classname = m.__class__.__name__\n",
        "    if classname.find('Conv') != -1:\n",
        "        nn.init.normal_(m.weight.data, 0.0, 0.02)\n",
        "    elif classname.find('BatchNorm') != -1:\n",
        "        nn.init.normal_(m.weight.data, 1.0, 0.02)\n",
        "        nn.init.constant_(m.bias.data, 0)"
      ],
      "metadata": {
        "id": "a1pzJWOM42wu"
      },
      "execution_count": 18,
      "outputs": []
    },
    {
      "cell_type": "code",
      "source": [
        "class Discriminator(nn.Module):\n",
        "    def __init__(self):\n",
        "        super(Discriminator, self).__init__()\n",
        "        self.main = nn.Sequential(\n",
        "            nn.Conv2d(1, 64, kernel_size=(3, 3), padding=(1, 1), bias=False),\n",
        "            nn.BatchNorm2d(64),\n",
        "            nn.LeakyReLU(0.2, inplace=True),\n",
        "\n",
        "            nn.Conv2d(64, 128, kernel_size=(3, 3), padding=(1, 1), bias=False),\n",
        "            nn.BatchNorm2d(128),\n",
        "            nn.LeakyReLU(0.2, inplace=True),\n",
        "\n",
        "            nn.Conv2d(128, 1, kernel_size=(3, 3), padding=(1, 1), bias=False),\n",
        "            nn.Sigmoid()\n",
        "        )\n",
        "    \n",
        "    def forward(self, input):\n",
        "        return self.main(input)"
      ],
      "metadata": {
        "id": "6Kybg1Lm5OvK"
      },
      "execution_count": 19,
      "outputs": []
    },
    {
      "cell_type": "code",
      "source": [
        "RANDOM_SEED = 0\n",
        "set_random_seeds(seed_value=RANDOM_SEED, device=device)\n",
        "\n",
        "netD = Discriminator().to(device)\n",
        "netD.apply(weights_init)\n",
        "print('Number of weights:', np.sum([np.prod(p.shape) for p in netD.parameters()]))"
      ],
      "metadata": {
        "colab": {
          "base_uri": "https://localhost:8080/"
        },
        "id": "7NTyOdJC5QQ2",
        "outputId": "9d5a6a48-e041-4ee7-a201-ec137428c29f"
      },
      "execution_count": 20,
      "outputs": [
        {
          "output_type": "stream",
          "name": "stdout",
          "text": [
            "Number of weights: 75840\n"
          ]
        }
      ]
    },
    {
      "cell_type": "code",
      "source": [
        "netD"
      ],
      "metadata": {
        "colab": {
          "base_uri": "https://localhost:8080/"
        },
        "id": "ZOfF9Xm_5uf-",
        "outputId": "2b3ba4f4-1e95-4149-8562-05a2e6dc3486"
      },
      "execution_count": 21,
      "outputs": [
        {
          "output_type": "execute_result",
          "data": {
            "text/plain": [
              "Discriminator(\n",
              "  (main): Sequential(\n",
              "    (0): Conv2d(1, 64, kernel_size=(3, 3), stride=(1, 1), padding=(1, 1), bias=False)\n",
              "    (1): BatchNorm2d(64, eps=1e-05, momentum=0.1, affine=True, track_running_stats=True)\n",
              "    (2): LeakyReLU(negative_slope=0.2, inplace=True)\n",
              "    (3): Conv2d(64, 128, kernel_size=(3, 3), stride=(1, 1), padding=(1, 1), bias=False)\n",
              "    (4): BatchNorm2d(128, eps=1e-05, momentum=0.1, affine=True, track_running_stats=True)\n",
              "    (5): LeakyReLU(negative_slope=0.2, inplace=True)\n",
              "    (6): Conv2d(128, 1, kernel_size=(3, 3), stride=(1, 1), padding=(1, 1), bias=False)\n",
              "    (7): Sigmoid()\n",
              "  )\n",
              ")"
            ]
          },
          "metadata": {},
          "execution_count": 21
        }
      ]
    },
    {
      "cell_type": "code",
      "source": [
        "netD(torch.ones((1, 1, 7, 7))).shape"
      ],
      "metadata": {
        "colab": {
          "base_uri": "https://localhost:8080/"
        },
        "id": "xbdX3dq15vvS",
        "outputId": "419a2748-15d9-44b6-8cb7-8c9b1d62fcb0"
      },
      "execution_count": 22,
      "outputs": [
        {
          "output_type": "execute_result",
          "data": {
            "text/plain": [
              "torch.Size([1, 1, 7, 7])"
            ]
          },
          "metadata": {},
          "execution_count": 22
        }
      ]
    },
    {
      "cell_type": "code",
      "source": [
        ""
      ],
      "metadata": {
        "id": "qY2AgYJZ6cxP"
      },
      "execution_count": null,
      "outputs": []
    }
  ]
}